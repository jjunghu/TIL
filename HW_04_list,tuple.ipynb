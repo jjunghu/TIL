{
 "cells": [
  {
   "cell_type": "markdown",
   "id": "ac654fb8",
   "metadata": {},
   "source": [
    "# 리스트, 튜플 만들기"
   ]
  },
  {
   "cell_type": "markdown",
   "id": "f1432cad",
   "metadata": {},
   "source": [
    "## 리스트 만들기"
   ]
  },
  {
   "cell_type": "code",
   "execution_count": 1,
   "id": "3915c7f6",
   "metadata": {},
   "outputs": [
    {
     "data": {
      "text/plain": [
       "[]"
      ]
     },
     "execution_count": 1,
     "metadata": {},
     "output_type": "execute_result"
    }
   ],
   "source": [
    "# []를 사용하여 빈 리스트 만들기\n",
    "\n",
    "l1 = []\n",
    "l1"
   ]
  },
  {
   "cell_type": "code",
   "execution_count": 2,
   "id": "46dddfd9",
   "metadata": {},
   "outputs": [
    {
     "data": {
      "text/plain": [
       "[]"
      ]
     },
     "execution_count": 2,
     "metadata": {},
     "output_type": "execute_result"
    }
   ],
   "source": [
    "# list() 함수를 사용하여 빈 리스트 만들기\n",
    "\n",
    "l2 = list()\n",
    "l2"
   ]
  },
  {
   "cell_type": "code",
   "execution_count": 4,
   "id": "2523d122",
   "metadata": {},
   "outputs": [
    {
     "data": {
      "text/plain": [
       "[1, 3, 5, 7, 9]"
      ]
     },
     "execution_count": 4,
     "metadata": {},
     "output_type": "execute_result"
    }
   ],
   "source": [
    "# []를 사용하여 초기값이 있는 리스트 만들기\n",
    "\n",
    "l3 = [1, 3, 5, 7, 9]\n",
    "l3"
   ]
  },
  {
   "cell_type": "code",
   "execution_count": 5,
   "id": "cb5b5bd3",
   "metadata": {},
   "outputs": [
    {
     "data": {
      "text/plain": [
       "[1,\n",
       " 3,\n",
       " 5,\n",
       " 7,\n",
       " 9,\n",
       " 11,\n",
       " 13,\n",
       " 15,\n",
       " 17,\n",
       " 19,\n",
       " 21,\n",
       " 23,\n",
       " 25,\n",
       " 27,\n",
       " 29,\n",
       " 31,\n",
       " 33,\n",
       " 35,\n",
       " 37,\n",
       " 39,\n",
       " 41,\n",
       " 43,\n",
       " 45,\n",
       " 47,\n",
       " 49,\n",
       " 51,\n",
       " 53,\n",
       " 55,\n",
       " 57,\n",
       " 59,\n",
       " 61,\n",
       " 63,\n",
       " 65,\n",
       " 67,\n",
       " 69,\n",
       " 71,\n",
       " 73,\n",
       " 75,\n",
       " 77,\n",
       " 79,\n",
       " 81,\n",
       " 83,\n",
       " 85,\n",
       " 87,\n",
       " 89,\n",
       " 91,\n",
       " 93,\n",
       " 95,\n",
       " 97,\n",
       " 99]"
      ]
     },
     "execution_count": 5,
     "metadata": {},
     "output_type": "execute_result"
    }
   ],
   "source": [
    "# list() 함수를 사용하여 초기값이 있는 리스트 만들기(규칙이 있는 정수값의 나열)\n",
    "\n",
    "l4 = list(range(1, 100, 2))\n",
    "l4"
   ]
  },
  {
   "cell_type": "markdown",
   "id": "6abf8125",
   "metadata": {},
   "source": [
    "## 튜플 만들기"
   ]
  },
  {
   "cell_type": "code",
   "execution_count": 6,
   "id": "db07b967",
   "metadata": {},
   "outputs": [
    {
     "data": {
      "text/plain": [
       "()"
      ]
     },
     "execution_count": 6,
     "metadata": {},
     "output_type": "execute_result"
    }
   ],
   "source": [
    "# ( )를 사용하여 빈 튜플 만들기\n",
    "\n",
    "t1 = ()\n",
    "t1"
   ]
  },
  {
   "cell_type": "code",
   "execution_count": 7,
   "id": "c06082e4",
   "metadata": {},
   "outputs": [
    {
     "data": {
      "text/plain": [
       "()"
      ]
     },
     "execution_count": 7,
     "metadata": {},
     "output_type": "execute_result"
    }
   ],
   "source": [
    "# tuple() 함수를 사용하여 빈 튜플 만들기\n",
    "\n",
    "t2 = tuple()\n",
    "t2"
   ]
  },
  {
   "cell_type": "code",
   "execution_count": 8,
   "id": "8053831f",
   "metadata": {},
   "outputs": [
    {
     "data": {
      "text/plain": [
       "(1, 3, 5, 7, 9)"
      ]
     },
     "execution_count": 8,
     "metadata": {},
     "output_type": "execute_result"
    }
   ],
   "source": [
    "# ( )에 초기값 지정하여 튜플 만들기\n",
    "\n",
    "t3 = (1, 3, 5, 7, 9)\n",
    "t3"
   ]
  },
  {
   "cell_type": "code",
   "execution_count": 10,
   "id": "a1dade40",
   "metadata": {},
   "outputs": [
    {
     "data": {
      "text/plain": [
       "(1,\n",
       " 3,\n",
       " 5,\n",
       " 7,\n",
       " 9,\n",
       " 11,\n",
       " 13,\n",
       " 15,\n",
       " 17,\n",
       " 19,\n",
       " 21,\n",
       " 23,\n",
       " 25,\n",
       " 27,\n",
       " 29,\n",
       " 31,\n",
       " 33,\n",
       " 35,\n",
       " 37,\n",
       " 39,\n",
       " 41,\n",
       " 43,\n",
       " 45,\n",
       " 47,\n",
       " 49,\n",
       " 51,\n",
       " 53,\n",
       " 55,\n",
       " 57,\n",
       " 59,\n",
       " 61,\n",
       " 63,\n",
       " 65,\n",
       " 67,\n",
       " 69,\n",
       " 71,\n",
       " 73,\n",
       " 75,\n",
       " 77,\n",
       " 79,\n",
       " 81,\n",
       " 83,\n",
       " 85,\n",
       " 87,\n",
       " 89,\n",
       " 91,\n",
       " 93,\n",
       " 95,\n",
       " 97,\n",
       " 99)"
      ]
     },
     "execution_count": 10,
     "metadata": {},
     "output_type": "execute_result"
    }
   ],
   "source": [
    "# tuple() 함수를 사용하여 초기값이 있는 튜플 만들기(규칙이 있는 정수값의 나열)\n",
    "\n",
    "t4 = tuple(range(1, 100, 2))\n",
    "t4"
   ]
  },
  {
   "cell_type": "code",
   "execution_count": 11,
   "id": "7c43cb94",
   "metadata": {},
   "outputs": [
    {
     "data": {
      "text/plain": [
       "(1, 3, 5, 7, 9)"
      ]
     },
     "execution_count": 11,
     "metadata": {},
     "output_type": "execute_result"
    }
   ],
   "source": [
    "# 튜플을 만들 때 괄호()를 생략할 수 있다.\n",
    "\n",
    "t5 = 1, 3, 5, 7, 9\n",
    "t5"
   ]
  },
  {
   "cell_type": "code",
   "execution_count": 12,
   "id": "2353ac5c",
   "metadata": {},
   "outputs": [
    {
     "name": "stdout",
     "output_type": "stream",
     "text": [
      "(1,)\n"
     ]
    },
    {
     "data": {
      "text/plain": [
       "tuple"
      ]
     },
     "execution_count": 12,
     "metadata": {},
     "output_type": "execute_result"
    }
   ],
   "source": [
    "# 항목이 1개일 때는 ,를 붙인다.\n",
    "\n",
    "t6 = (1, )\n",
    "print(t6)\n",
    "type(t6)"
   ]
  },
  {
   "cell_type": "code",
   "execution_count": 13,
   "id": "6882a4da",
   "metadata": {},
   "outputs": [
    {
     "name": "stdout",
     "output_type": "stream",
     "text": [
      "(1,)\n"
     ]
    },
    {
     "data": {
      "text/plain": [
       "tuple"
      ]
     },
     "execution_count": 13,
     "metadata": {},
     "output_type": "execute_result"
    }
   ],
   "source": [
    "t7 = 1,\n",
    "print(t7)\n",
    "type(t7)"
   ]
  },
  {
   "cell_type": "markdown",
   "id": "10d69d05",
   "metadata": {},
   "source": [
    "# 리스트, 튜플의 자료형\n",
    "* 모든 자료형이 혼합되어 들어갈 수 있다."
   ]
  },
  {
   "cell_type": "code",
   "execution_count": 14,
   "id": "9c48538b",
   "metadata": {},
   "outputs": [
    {
     "data": {
      "text/plain": [
       "['amy', 20, 165.5, ['독서', '코딩']]"
      ]
     },
     "execution_count": 14,
     "metadata": {},
     "output_type": "execute_result"
    }
   ],
   "source": [
    "myinfo = ['amy', 20, 165.5, ['독서', '코딩']]\n",
    "myinfo"
   ]
  },
  {
   "cell_type": "code",
   "execution_count": 15,
   "id": "312ea8e5",
   "metadata": {},
   "outputs": [
    {
     "data": {
      "text/plain": [
       "('amy', 20, 165.5, ['독서', '코딩'])"
      ]
     },
     "execution_count": 15,
     "metadata": {},
     "output_type": "execute_result"
    }
   ],
   "source": [
    "myinfo = ('amy', 20, 165.5, ['독서', '코딩'])\n",
    "myinfo"
   ]
  },
  {
   "cell_type": "markdown",
   "id": "a059a69d",
   "metadata": {},
   "source": [
    "# 리스트, 튜플 연결하기"
   ]
  },
  {
   "cell_type": "code",
   "execution_count": 16,
   "id": "807d8a49",
   "metadata": {},
   "outputs": [
    {
     "data": {
      "text/plain": [
       "['사과', '딸기', '포도', '포도', '수박']"
      ]
     },
     "execution_count": 16,
     "metadata": {},
     "output_type": "execute_result"
    }
   ],
   "source": [
    "l1 = ['사과','딸기','포도']\n",
    "l2 = ['포도','수박']\n",
    "\n",
    "l1 + l2"
   ]
  },
  {
   "cell_type": "code",
   "execution_count": 17,
   "id": "48cc3f63",
   "metadata": {},
   "outputs": [
    {
     "data": {
      "text/plain": [
       "('빨', '주', '노', '초', '파', '남', '보')"
      ]
     },
     "execution_count": 17,
     "metadata": {},
     "output_type": "execute_result"
    }
   ],
   "source": [
    "t1 = ('빨','주')\n",
    "t2 = ('노','초','파','남','보')\n",
    "\n",
    "t1 + t2"
   ]
  },
  {
   "cell_type": "markdown",
   "id": "7453cab1",
   "metadata": {},
   "source": [
    "# 리스트, 튜플 반복하기"
   ]
  },
  {
   "cell_type": "code",
   "execution_count": 18,
   "id": "a20b0ef0",
   "metadata": {},
   "outputs": [
    {
     "data": {
      "text/plain": [
       "['먹고', '자고', '먹고', '자고', '먹고', '자고', '먹고', '자고', '먹고', '자고']"
      ]
     },
     "execution_count": 18,
     "metadata": {},
     "output_type": "execute_result"
    }
   ],
   "source": [
    "l = ['먹고','자고']\n",
    "\n",
    "l * 5"
   ]
  },
  {
   "cell_type": "code",
   "execution_count": 19,
   "id": "9e9e00d5",
   "metadata": {},
   "outputs": [
    {
     "data": {
      "text/plain": [
       "('놀고', '먹고', '자고', '놀고', '먹고', '자고', '놀고', '먹고', '자고')"
      ]
     },
     "execution_count": 19,
     "metadata": {},
     "output_type": "execute_result"
    }
   ],
   "source": [
    "t = ('놀고','먹고','자고')\n",
    "\n",
    "t * 3"
   ]
  },
  {
   "cell_type": "markdown",
   "id": "21007a60",
   "metadata": {},
   "source": [
    "# 리스트, 튜플에 값 존재여부 확인\n",
    "* 멤버연산자 : in, not in"
   ]
  },
  {
   "cell_type": "code",
   "execution_count": 20,
   "id": "9b6090a4",
   "metadata": {},
   "outputs": [
    {
     "name": "stdout",
     "output_type": "stream",
     "text": [
      "True\n",
      "False\n",
      "False\n",
      "True\n"
     ]
    }
   ],
   "source": [
    "l = [1, 2, 3, 4, 5]\n",
    "\n",
    "print(5 in l)\n",
    "print(10 in l)\n",
    "\n",
    "print(5 not in l)\n",
    "print(10 not in l)"
   ]
  },
  {
   "cell_type": "code",
   "execution_count": 21,
   "id": "9ee69820",
   "metadata": {},
   "outputs": [
    {
     "name": "stdout",
     "output_type": "stream",
     "text": [
      "True\n",
      "False\n",
      "False\n",
      "True\n"
     ]
    }
   ],
   "source": [
    "t = (1, 2, 3, 4, 5)\n",
    "\n",
    "print(5 in t)\n",
    "print(10 in t)\n",
    "\n",
    "print(5 not in t)\n",
    "print(10 not in t)"
   ]
  },
  {
   "cell_type": "markdown",
   "id": "01f20b33",
   "metadata": {},
   "source": [
    "# 리스트, 튜플 항목의 갯수 구하기\n",
    "* len(리스트명)\n",
    "* len(튜플명)"
   ]
  },
  {
   "cell_type": "code",
   "execution_count": 22,
   "id": "d35d40e6",
   "metadata": {},
   "outputs": [
    {
     "data": {
      "text/plain": [
       "14"
      ]
     },
     "execution_count": 22,
     "metadata": {},
     "output_type": "execute_result"
    }
   ],
   "source": [
    "l = [1,3,2,4,3,5,7,8,77.7,88.8,'a','b','c',[10,20,30]]\n",
    "len(l)"
   ]
  },
  {
   "cell_type": "code",
   "execution_count": 23,
   "id": "ea1c92c1",
   "metadata": {},
   "outputs": [
    {
     "data": {
      "text/plain": [
       "2"
      ]
     },
     "execution_count": 23,
     "metadata": {},
     "output_type": "execute_result"
    }
   ],
   "source": [
    "t = ((1,2),[3,4])\n",
    "len(t)"
   ]
  },
  {
   "cell_type": "markdown",
   "id": "e1d41b52",
   "metadata": {},
   "source": [
    "# 인덱싱\n",
    "* 인덱스로 리스트, 튜플 항목 추출하기"
   ]
  },
  {
   "cell_type": "markdown",
   "id": "c27d9caa",
   "metadata": {},
   "source": [
    "## 리스트 인덱싱\n",
    "* 리스트명[인덱스]"
   ]
  },
  {
   "cell_type": "code",
   "execution_count": 24,
   "id": "c378c63a",
   "metadata": {},
   "outputs": [],
   "source": [
    "l1 = ['축구','농구','배구','야구','족구','발야구','피구']"
   ]
  },
  {
   "cell_type": "code",
   "execution_count": 25,
   "id": "df444bb8",
   "metadata": {},
   "outputs": [
    {
     "data": {
      "text/plain": [
       "7"
      ]
     },
     "execution_count": 25,
     "metadata": {},
     "output_type": "execute_result"
    }
   ],
   "source": [
    "# l1 항목수\n",
    "len(l1)"
   ]
  },
  {
   "cell_type": "code",
   "execution_count": 27,
   "id": "3e7c8dcf",
   "metadata": {},
   "outputs": [
    {
     "name": "stdout",
     "output_type": "stream",
     "text": [
      "축구\n",
      "축구\n"
     ]
    }
   ],
   "source": [
    "# '축구'\n",
    "\n",
    "print(l1[0])\n",
    "print(l1[-7])"
   ]
  },
  {
   "cell_type": "code",
   "execution_count": 28,
   "id": "137413b7",
   "metadata": {},
   "outputs": [
    {
     "name": "stdout",
     "output_type": "stream",
     "text": [
      "배구\n",
      "배구\n"
     ]
    }
   ],
   "source": [
    "# '배구'\n",
    "\n",
    "print(l1[2])\n",
    "print(l1[-5])"
   ]
  },
  {
   "cell_type": "code",
   "execution_count": 29,
   "id": "c596b48a",
   "metadata": {},
   "outputs": [
    {
     "name": "stdout",
     "output_type": "stream",
     "text": [
      "피구\n",
      "피구\n"
     ]
    }
   ],
   "source": [
    "# '피구'\n",
    "\n",
    "print(l1[6])\n",
    "print(l1[-1])"
   ]
  },
  {
   "cell_type": "markdown",
   "id": "a53fafad",
   "metadata": {},
   "source": [
    "## 튜플 인덱싱\n",
    "* 튜플명[인덱스]"
   ]
  },
  {
   "cell_type": "code",
   "execution_count": 30,
   "id": "d1a2f697",
   "metadata": {},
   "outputs": [],
   "source": [
    "t1 = ('스키','보드','스케이트','스케이트보드','수상스키','웨이크보드')"
   ]
  },
  {
   "cell_type": "code",
   "execution_count": 31,
   "id": "5708c885",
   "metadata": {},
   "outputs": [
    {
     "data": {
      "text/plain": [
       "6"
      ]
     },
     "execution_count": 31,
     "metadata": {},
     "output_type": "execute_result"
    }
   ],
   "source": [
    "# t1 항목수\n",
    "len(t1)"
   ]
  },
  {
   "cell_type": "code",
   "execution_count": 32,
   "id": "49c9f173",
   "metadata": {},
   "outputs": [
    {
     "name": "stdout",
     "output_type": "stream",
     "text": [
      "스키\n",
      "스키\n"
     ]
    }
   ],
   "source": [
    "# '스키'\n",
    "\n",
    "print(t1[0])\n",
    "print(t1[-6])"
   ]
  },
  {
   "cell_type": "code",
   "execution_count": 33,
   "id": "8150d347",
   "metadata": {},
   "outputs": [
    {
     "name": "stdout",
     "output_type": "stream",
     "text": [
      "웨이크보드\n",
      "웨이크보드\n"
     ]
    }
   ],
   "source": [
    "# '웨이크보드'\n",
    "\n",
    "print(t1[5])\n",
    "print(t1[-1])"
   ]
  },
  {
   "cell_type": "markdown",
   "id": "a8d4d244",
   "metadata": {},
   "source": [
    "## 중첩리스트 인덱싱"
   ]
  },
  {
   "cell_type": "code",
   "execution_count": 34,
   "id": "7223305c",
   "metadata": {},
   "outputs": [
    {
     "name": "stdout",
     "output_type": "stream",
     "text": [
      "수박\n"
     ]
    }
   ],
   "source": [
    "# 아래 리스트 l에서 '수박' 인덱싱하여 가져오기\n",
    "\n",
    "l2 = ['사과','오렌지','포도',['수박','바나나']]\n",
    "print(l2[3][0])"
   ]
  },
  {
   "cell_type": "code",
   "execution_count": 35,
   "id": "7d79940b",
   "metadata": {},
   "outputs": [
    {
     "name": "stdout",
     "output_type": "stream",
     "text": [
      "Life\n"
     ]
    }
   ],
   "source": [
    "# 아래 튜플 t에서 'Life' 인덱싱하여 가져오기\n",
    "\n",
    "t2 = (1,2,('a','b',('Life','is')))\n",
    "print(t2[2][2][0])"
   ]
  },
  {
   "cell_type": "markdown",
   "id": "5b85c475",
   "metadata": {},
   "source": [
    "# 슬라이싱\n",
    "* 리스트명[시작인덱스:끝인덱스:간격]\n",
    "* 튜플명[시작인덱스:끝인덱스:간격]"
   ]
  },
  {
   "cell_type": "code",
   "execution_count": 36,
   "id": "6ec302fd",
   "metadata": {},
   "outputs": [],
   "source": [
    "l1 = ['축구','농구','배구','야구','족구','발야구','피구'] "
   ]
  },
  {
   "cell_type": "code",
   "execution_count": 38,
   "id": "683216d2",
   "metadata": {},
   "outputs": [
    {
     "name": "stdout",
     "output_type": "stream",
     "text": [
      "['농구', '배구']\n"
     ]
    }
   ],
   "source": [
    "# ['농구','배구']\n",
    "\n",
    "print(l1[1:3])"
   ]
  },
  {
   "cell_type": "code",
   "execution_count": 40,
   "id": "90a6b0e3",
   "metadata": {},
   "outputs": [
    {
     "name": "stdout",
     "output_type": "stream",
     "text": [
      "['축구', '농구', '배구']\n",
      "['축구', '농구', '배구']\n"
     ]
    }
   ],
   "source": [
    "# ['축구','농구','배구']\n",
    "\n",
    "print(l1[0:3])\n",
    "print(l1[:3])"
   ]
  },
  {
   "cell_type": "code",
   "execution_count": 46,
   "id": "1f66c6e2",
   "metadata": {},
   "outputs": [
    {
     "name": "stdout",
     "output_type": "stream",
     "text": [
      "['족구', '발야구']\n",
      "['족구', '발야구']\n"
     ]
    }
   ],
   "source": [
    "# ['족구','발야구']\n",
    "\n",
    "print(l1[4:6])\n",
    "print(l1[-3:-1])"
   ]
  },
  {
   "cell_type": "code",
   "execution_count": 47,
   "id": "51a46e66",
   "metadata": {},
   "outputs": [
    {
     "name": "stdout",
     "output_type": "stream",
     "text": [
      "['족구', '발야구', '피구']\n",
      "['족구', '발야구', '피구']\n"
     ]
    }
   ],
   "source": [
    "# ['족구','발야구','피구']\n",
    "\n",
    "print(l1[4:7])\n",
    "print(l1[-3:])"
   ]
  },
  {
   "cell_type": "code",
   "execution_count": 48,
   "id": "80a3dcbe",
   "metadata": {},
   "outputs": [
    {
     "name": "stdout",
     "output_type": "stream",
     "text": [
      "['축구', '농구', '배구', '야구', '족구', '발야구', '피구']\n"
     ]
    }
   ],
   "source": [
    "# 모든 항목\n",
    "\n",
    "print(l1[:])"
   ]
  },
  {
   "cell_type": "code",
   "execution_count": 49,
   "id": "1d7a6530",
   "metadata": {},
   "outputs": [
    {
     "name": "stdout",
     "output_type": "stream",
     "text": [
      "['피구', '발야구', '족구', '야구', '배구', '농구', '축구']\n"
     ]
    }
   ],
   "source": [
    "# 모든 항목 역순으로\n",
    "\n",
    "print(l1[::-1]) # 뒤에서 -1씩 가니까"
   ]
  },
  {
   "cell_type": "code",
   "execution_count": 52,
   "id": "819aee3b",
   "metadata": {},
   "outputs": [
    {
     "name": "stdout",
     "output_type": "stream",
     "text": [
      "['발야구', '족구', '야구']\n"
     ]
    }
   ],
   "source": [
    "# ['발야구','족구','야구']\n",
    "\n",
    "print(l1[-2:-5:-1])"
   ]
  },
  {
   "cell_type": "code",
   "execution_count": 53,
   "id": "80f722cd",
   "metadata": {},
   "outputs": [
    {
     "name": "stdout",
     "output_type": "stream",
     "text": [
      "[1, 3, 5, 7, 9, 11, 13, 15, 17, 19]\n"
     ]
    }
   ],
   "source": [
    "# 아래 리스트 l3에서 홀수만 슬라이싱하기\n",
    "\n",
    "l3 = list(range(1,21))\n",
    "print(l3[::2])"
   ]
  },
  {
   "cell_type": "markdown",
   "id": "f24f7c31",
   "metadata": {},
   "source": [
    "# 항목의 인덱스 찾기\n",
    "* 리스트명.index(항목)\n",
    "* 튜플명.index(항목)"
   ]
  },
  {
   "cell_type": "code",
   "execution_count": 55,
   "id": "8d3fc8a5",
   "metadata": {},
   "outputs": [],
   "source": [
    "t1 = ('스키','보드','스케이트','스케이트보드','수상스키','웨이크보드')"
   ]
  },
  {
   "cell_type": "code",
   "execution_count": 56,
   "id": "359bc70d",
   "metadata": {},
   "outputs": [
    {
     "data": {
      "text/plain": [
       "2"
      ]
     },
     "execution_count": 56,
     "metadata": {},
     "output_type": "execute_result"
    }
   ],
   "source": [
    "# '스케이트'의 인덱스 찾기\n",
    "\n",
    "t1.index('스케이트')"
   ]
  },
  {
   "cell_type": "code",
   "execution_count": 58,
   "id": "aab12195",
   "metadata": {},
   "outputs": [
    {
     "ename": "ValueError",
     "evalue": "tuple.index(x): x not in tuple",
     "output_type": "error",
     "traceback": [
      "\u001b[1;31m---------------------------------------------------------------------------\u001b[0m",
      "\u001b[1;31mValueError\u001b[0m                                Traceback (most recent call last)",
      "\u001b[1;32m~\\AppData\\Local\\Temp/ipykernel_10904/2012072187.py\u001b[0m in \u001b[0;36m<module>\u001b[1;34m\u001b[0m\n\u001b[0;32m      1\u001b[0m \u001b[1;31m# '오토바이'의 인덱스 찾기\u001b[0m\u001b[1;33m\u001b[0m\u001b[1;33m\u001b[0m\u001b[0m\n\u001b[0;32m      2\u001b[0m \u001b[1;33m\u001b[0m\u001b[0m\n\u001b[1;32m----> 3\u001b[1;33m \u001b[0mt1\u001b[0m\u001b[1;33m.\u001b[0m\u001b[0mindex\u001b[0m\u001b[1;33m(\u001b[0m\u001b[1;34m'오토바이'\u001b[0m\u001b[1;33m)\u001b[0m\u001b[1;33m\u001b[0m\u001b[1;33m\u001b[0m\u001b[0m\n\u001b[0m",
      "\u001b[1;31mValueError\u001b[0m: tuple.index(x): x not in tuple"
     ]
    }
   ],
   "source": [
    "# '오토바이'의 인덱스 찾기\n",
    "\n",
    "t1.index('오토바이')"
   ]
  },
  {
   "cell_type": "code",
   "execution_count": 59,
   "id": "182f4593",
   "metadata": {},
   "outputs": [
    {
     "name": "stdout",
     "output_type": "stream",
     "text": [
      "존재하지 않음\n"
     ]
    }
   ],
   "source": [
    "if '오토바이' in t1 : \n",
    "    print(t1.index('오토바이'))\n",
    "    \n",
    "else : \n",
    "    print('존재하지 않음')"
   ]
  },
  {
   "cell_type": "markdown",
   "id": "2f52e079",
   "metadata": {},
   "source": [
    "# 리스트에 항목 추가하기"
   ]
  },
  {
   "cell_type": "markdown",
   "id": "d9c30ead",
   "metadata": {},
   "source": [
    "## 리스트 끝에 항목 추가하기\n",
    "* 리스트명.append(항목)"
   ]
  },
  {
   "cell_type": "code",
   "execution_count": 68,
   "id": "8b58bdc2",
   "metadata": {},
   "outputs": [],
   "source": [
    "todolist = ['양치','물마시기']"
   ]
  },
  {
   "cell_type": "code",
   "execution_count": 69,
   "id": "959bce6e",
   "metadata": {},
   "outputs": [
    {
     "name": "stdout",
     "output_type": "stream",
     "text": [
      "['양치', '물마시기', '아침운동']\n"
     ]
    }
   ],
   "source": [
    "# '아침운동' 항목 추가하기\n",
    "\n",
    "todolist.append('아침운동')\n",
    "print(todolist)"
   ]
  },
  {
   "cell_type": "markdown",
   "id": "0b4aaf49",
   "metadata": {},
   "source": [
    "## 리스트 중간에 항목 삽입하기"
   ]
  },
  {
   "cell_type": "markdown",
   "id": "9f1bfbdb",
   "metadata": {},
   "source": [
    "* 리스트명.insert(인덱스, 항목)"
   ]
  },
  {
   "cell_type": "code",
   "execution_count": 70,
   "id": "47c26c42",
   "metadata": {},
   "outputs": [
    {
     "name": "stdout",
     "output_type": "stream",
     "text": [
      "['양치', '물마시기', '아침식사', '아침운동']\n"
     ]
    }
   ],
   "source": [
    "# '아침운동'하기 전에 '아침식사'\n",
    "\n",
    "todolist.insert(2, '아침식사')\n",
    "print(todolist)"
   ]
  },
  {
   "cell_type": "markdown",
   "id": "5146ac8d",
   "metadata": {},
   "source": [
    "## 리스트 끝에 여러 항목 추가하기\n",
    "* 리스트명.extend(리스트)"
   ]
  },
  {
   "cell_type": "code",
   "execution_count": 71,
   "id": "0ca59fd8",
   "metadata": {},
   "outputs": [
    {
     "name": "stdout",
     "output_type": "stream",
     "text": [
      "['양치', '물마시기', '아침식사', '아침운동', '샤워', '드라이', '공부']\n"
     ]
    }
   ],
   "source": [
    "# '아침운동' 후에 ['샤워','드라이','공부']\n",
    "\n",
    "todolist.extend(['샤워', '드라이', '공부'])\n",
    "print(todolist)"
   ]
  },
  {
   "cell_type": "markdown",
   "id": "c70a1021",
   "metadata": {},
   "source": [
    "# 리스트 항목 수정하기"
   ]
  },
  {
   "cell_type": "markdown",
   "id": "3d053386",
   "metadata": {},
   "source": [
    "## 하나의 항목 수정하기\n",
    "* 리스트명[인덱스] = 항목"
   ]
  },
  {
   "cell_type": "code",
   "execution_count": 72,
   "id": "825a19fb",
   "metadata": {},
   "outputs": [
    {
     "name": "stdout",
     "output_type": "stream",
     "text": [
      "['양치', '물마시기', '아침식사', '산책', '샤워', '드라이', '공부']\n"
     ]
    }
   ],
   "source": [
    "# 아침운동-->산책으로 수정\n",
    "\n",
    "todolist[3] = '산책'\n",
    "print(todolist)"
   ]
  },
  {
   "cell_type": "markdown",
   "id": "9ef9377f",
   "metadata": {},
   "source": [
    "## 여러 항목 수정하기\n",
    "* 리스트명[시작인덱스:끝인덱스] = 리스트"
   ]
  },
  {
   "cell_type": "code",
   "execution_count": 73,
   "id": "b4d9f8af",
   "metadata": {},
   "outputs": [
    {
     "name": "stdout",
     "output_type": "stream",
     "text": [
      "['양치', '물마시기', '독서', '산책', '아침식사', '샤워', '드라이', '공부']\n"
     ]
    }
   ],
   "source": [
    "# '아침식사','산책' --> '독서','산책','아침식사'\n",
    "\n",
    "todolist[2:4] = ['독서', '산책', '아침식사']\n",
    "print(todolist)"
   ]
  },
  {
   "cell_type": "markdown",
   "id": "437a2ca4",
   "metadata": {},
   "source": [
    "# 리스트 항목 삭제하기"
   ]
  },
  {
   "cell_type": "markdown",
   "id": "8a65322d",
   "metadata": {},
   "source": [
    "## 인덱스를 이용하여 항목 삭제\n",
    "* del 리스트명[인덱스]"
   ]
  },
  {
   "cell_type": "code",
   "execution_count": 74,
   "id": "3c047348",
   "metadata": {},
   "outputs": [
    {
     "name": "stdout",
     "output_type": "stream",
     "text": [
      "['양치', '물마시기', '독서', '산책', '아침식사', '샤워', '드라이']\n"
     ]
    }
   ],
   "source": [
    "# 마지막 인덱스 삭제\n",
    "\n",
    "del todolist[-1]\n",
    "print(todolist)"
   ]
  },
  {
   "cell_type": "markdown",
   "id": "63c4d34a",
   "metadata": {},
   "source": [
    "## 항목값을 이용하여 삭제\n",
    "* 리스트.remove(항목)     \n",
    "항목이 여러개인 경우 앞의 인덱스만 삭제"
   ]
  },
  {
   "cell_type": "code",
   "execution_count": 75,
   "id": "8c8575e9",
   "metadata": {},
   "outputs": [
    {
     "name": "stdout",
     "output_type": "stream",
     "text": [
      "['물마시기', '독서', '산책', '아침식사', '샤워', '드라이']\n"
     ]
    }
   ],
   "source": [
    "# '양치' 삭제\n",
    "\n",
    "todolist.remove('양치')\n",
    "print(todolist)"
   ]
  },
  {
   "cell_type": "markdown",
   "id": "357140bd",
   "metadata": {},
   "source": [
    "## 마지막 항목을 반환하고 삭제\n",
    "* 리스트.pop()"
   ]
  },
  {
   "cell_type": "code",
   "execution_count": 76,
   "id": "0649d9e6",
   "metadata": {},
   "outputs": [
    {
     "name": "stdout",
     "output_type": "stream",
     "text": [
      "드라이\n",
      "['물마시기', '독서', '산책', '아침식사', '샤워']\n"
     ]
    }
   ],
   "source": [
    "a = todolist.pop()\n",
    "print(a)\n",
    "print(todolist)"
   ]
  },
  {
   "cell_type": "markdown",
   "id": "c7919cf9",
   "metadata": {},
   "source": [
    "# 연습문제"
   ]
  },
  {
   "cell_type": "markdown",
   "id": "5e11d80b",
   "metadata": {},
   "source": [
    "* 아래 wishlist의 '시계','신발'을 myCart로 이동해봅시다."
   ]
  },
  {
   "cell_type": "code",
   "execution_count": 84,
   "id": "2dd532a9",
   "metadata": {},
   "outputs": [],
   "source": [
    "wishlist = ['가방','시계','신발']\n",
    "mycart = []"
   ]
  },
  {
   "cell_type": "code",
   "execution_count": 85,
   "id": "2fb5356a",
   "metadata": {},
   "outputs": [
    {
     "name": "stdout",
     "output_type": "stream",
     "text": [
      "['시계', '신발']\n",
      "['가방']\n"
     ]
    }
   ],
   "source": [
    "mycart.extend(wishlist[1:3])\n",
    "del wishlist[1:3]\n",
    "print(mycart)\n",
    "print(wishlist)"
   ]
  },
  {
   "cell_type": "markdown",
   "id": "699a5660",
   "metadata": {},
   "source": [
    "# 리스트의 통계값 구하기\n",
    "* 항목수 : len(리스트명)\n",
    "* 합계 : sum(리스트명)\n",
    "* 최소값 : min(리스트명)\n",
    "* 최대값 : max(리스트명)\n",
    "* 항목의 갯수 : 리스트명.count(항목)"
   ]
  },
  {
   "cell_type": "code",
   "execution_count": 86,
   "id": "ecaa9b80",
   "metadata": {},
   "outputs": [
    {
     "name": "stdout",
     "output_type": "stream",
     "text": [
      "항목수: 8\n",
      "합계: 27\n",
      "최소값: 1\n",
      "최대값: 5\n",
      "평균: 3.375\n",
      "항목5의 갯수: 2\n"
     ]
    }
   ],
   "source": [
    "l = [1,2,3,4,5,3,4,5]\n",
    "print('항목수:', len(l))\n",
    "print('합계:', sum(l))\n",
    "print('최소값:', min(l))\n",
    "print('최대값:', max(l))\n",
    "print('평균:', sum(l)/len(l))\n",
    "print('항목5의 갯수:', l.count(5))"
   ]
  },
  {
   "cell_type": "markdown",
   "id": "e78ef583",
   "metadata": {},
   "source": [
    "# 리스트 정렬하기"
   ]
  },
  {
   "cell_type": "markdown",
   "id": "553a3866",
   "metadata": {},
   "source": [
    "## 원본리스트 정렬\n",
    "* 리스트명.sort()\n",
    "* 리스트명.sort(reverse=True) : 내림차순"
   ]
  },
  {
   "cell_type": "code",
   "execution_count": 87,
   "id": "556bbac0",
   "metadata": {},
   "outputs": [],
   "source": [
    "friends = ['닥터윌','수지','지은','찬혁','수현','범준']"
   ]
  },
  {
   "cell_type": "code",
   "execution_count": 90,
   "id": "6f8b4d06",
   "metadata": {},
   "outputs": [
    {
     "name": "stdout",
     "output_type": "stream",
     "text": [
      "['닥터윌', '범준', '수지', '수현', '지은', '찬혁']\n"
     ]
    }
   ],
   "source": [
    "friends.sort()\n",
    "print(friends)"
   ]
  },
  {
   "cell_type": "code",
   "execution_count": 92,
   "id": "be9bdbe2",
   "metadata": {},
   "outputs": [
    {
     "name": "stdout",
     "output_type": "stream",
     "text": [
      "['찬혁', '지은', '수현', '수지', '범준', '닥터윌']\n"
     ]
    }
   ],
   "source": [
    "friends.sort(reverse=True)\n",
    "print(friends)"
   ]
  },
  {
   "cell_type": "markdown",
   "id": "94b74a64",
   "metadata": {},
   "source": [
    "## 복사본 만들어서 정렬\n",
    "* sorted(리스트명)\n",
    "* sorted(리스트명, reverse=True) : 내림차순"
   ]
  },
  {
   "cell_type": "code",
   "execution_count": 94,
   "id": "2295f16c",
   "metadata": {},
   "outputs": [],
   "source": [
    "friends = ['닥터윌','수지','지은','찬혁','수현','범준']"
   ]
  },
  {
   "cell_type": "code",
   "execution_count": 98,
   "id": "27e03abc",
   "metadata": {},
   "outputs": [
    {
     "name": "stdout",
     "output_type": "stream",
     "text": [
      "['닥터윌', '범준', '수지', '수현', '지은', '찬혁']\n"
     ]
    }
   ],
   "source": [
    "sorted_friends = sorted(friends)\n",
    "print(sorted_friends)"
   ]
  },
  {
   "cell_type": "code",
   "execution_count": 99,
   "id": "b9097575",
   "metadata": {},
   "outputs": [
    {
     "name": "stdout",
     "output_type": "stream",
     "text": [
      "['찬혁', '지은', '수현', '수지', '범준', '닥터윌']\n"
     ]
    }
   ],
   "source": [
    "sorted_friends = sorted(friends, reverse = True)\n",
    "print(sorted_friends)"
   ]
  },
  {
   "cell_type": "markdown",
   "id": "dc4168af",
   "metadata": {},
   "source": [
    "## 리스트 순서 뒤집기\n",
    "* 리스트명.reverse()"
   ]
  },
  {
   "cell_type": "code",
   "execution_count": 100,
   "id": "f3396c3c",
   "metadata": {},
   "outputs": [],
   "source": [
    "friends = ['닥터윌','수지','지은','찬혁','수현','범준']"
   ]
  },
  {
   "cell_type": "code",
   "execution_count": 101,
   "id": "0dff5a77",
   "metadata": {},
   "outputs": [
    {
     "name": "stdout",
     "output_type": "stream",
     "text": [
      "['범준', '수현', '찬혁', '지은', '수지', '닥터윌']\n"
     ]
    }
   ],
   "source": [
    "friends.reverse()\n",
    "print(friends)"
   ]
  },
  {
   "cell_type": "code",
   "execution_count": 107,
   "id": "eaf1d8dd",
   "metadata": {},
   "outputs": [
    {
     "data": {
      "text/plain": [
       "['범준', '수현', '찬혁', '지은', '수지', '닥터윌']"
      ]
     },
     "execution_count": 107,
     "metadata": {},
     "output_type": "execute_result"
    }
   ],
   "source": [
    "friends = ['닥터윌','수지','지은','찬혁','수현','범준']\n",
    "friends[::-1]"
   ]
  },
  {
   "cell_type": "markdown",
   "id": "e851b179",
   "metadata": {},
   "source": [
    "# 2차원리스트 다루기"
   ]
  },
  {
   "cell_type": "markdown",
   "id": "dae118ac",
   "metadata": {},
   "source": [
    "* 2차원리스트 만들기\n",
    "||0열|1열|2열|\n",
    "|--|--|--|--|\n",
    "|0행|10|20|30|\n",
    "|1행|40|50|60|"
   ]
  },
  {
   "cell_type": "code",
   "execution_count": 109,
   "id": "d2408368",
   "metadata": {},
   "outputs": [
    {
     "name": "stdout",
     "output_type": "stream",
     "text": [
      "30\n",
      "60\n"
     ]
    }
   ],
   "source": [
    "# 리스트 만들기\n",
    "l2 = [[10, 20, 30], [40, 50, 60]]\n",
    "\n",
    "# 30 추출하기\n",
    "print(l2[0][2])\n",
    "\n",
    "# 1행 2열 추출하기\n",
    "print(l2[1][2])"
   ]
  },
  {
   "cell_type": "markdown",
   "id": "12badf63",
   "metadata": {},
   "source": [
    "* 연습   \n",
    "파일리스트에서 파일명과 확장자를 분리하여 다음과 같은 형태로 저장하는 리스트를 만들어봅시다.\n",
    "|파일명|확장자|\n",
    "|--|--|\n",
    "|file1|py|\n",
    "|file2|txt|\n",
    "|file3|pptx|"
   ]
  },
  {
   "cell_type": "code",
   "execution_count": 110,
   "id": "ccab1e22",
   "metadata": {},
   "outputs": [
    {
     "name": "stdout",
     "output_type": "stream",
     "text": [
      "[['file1', 'py'], ['file2', 'txt'], ['file3', 'pptx']]\n"
     ]
    }
   ],
   "source": [
    "file_list = ['file1.py','file2.txt','file3.pptx']\n",
    "name_extension = []\n",
    "\n",
    "for i in file_list : \n",
    "    name_extension.append(i.split('.'))\n",
    "    \n",
    "print(name_extension)"
   ]
  },
  {
   "cell_type": "markdown",
   "id": "b10f85ee",
   "metadata": {},
   "source": [
    "# 학생별 총점,평균 구하기"
   ]
  },
  {
   "cell_type": "markdown",
   "id": "b46b3d8c",
   "metadata": {},
   "source": [
    "\n",
    "* 다음은 학생 별 [국어,영어,수학]점수가 저장된 리스트이다.    \n",
    "score_list = [[96,84,80],[96,86,76],[76,95,83],[89,96,69],[90,76,91]]   \n",
    "각 학생의 세 과목의 성적의 [총점, 평균]을 구하여 리스트에 담으시오.    \n",
    "(평균은 반올림하여 소수점 1자리까지 표현한다.)"
   ]
  },
  {
   "cell_type": "code",
   "execution_count": 1,
   "id": "a13fca06",
   "metadata": {},
   "outputs": [
    {
     "name": "stdout",
     "output_type": "stream",
     "text": [
      "[[260, 86.7], [258, 86.0], [254, 84.7], [254, 84.7], [257, 85.7]]\n"
     ]
    }
   ],
   "source": [
    "score_list = [[96,84,80],[96,86,76],[76,95,83],[89,96,69],[90,76,91]]\n",
    "stu_scores = []\n",
    "\n",
    "for i in score_list:\n",
    "#   total = i[0] + i[1] + i[2]\n",
    "    total = sum(i)\n",
    "    avg = total / len(i)\n",
    "    mylist = [total, round(avg, 1)]\n",
    "    \n",
    "    stu_scores.append(mylist)\n",
    "    \n",
    "print(stu_scores)    "
   ]
  },
  {
   "cell_type": "markdown",
   "id": "6c651785",
   "metadata": {},
   "source": [
    "# 과목별 평균 구하기"
   ]
  },
  {
   "cell_type": "markdown",
   "id": "46d55b2b",
   "metadata": {},
   "source": [
    "* 다음은 학생 별 [국어,영어,수학]점수가 저장된 리스트이다.       \n",
    "score_list = [[96,84,80],[96,86,76],[76,95,83],[89,96,69],[90,76,91]]         \n",
    "각 과목의 리스트를 분리하고 과목별 평균을 구해봅시다.\n",
    "평균은 소수점 1자리까지 출력한다."
   ]
  },
  {
   "cell_type": "code",
   "execution_count": 2,
   "id": "2d43c1ac",
   "metadata": {},
   "outputs": [
    {
     "name": "stdout",
     "output_type": "stream",
     "text": [
      "[96, 96, 76, 89, 90]\n",
      "[84, 86, 95, 96, 76]\n",
      "[80, 76, 83, 69, 91]\n"
     ]
    }
   ],
   "source": [
    "score_list = [[96,84,80],[96,86,76],[76,95,83],[89,96,69],[90,76,91]]\n",
    "korean_list = []\n",
    "english_list = []\n",
    "math_list = []\n",
    "\n",
    "for i in score_list:\n",
    "    kor = i[0]\n",
    "    eng = i[1]\n",
    "    math = i[2]\n",
    "    \n",
    "    korean_list.append(kor)\n",
    "    english_list.append(eng)\n",
    "    math_list.append(math)\n",
    "    \n",
    "print(korean_list)\n",
    "print(english_list)\n",
    "print(math_list)"
   ]
  },
  {
   "cell_type": "code",
   "execution_count": 3,
   "id": "c4da01c8",
   "metadata": {},
   "outputs": [
    {
     "name": "stdout",
     "output_type": "stream",
     "text": [
      "89.4\n",
      "87.4\n",
      "79.8\n"
     ]
    }
   ],
   "source": [
    "kor_avg = sum(korean_list) / len(korean_list)\n",
    "eng_avg = sum(english_list) / len(english_list)\n",
    "math_avg = sum(math_list) / len(math_list)\n",
    "\n",
    "print(round(kor_avg, 1))\n",
    "print(round(eng_avg, 1))\n",
    "print(round(math_avg, 1))"
   ]
  },
  {
   "cell_type": "markdown",
   "id": "8ca3d8ca",
   "metadata": {},
   "source": [
    "# 랜덤 항목 추출하기\n",
    "* random.choice(리스트명)"
   ]
  },
  {
   "cell_type": "code",
   "execution_count": 5,
   "id": "97bee141",
   "metadata": {},
   "outputs": [],
   "source": [
    "import random"
   ]
  },
  {
   "cell_type": "code",
   "execution_count": 6,
   "id": "975565bc",
   "metadata": {},
   "outputs": [
    {
     "name": "stdout",
     "output_type": "stream",
     "text": [
      "오늘은 뭘먹지? 중식\n"
     ]
    }
   ],
   "source": [
    "menulist = ['한식','일식','중식','양식','분식','이탈리아식']\n",
    "print('오늘은 뭘먹지?', random.choice(menulist))"
   ]
  },
  {
   "cell_type": "markdown",
   "id": "30a4df89",
   "metadata": {},
   "source": [
    "* 메뉴를 입력받아 랜덤으로 메뉴를 정하는 프로그램을 작성해봅시다.     \n",
    "공백('')을 입력할 때까지 메뉴를 입력받습니다."
   ]
  },
  {
   "cell_type": "code",
   "execution_count": 8,
   "id": "bfcba257",
   "metadata": {},
   "outputs": [
    {
     "name": "stdout",
     "output_type": "stream",
     "text": [
      "메뉴: 양식\n",
      "메뉴: 일식\n",
      "메뉴: 중식\n",
      "메뉴: 한식\n",
      "메뉴: 야식\n",
      "메뉴: \n",
      "오늘의 메뉴는:  일식\n"
     ]
    }
   ],
   "source": [
    "menulist = []\n",
    "\n",
    "while True : \n",
    "    menu = input('메뉴: ')\n",
    "    if menu == '':\n",
    "        break\n",
    "    menulist.append(menu)\n",
    "    \n",
    "print('오늘의 메뉴는: ', random.choice(menulist))"
   ]
  },
  {
   "cell_type": "code",
   "execution_count": null,
   "id": "3d6e9a32",
   "metadata": {},
   "outputs": [],
   "source": []
  }
 ],
 "metadata": {
  "kernelspec": {
   "display_name": "Python 3 (ipykernel)",
   "language": "python",
   "name": "python3"
  },
  "language_info": {
   "codemirror_mode": {
    "name": "ipython",
    "version": 3
   },
   "file_extension": ".py",
   "mimetype": "text/x-python",
   "name": "python",
   "nbconvert_exporter": "python",
   "pygments_lexer": "ipython3",
   "version": "3.9.7"
  }
 },
 "nbformat": 4,
 "nbformat_minor": 5
}
