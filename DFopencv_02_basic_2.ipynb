{
 "cells": [
  {
   "cell_type": "code",
   "execution_count": 1,
   "id": "476b6ecc",
   "metadata": {},
   "outputs": [],
   "source": [
    "import numpy as np\n",
    "import cv2\n",
    "import sys"
   ]
  },
  {
   "cell_type": "markdown",
   "id": "cc8c82db",
   "metadata": {},
   "source": [
    "### 알파 채널을 마스크 영상으로 이용 (선글라스 합성하기)"
   ]
  },
  {
   "cell_type": "code",
   "execution_count": 2,
   "id": "416a468d",
   "metadata": {},
   "outputs": [
    {
     "name": "stdout",
     "output_type": "stream",
     "text": [
      "(480, 640, 3)\n",
      "(480, 960, 4)\n"
     ]
    }
   ],
   "source": [
    "src = cv2.imread('./Ch_2_Opencv_basic/fig/puppy.bmp', cv2.IMREAD_COLOR)\n",
    "sunglass = cv2.imread('./Ch_2_Opencv_basic/fig/imgbin_sunglasses_1.png',\n",
    "                     cv2.IMREAD_UNCHANGED)\n",
    "\n",
    "print(src.shape)\n",
    "print(sunglass.shape)    # alpha channel"
   ]
  },
  {
   "cell_type": "code",
   "execution_count": 20,
   "id": "b977eaec",
   "metadata": {},
   "outputs": [],
   "source": [
    "src = cv2.imread('./Ch_2_Opencv_basic/fig/puppy.bmp',cv2.IMREAD_COLOR)\n",
    "img_alpha = cv2.imread('./Ch_2_Opencv_basic/fig/imgbin_sunglasses_1.png',\n",
    "                     cv2.IMREAD_UNCHANGED)\n",
    "\n",
    "if src is None or img_alpha is None : \n",
    "    print('image read failed')\n",
    "    sys.exit()\n",
    "    \n",
    "img_alpha = cv2.resize(img_alpha, (270, 150))\n",
    "    \n",
    "sunglass = img_alpha[:, :, 0:3]\n",
    "mask = img_alpha[:, :, -1]\n",
    "\n",
    "h, w  = img_alpha.shape[:2]\n",
    "crop = src[130:130+h, 245:245+w]\n",
    "\n",
    "cv2.copyTo(sunglass, mask, crop)\n",
    "\n",
    "crop[mask > 0] = (0, 255, 255)\n",
    "\n",
    "cv2.imshow('src', src)\n",
    "cv2.imshow('sunglass', sunglass)\n",
    "cv2.imshow('mask', mask)\n",
    "cv2.imshow('crop', crop)\n",
    "\n",
    "cv2.waitKey()\n",
    "\n",
    "cv2.destroyAllWindows()"
   ]
  },
  {
   "cell_type": "markdown",
   "id": "82f36ecf",
   "metadata": {},
   "source": [
    "### opencv 그리기함수"
   ]
  },
  {
   "cell_type": "code",
   "execution_count": 21,
   "id": "f7582c14",
   "metadata": {},
   "outputs": [],
   "source": [
    "## 하얀색 도화지 만들기\n",
    "\n",
    "img = np.full((600, 1200, 3), 255, np.uint8)\n",
    "\n",
    "cv2.imshow('canvas', img)\n",
    "\n",
    "cv2.waitKey()\n",
    "cv2.destroyAllWindows()"
   ]
  },
  {
   "cell_type": "code",
   "execution_count": 34,
   "id": "2f0fd5a7",
   "metadata": {},
   "outputs": [
    {
     "name": "stdout",
     "output_type": "stream",
     "text": [
      "Opencv version4.5.5\n"
     ]
    }
   ],
   "source": [
    "img = np.full((600, 1200, 3), 255, np.uint8)\n",
    "\n",
    "# cv2.line(img, pt1, pt2, color, thickness = None, lineType = None, shift = None) -> img\n",
    "# flags\n",
    "    # img:그림을 그릴 영상\n",
    "    # pt1, pt2: 직선의 시작점, 끝점\n",
    "    # color: 직선의 칼라 (B,G,R)의 튜플\n",
    "    # thinkness: 선두께, 기본은= 1\n",
    "    # lineType: cv2.LINE_4, cv2.LINE_8, cv2.LINE_AA\n",
    "    \n",
    "cv2.line(img, (100, 50), (300, 50), (255, 0, 255), 10)\n",
    "cv2.line(img, (300, 50), (200, 200), (255, 255, 0), 10)\n",
    "cv2.line(img, (350, 40), (350, 210), (0, 255, 255), 10)\n",
    "\n",
    "\n",
    "# cv2.rectangle(img, pt1, pt2, color, thickness = None, lineType = None) -> img\n",
    "   # pt1 :좌측 상단,  pt2: 우측하단\n",
    "# cv2.rectangle(img, rect, color, thickness = None, lineType = None) -> img\n",
    "    # rect: 사각형의 위치 정보 (x, y, w, h)\n",
    "    \n",
    "cv2.rectangle(img, (180, 250), (340, 350), (255, 0, 0), 10)\n",
    "cv2.rectangle(img, (180, 250), (340, 350), (0, 255, 0), -1)\n",
    "\n",
    "\n",
    "# cv2.circle(img, center, radius, color, thickness = None, lineType = None) -> img\n",
    "    # center: 원의 중심좌표 (x, y)\n",
    "    # radius : 원의 반지름\n",
    "\n",
    "cv2.circle(img, (600, 300), 100, (0, 0, 255), 10, cv2.LINE_AA)\n",
    "\n",
    "\n",
    "# cv2.ellipse(img, center, axes, angle, startAngle, endAngle, color[, thickness[, lineType[, shift]]]) -> img\n",
    "    # center: 원의 중심좌표 (x, y)\n",
    "    # axis: 축의 반지름(x, y)\n",
    "    # angle: 타원의 기울기 (예, 10, 오른쪽으로 10도 기울어짐)\n",
    "    # startAngle: 타원을 그리는 시작 각도 (3시 방향이 0도)\n",
    "    # endAngle: 타원을 그리는 종료 각도\n",
    "    \n",
    "cv2.ellipse(img, (600, 300), (50, 100), 10, 0, 360, (255, 255, 0), 10)\n",
    "\n",
    "\n",
    "text = 'Opencv version' + cv2.__version__\n",
    "cv2.putText(img, text, (800, 100), cv2.FONT_HERSHEY_SIMPLEX,\n",
    "           0.5, (0, 0, 255), 1, cv2.LINE_AA)\n",
    "\n",
    "print(text)\n",
    "\n",
    "cv2.imshow('canvas', img)\n",
    "\n",
    "cv2.waitKey()\n",
    "cv2.destroyAllWindows()"
   ]
  },
  {
   "cell_type": "code",
   "execution_count": 35,
   "id": "fcd717c6",
   "metadata": {},
   "outputs": [],
   "source": [
    "## 인삼쓰기\n",
    "\n",
    "img = np.full((600, 1200, 3), 255, np.uint8)\n",
    "\n",
    "cv2.circle(img, (150, 150), 70, (0, 255, 0), 10, cv2.LINE_AA )\n",
    "cv2.line(img, (280, 70), (280, 250), (0, 255, 0), 10)\n",
    "cv2.line(img, (150, 280), (150, 350), (0, 255, 0), 10)\n",
    "cv2.line(img, (150, 350), (300, 350), (0, 255, 0), 10)\n",
    "\n",
    "cv2.line(img, (400, 80), (350, 200), (255, 0, 0), 10, cv2.LINE_AA)\n",
    "cv2.line(img, (400, 80), (450, 200), (255, 0, 0), 10, cv2.LINE_AA)\n",
    "cv2.line(img, (500, 70), (500, 250), (255, 0, 0), 10)\n",
    "cv2.line(img, (500, 160), (550, 160), (255, 0, 0), 10)\n",
    "cv2.rectangle(img, (380, 280, 150, 100), (255, 0, 0), 10)\n",
    "\n",
    "cv2.imshow('canvas', img)\n",
    "\n",
    "cv2.waitKey()\n",
    "cv2.destroyAllWindows()"
   ]
  },
  {
   "cell_type": "markdown",
   "id": "34472066",
   "metadata": {},
   "source": [
    "### 카메라와 동영상 처리하기"
   ]
  },
  {
   "cell_type": "code",
   "execution_count": 37,
   "id": "4ce26d04",
   "metadata": {},
   "outputs": [],
   "source": [
    "cap = cv2.VideoCapture('./Ch_2_Opencv_basic/fig/raining.mp4')\n",
    "\n",
    "if not cap.isOpened() : \n",
    "    print('Videoncap open failed')\n",
    "    sys.exit()\n",
    "    \n",
    "while True : \n",
    "    ret, frame = cap.read()\n",
    "    \n",
    "    if not ret : \n",
    "        print('Video read failed')\n",
    "        break\n",
    "        \n",
    "    edge = cv2.Canny(frame, 30, 150)\n",
    "    \n",
    "    cv2.imshow('img', frame)\n",
    "    cv2.imshow('edge', edge)\n",
    "    \n",
    "    \n",
    "    if cv2.waitKey(20) == 27 : \n",
    "        break\n",
    "        \n",
    "cap.release()\n",
    "cv2.destroyAllWindows()"
   ]
  },
  {
   "cell_type": "code",
   "execution_count": 2,
   "id": "bee91390",
   "metadata": {},
   "outputs": [],
   "source": [
    "## 카메라 열기\n",
    "\n",
    "cap = cv2.VideoCapture(0)\n",
    "\n",
    "if not cap.isOpened() : \n",
    "    print('Videocap open failed')\n",
    "    sys.exit()\n",
    "    \n",
    "while True : \n",
    "    ret, frame = cap.read()\n",
    "    \n",
    "    if not ret : \n",
    "        print('Video read failed')\n",
    "        break\n",
    "        \n",
    "    edge = cv2.Canny(frame, 30, 150)\n",
    "    \n",
    "    cv2.imshow('img', frame)\n",
    "    cv2.imshow('edge', edge)\n",
    "    \n",
    "    if cv2.waitKey(20) == 27 : \n",
    "        break\n",
    "        \n",
    "cap.release()\n",
    "cv2.destroyAllWindows()"
   ]
  },
  {
   "cell_type": "code",
   "execution_count": 6,
   "id": "e7247903",
   "metadata": {},
   "outputs": [],
   "source": [
    "cap = cv2.VideoCapture(0)\n",
    "\n",
    "if not cap.isOpened() : \n",
    "    print('Videocap open failed')\n",
    "    sys.exit()\n",
    "    \n",
    "w = int(cap.get(cv2.CAP_PROP_FRAME_WIDTH))\n",
    "h = int(cap.get(cv2.CAP_PROP_FRAME_HEIGHT))\n",
    "fps = cap.get(cv2.CAP_PROP_FPS) * 0.7   # frame per second\n",
    "fourcc = cv2.VideoWriter_fourcc(*'DIVX')   # 동영상을 압축하는 형식 /코덱\n",
    "    \n",
    "out = cv2.VideoWriter('output.avi', fourcc, fps, (w, h))\n",
    "    \n",
    "while True : \n",
    "    ret, frame = cap.read()\n",
    "    \n",
    "    if not ret : \n",
    "        print('Video read failed')\n",
    "        break\n",
    "        \n",
    "    ## 동영상 편집 부분\n",
    "    ####################################################\n",
    "    edge = cv2.Canny(frame, 30, 150)\n",
    "#     edge = 255 - edge\n",
    "    edge_color = cv2.cvtColor(edge, cv2.COLOR_GRAY2BGR)\n",
    "    ####################################################\n",
    "    \n",
    "    cv2.imshow('img', frame)\n",
    "    cv2.imshow('edge', edge_color)\n",
    "    \n",
    "    out.write(frame)\n",
    "    \n",
    "    if cv2.waitKey(20) == 27 : \n",
    "        break\n",
    "        \n",
    "cap.release()\n",
    "out.release()\n",
    "cv2.destroyAllWindows()"
   ]
  },
  {
   "cell_type": "code",
   "execution_count": null,
   "id": "6e1983cd",
   "metadata": {},
   "outputs": [],
   "source": []
  }
 ],
 "metadata": {
  "kernelspec": {
   "display_name": "Python 3 (ipykernel)",
   "language": "python",
   "name": "python3"
  },
  "language_info": {
   "codemirror_mode": {
    "name": "ipython",
    "version": 3
   },
   "file_extension": ".py",
   "mimetype": "text/x-python",
   "name": "python",
   "nbconvert_exporter": "python",
   "pygments_lexer": "ipython3",
   "version": "3.9.7"
  }
 },
 "nbformat": 4,
 "nbformat_minor": 5
}
