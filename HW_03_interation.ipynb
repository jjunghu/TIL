{
 "cells": [
  {
   "cell_type": "markdown",
   "id": "7514b15f",
   "metadata": {},
   "source": [
    "# if구조"
   ]
  },
  {
   "cell_type": "markdown",
   "id": "af4af9ca",
   "metadata": {},
   "source": [
    "* 점수를 입력받아, 점수가 60점 이상이면 '합격'을 출력합니다."
   ]
  },
  {
   "cell_type": "code",
   "execution_count": 1,
   "id": "2e80b3e1",
   "metadata": {},
   "outputs": [
    {
     "name": "stdout",
     "output_type": "stream",
     "text": [
      "점수 : 85\n",
      "합격\n"
     ]
    }
   ],
   "source": [
    "score = int(input('점수 : '))\n",
    "\n",
    "if score >= 60 : \n",
    "    print('합격')"
   ]
  },
  {
   "cell_type": "markdown",
   "id": "aa1517a4",
   "metadata": {},
   "source": [
    "# if..else..구조"
   ]
  },
  {
   "cell_type": "markdown",
   "id": "0cd38557",
   "metadata": {},
   "source": [
    "* 점수를 입력받아, 점수가 60점 이상이면 '합격'을 출력하고, 아니면 '불합격'을 출력합니다."
   ]
  },
  {
   "cell_type": "code",
   "execution_count": 2,
   "id": "e27e23da",
   "metadata": {},
   "outputs": [
    {
     "name": "stdout",
     "output_type": "stream",
     "text": [
      "점수 : 40\n",
      "불합격\n"
     ]
    }
   ],
   "source": [
    "score = int(input('점수 : '))\n",
    "\n",
    "if score >= 60 : \n",
    "    print('합격')\n",
    "    \n",
    "else : \n",
    "    print('불합격')"
   ]
  },
  {
   "cell_type": "markdown",
   "id": "e1d5afd1",
   "metadata": {},
   "source": [
    "# if..elif..구조"
   ]
  },
  {
   "cell_type": "markdown",
   "id": "487d86f7",
   "metadata": {},
   "source": [
    "* 점수를 입력받고 점수의 범위에 따라 등급을 출력하는 프로그램을 작성하세요.    \n",
    "\n",
    "|등급|A|B|C|D|F|\n",
    "|----|--|--|--|--|--|\n",
    "|점수|90이상|80~89|70~79|60~69|0~59|"
   ]
  },
  {
   "cell_type": "code",
   "execution_count": 3,
   "id": "5e015baf",
   "metadata": {},
   "outputs": [
    {
     "name": "stdout",
     "output_type": "stream",
     "text": [
      "점수를 입력하세요 : 54\n",
      "F 등급입니다.\n"
     ]
    }
   ],
   "source": [
    "score = int(input('점수를 입력하세요 : '))\n",
    "\n",
    "if score >= 90 : \n",
    "    print('A 등급입니다. 축하합니다.')\n",
    "    \n",
    "elif 80 <= score <= 89 :\n",
    "    print('B 등급입니다.')\n",
    "    \n",
    "elif 70 <= score <= 79 : \n",
    "    print('C 등급입니다.')\n",
    "    \n",
    "elif 60 <= score <= 69 : \n",
    "    print('D 등급입니다.')\n",
    "    \n",
    "elif 0 <= score <= 59 : \n",
    "    print('F 등급입니다.')"
   ]
  },
  {
   "cell_type": "markdown",
   "id": "dd134b8e",
   "metadata": {},
   "source": [
    "# 연습문제"
   ]
  },
  {
   "cell_type": "markdown",
   "id": "7663ad26",
   "metadata": {},
   "source": [
    "* 정수를 입력받아 짝수/홀수를 판별하세요."
   ]
  },
  {
   "cell_type": "code",
   "execution_count": 4,
   "id": "d08eec74",
   "metadata": {},
   "outputs": [
    {
     "name": "stdout",
     "output_type": "stream",
     "text": [
      "숫자를 입력하세요 : 49\n",
      "홀수\n"
     ]
    }
   ],
   "source": [
    "number = int(input('숫자를 입력하세요 : '))\n",
    "\n",
    "if number % 2 == 1 : \n",
    "    print('홀수')\n",
    "    \n",
    "elif number % 2 == 0 : \n",
    "    print('짝수')"
   ]
  },
  {
   "cell_type": "markdown",
   "id": "99f673c6",
   "metadata": {},
   "source": [
    "# for 반복구조"
   ]
  },
  {
   "cell_type": "code",
   "execution_count": 5,
   "id": "1f9dcf67",
   "metadata": {},
   "outputs": [
    {
     "name": "stdout",
     "output_type": "stream",
     "text": [
      "1\n",
      "2\n",
      "3\n",
      "4\n",
      "5\n"
     ]
    }
   ],
   "source": [
    "for i in [1, 2, 3, 4, 5] : \n",
    "    print(i)"
   ]
  },
  {
   "cell_type": "code",
   "execution_count": 6,
   "id": "8e1039e4",
   "metadata": {},
   "outputs": [
    {
     "name": "stdout",
     "output_type": "stream",
     "text": [
      "1\n",
      "2\n",
      "3\n",
      "4\n",
      "5\n"
     ]
    }
   ],
   "source": [
    "for i in (1, 2, 3, 4, 5) : \n",
    "    print(i)"
   ]
  },
  {
   "cell_type": "code",
   "execution_count": 7,
   "id": "238a7748",
   "metadata": {},
   "outputs": [
    {
     "name": "stdout",
     "output_type": "stream",
     "text": [
      "p\n",
      "y\n",
      "t\n",
      "h\n",
      "o\n",
      "n\n"
     ]
    }
   ],
   "source": [
    "for i in 'python' : \n",
    "    print(i)"
   ]
  },
  {
   "cell_type": "code",
   "execution_count": 8,
   "id": "d76ceedb",
   "metadata": {},
   "outputs": [
    {
     "name": "stdout",
     "output_type": "stream",
     "text": [
      "0\n",
      "1\n",
      "2\n",
      "3\n",
      "4\n"
     ]
    }
   ],
   "source": [
    "for i in range(5) : \n",
    "    print(i)"
   ]
  },
  {
   "cell_type": "markdown",
   "id": "ebe0cdc7",
   "metadata": {},
   "source": [
    "* 'Hello' 10번 출력하기     \n",
    "특정 횟수만큼 반복하려면 range(횟수)의 형태를 사용한다."
   ]
  },
  {
   "cell_type": "code",
   "execution_count": 9,
   "id": "7e945747",
   "metadata": {},
   "outputs": [
    {
     "name": "stdout",
     "output_type": "stream",
     "text": [
      "Hello\n",
      "Hello\n",
      "Hello\n",
      "Hello\n",
      "Hello\n",
      "Hello\n",
      "Hello\n",
      "Hello\n",
      "Hello\n",
      "Hello\n"
     ]
    }
   ],
   "source": [
    "for i in range(10) : \n",
    "    print('Hello')"
   ]
  },
  {
   "cell_type": "markdown",
   "id": "4d07280a",
   "metadata": {},
   "source": [
    "# 중첩반복구조\n",
    "* 내부 for문을 외부 for문의 시퀀스만큼 반복한다.\n",
    "* 내부루프와 외부루프는 동일한 제어변수를 사용해서는 안된다."
   ]
  },
  {
   "cell_type": "code",
   "execution_count": 10,
   "id": "5b5642cc",
   "metadata": {},
   "outputs": [
    {
     "name": "stdout",
     "output_type": "stream",
     "text": [
      "0 0\n",
      "0 1\n",
      "0 2\n",
      "0 3\n",
      "1 0\n",
      "1 1\n",
      "1 2\n",
      "1 3\n",
      "2 0\n",
      "2 1\n",
      "2 2\n",
      "2 3\n",
      "3 0\n",
      "3 1\n",
      "3 2\n",
      "3 3\n",
      "4 0\n",
      "4 1\n",
      "4 2\n",
      "4 3\n",
      "5 0\n",
      "5 1\n",
      "5 2\n",
      "5 3\n"
     ]
    }
   ],
   "source": [
    "for i in range(6) : \n",
    "    for j in range(4) : \n",
    "        print(i, j)"
   ]
  },
  {
   "cell_type": "markdown",
   "id": "69987308",
   "metadata": {},
   "source": [
    "* 2단부터 9단까지 전체 구구단 출력하기"
   ]
  },
  {
   "cell_type": "code",
   "execution_count": 21,
   "id": "0c31502b",
   "metadata": {},
   "outputs": [
    {
     "name": "stdout",
     "output_type": "stream",
     "text": [
      "2x1= 2\n",
      "2x2= 4\n",
      "2x3= 6\n",
      "2x4= 8\n",
      "2x5= 10\n",
      "2x6= 12\n",
      "2x7= 14\n",
      "2x8= 16\n",
      "2x9= 18\n",
      "3x1= 3\n",
      "3x2= 6\n",
      "3x3= 9\n",
      "3x4= 12\n",
      "3x5= 15\n",
      "3x6= 18\n",
      "3x7= 21\n",
      "3x8= 24\n",
      "3x9= 27\n",
      "4x1= 4\n",
      "4x2= 8\n",
      "4x3= 12\n",
      "4x4= 16\n",
      "4x5= 20\n",
      "4x6= 24\n",
      "4x7= 28\n",
      "4x8= 32\n",
      "4x9= 36\n",
      "5x1= 5\n",
      "5x2= 10\n",
      "5x3= 15\n",
      "5x4= 20\n",
      "5x5= 25\n",
      "5x6= 30\n",
      "5x7= 35\n",
      "5x8= 40\n",
      "5x9= 45\n",
      "6x1= 6\n",
      "6x2= 12\n",
      "6x3= 18\n",
      "6x4= 24\n",
      "6x5= 30\n",
      "6x6= 36\n",
      "6x7= 42\n",
      "6x8= 48\n",
      "6x9= 54\n",
      "7x1= 7\n",
      "7x2= 14\n",
      "7x3= 21\n",
      "7x4= 28\n",
      "7x5= 35\n",
      "7x6= 42\n",
      "7x7= 49\n",
      "7x8= 56\n",
      "7x9= 63\n",
      "8x1= 8\n",
      "8x2= 16\n",
      "8x3= 24\n",
      "8x4= 32\n",
      "8x5= 40\n",
      "8x6= 48\n",
      "8x7= 56\n",
      "8x8= 64\n",
      "8x9= 72\n",
      "9x1= 9\n",
      "9x2= 18\n",
      "9x3= 27\n",
      "9x4= 36\n",
      "9x5= 45\n",
      "9x6= 54\n",
      "9x7= 63\n",
      "9x8= 72\n",
      "9x9= 81\n"
     ]
    }
   ],
   "source": [
    "for i in range(2, 10) : \n",
    "    for j in range(1, 10) :\n",
    "        print('{}x{}='.format(i,j), i*j)"
   ]
  },
  {
   "cell_type": "code",
   "execution_count": 20,
   "id": "2429a490",
   "metadata": {},
   "outputs": [
    {
     "name": "stdout",
     "output_type": "stream",
     "text": [
      "2x1= 2\t2x2= 4\t2x3= 6\t2x4= 8\t2x5= 10\t2x6= 12\t2x7= 14\t2x8= 16\t2x9= 18\t\n",
      "3x1= 3\t3x2= 6\t3x3= 9\t3x4= 12\t3x5= 15\t3x6= 18\t3x7= 21\t3x8= 24\t3x9= 27\t\n",
      "4x1= 4\t4x2= 8\t4x3= 12\t4x4= 16\t4x5= 20\t4x6= 24\t4x7= 28\t4x8= 32\t4x9= 36\t\n",
      "5x1= 5\t5x2= 10\t5x3= 15\t5x4= 20\t5x5= 25\t5x6= 30\t5x7= 35\t5x8= 40\t5x9= 45\t\n",
      "6x1= 6\t6x2= 12\t6x3= 18\t6x4= 24\t6x5= 30\t6x6= 36\t6x7= 42\t6x8= 48\t6x9= 54\t\n",
      "7x1= 7\t7x2= 14\t7x3= 21\t7x4= 28\t7x5= 35\t7x6= 42\t7x7= 49\t7x8= 56\t7x9= 63\t\n",
      "8x1= 8\t8x2= 16\t8x3= 24\t8x4= 32\t8x5= 40\t8x6= 48\t8x7= 56\t8x8= 64\t8x9= 72\t\n",
      "9x1= 9\t9x2= 18\t9x3= 27\t9x4= 36\t9x5= 45\t9x6= 54\t9x7= 63\t9x8= 72\t9x9= 81\t\n"
     ]
    }
   ],
   "source": [
    "for i in range(2, 10) : \n",
    "    for j in range(1, 10) : \n",
    "        print('{}x{}='.format(i, j), i * j, end ='\\t')\n",
    "    print()"
   ]
  },
  {
   "cell_type": "code",
   "execution_count": 16,
   "id": "3ddb6bc3",
   "metadata": {
    "scrolled": true
   },
   "outputs": [
    {
     "name": "stdout",
     "output_type": "stream",
     "text": [
      "2*1=2\t2*2=4\t2*3=6\t2*4=8\t2*5=10\t2*6=12\t2*7=14\t2*8=16\t2*9=18\t\n",
      "3*1=3\t3*2=6\t3*3=9\t3*4=12\t3*5=15\t3*6=18\t3*7=21\t3*8=24\t3*9=27\t\n",
      "4*1=4\t4*2=8\t4*3=12\t4*4=16\t4*5=20\t4*6=24\t4*7=28\t4*8=32\t4*9=36\t\n",
      "5*1=5\t5*2=10\t5*3=15\t5*4=20\t5*5=25\t5*6=30\t5*7=35\t5*8=40\t5*9=45\t\n",
      "6*1=6\t6*2=12\t6*3=18\t6*4=24\t6*5=30\t6*6=36\t6*7=42\t6*8=48\t6*9=54\t\n",
      "7*1=7\t7*2=14\t7*3=21\t7*4=28\t7*5=35\t7*6=42\t7*7=49\t7*8=56\t7*9=63\t\n",
      "8*1=8\t8*2=16\t8*3=24\t8*4=32\t8*5=40\t8*6=48\t8*7=56\t8*8=64\t8*9=72\t\n",
      "9*1=9\t9*2=18\t9*3=27\t9*4=36\t9*5=45\t9*6=54\t9*7=63\t9*8=72\t9*9=81\t\n"
     ]
    }
   ],
   "source": [
    "for i in range(2, 10) : \n",
    "    for j in range(1, 10) : \n",
    "        print(f'{i}*{j}={i*j}', end='\\t')\n",
    "    print()"
   ]
  },
  {
   "cell_type": "markdown",
   "id": "aa3460c7",
   "metadata": {},
   "source": [
    "* f-string : Literal String Interpolation"
   ]
  },
  {
   "cell_type": "code",
   "execution_count": 22,
   "id": "3a66f945",
   "metadata": {},
   "outputs": [
    {
     "data": {
      "text/plain": [
       "'Hi, I am Song. I am male.'"
      ]
     },
     "execution_count": 22,
     "metadata": {},
     "output_type": "execute_result"
    }
   ],
   "source": [
    "name = 'Song'\n",
    "sex = 'male'\n",
    "\n",
    "f'Hi, I am {name}. I am {sex}.'"
   ]
  },
  {
   "cell_type": "code",
   "execution_count": 23,
   "id": "2614c0d9",
   "metadata": {},
   "outputs": [
    {
     "data": {
      "text/plain": [
       "'Hi, I am Song, I am s/w engineer and I like to use python. I am male and I was married. Nice to meet you'"
      ]
     },
     "execution_count": 23,
     "metadata": {},
     "output_type": "execute_result"
    }
   ],
   "source": [
    "name = 'Song'\n",
    "sex = 'male'\n",
    "married = 'married'\n",
    "language = 'python'\n",
    "job = 's/w engineer'\n",
    "\n",
    "f'Hi, I am {name}, I am {job} and I like to use {language}. \\\n",
    "I am {sex} and I was {married}. Nice to meet you'"
   ]
  },
  {
   "cell_type": "code",
   "execution_count": 24,
   "id": "1dff21f0",
   "metadata": {},
   "outputs": [
    {
     "data": {
      "text/plain": [
       "'x + y = 13 | x* y = 30'"
      ]
     },
     "execution_count": 24,
     "metadata": {},
     "output_type": "execute_result"
    }
   ],
   "source": [
    "x = 10\n",
    "y = 3\n",
    "\n",
    "f'x + y = {x+y} | x* y = {x*y}'"
   ]
  },
  {
   "cell_type": "markdown",
   "id": "f8906654",
   "metadata": {},
   "source": [
    "# 연습문제"
   ]
  },
  {
   "cell_type": "markdown",
   "id": "b7f14512",
   "metadata": {},
   "source": [
    "* 1부터 10까지 정수의 합 구하여 출력하기"
   ]
  },
  {
   "cell_type": "code",
   "execution_count": 25,
   "id": "fc1642db",
   "metadata": {},
   "outputs": [
    {
     "name": "stdout",
     "output_type": "stream",
     "text": [
      "55\n"
     ]
    }
   ],
   "source": [
    "sum = 0\n",
    "\n",
    "for i in range(1, 11) : \n",
    "    sum = sum + i\n",
    "print(sum)"
   ]
  },
  {
   "cell_type": "markdown",
   "id": "6ef56711",
   "metadata": {},
   "source": [
    "* 1부터 100까지 홀수의 합 구하여 출력하기"
   ]
  },
  {
   "cell_type": "code",
   "execution_count": 27,
   "id": "6307d66e",
   "metadata": {},
   "outputs": [
    {
     "name": "stdout",
     "output_type": "stream",
     "text": [
      "2500\n"
     ]
    }
   ],
   "source": [
    "sum = 0\n",
    "\n",
    "for i in range(1, 101) : \n",
    "    if i % 2 == 1 : \n",
    "        sum += i\n",
    "print(sum)"
   ]
  },
  {
   "cell_type": "markdown",
   "id": "c5184e63",
   "metadata": {},
   "source": [
    "# for문과 while문"
   ]
  },
  {
   "cell_type": "markdown",
   "id": "9aca3243",
   "metadata": {},
   "source": [
    "## 1부터 5까지 출력하기"
   ]
  },
  {
   "cell_type": "markdown",
   "id": "b97465f0",
   "metadata": {},
   "source": [
    "* for문"
   ]
  },
  {
   "cell_type": "code",
   "execution_count": 28,
   "id": "15f4c5bf",
   "metadata": {},
   "outputs": [
    {
     "name": "stdout",
     "output_type": "stream",
     "text": [
      "1\n",
      "2\n",
      "3\n",
      "4\n",
      "5\n"
     ]
    }
   ],
   "source": [
    "for i in range(1, 6) : \n",
    "    print(i)"
   ]
  },
  {
   "cell_type": "markdown",
   "id": "696a03a0",
   "metadata": {},
   "source": [
    "* while문"
   ]
  },
  {
   "cell_type": "code",
   "execution_count": 29,
   "id": "16557fde",
   "metadata": {},
   "outputs": [
    {
     "name": "stdout",
     "output_type": "stream",
     "text": [
      "1\n",
      "2\n",
      "3\n",
      "4\n",
      "5\n"
     ]
    }
   ],
   "source": [
    "n = 1 \n",
    "\n",
    "while n <= 5 : \n",
    "    print(n)\n",
    "    n += 1"
   ]
  },
  {
   "cell_type": "markdown",
   "id": "8aa59240",
   "metadata": {},
   "source": [
    "## 1부터 10까지 더하기"
   ]
  },
  {
   "cell_type": "markdown",
   "id": "ff927d84",
   "metadata": {},
   "source": [
    "* for문"
   ]
  },
  {
   "cell_type": "code",
   "execution_count": 32,
   "id": "4ad8394d",
   "metadata": {},
   "outputs": [
    {
     "name": "stdout",
     "output_type": "stream",
     "text": [
      "55\n"
     ]
    }
   ],
   "source": [
    "total = 0\n",
    "\n",
    "for i in range(1, 11) : \n",
    "    total += i\n",
    "    \n",
    "print(total)"
   ]
  },
  {
   "cell_type": "markdown",
   "id": "935d8dfc",
   "metadata": {},
   "source": [
    "* while문"
   ]
  },
  {
   "cell_type": "code",
   "execution_count": 37,
   "id": "33342b64",
   "metadata": {},
   "outputs": [
    {
     "name": "stdout",
     "output_type": "stream",
     "text": [
      "55\n"
     ]
    }
   ],
   "source": [
    "i = 1\n",
    "total = 0\n",
    "\n",
    "while i <= 10 : \n",
    "    total += i\n",
    "    i += 1\n",
    "    \n",
    "print(total)"
   ]
  },
  {
   "cell_type": "markdown",
   "id": "887f0861",
   "metadata": {},
   "source": [
    "# while문만 가능한 경우"
   ]
  },
  {
   "cell_type": "markdown",
   "id": "b97bedba",
   "metadata": {},
   "source": [
    "* 'q'를 입력할 때까지 반복하여 이름 입력받기"
   ]
  },
  {
   "cell_type": "code",
   "execution_count": 38,
   "id": "a14f7638",
   "metadata": {},
   "outputs": [
    {
     "name": "stdout",
     "output_type": "stream",
     "text": [
      "이름 : 남궁정후\n",
      "이름 : 이성현\n",
      "이름 : 남궁문석\n",
      "이름 : q\n"
     ]
    }
   ],
   "source": [
    "name = input('이름 : ')\n",
    "while name != 'q' :\n",
    "    name = input('이름 : ')"
   ]
  },
  {
   "cell_type": "markdown",
   "id": "86a805fd",
   "metadata": {},
   "source": [
    "* break로 반복문 빠져나오기"
   ]
  },
  {
   "cell_type": "code",
   "execution_count": 41,
   "id": "86c43d23",
   "metadata": {},
   "outputs": [
    {
     "name": "stdout",
     "output_type": "stream",
     "text": [
      "이름 : 남궁정후\n",
      "이름 : 정후\n",
      "이름 : 남궁문석\n",
      "이름 : 이성현\n",
      "이름 : quit\n"
     ]
    }
   ],
   "source": [
    "while True : \n",
    "    name = input('이름 : ')\n",
    "    if name == 'quit' : \n",
    "        break"
   ]
  },
  {
   "cell_type": "markdown",
   "id": "a08d5999",
   "metadata": {},
   "source": [
    "# 연습문제"
   ]
  },
  {
   "cell_type": "markdown",
   "id": "0106ab90",
   "metadata": {},
   "source": [
    "* 올바른 아이디/비밀번호를 입력할 때까지 아이디와 비밀번호를 입력하는 프로그램 만들기"
   ]
  },
  {
   "cell_type": "code",
   "execution_count": 44,
   "id": "fd821954",
   "metadata": {},
   "outputs": [
    {
     "name": "stdout",
     "output_type": "stream",
     "text": [
      "id : hi\n",
      "pwd : hi\n",
      "id : junghu\n",
      "pwd : 0000\n",
      "id : junghu\n",
      "pwd : 1234\n"
     ]
    }
   ],
   "source": [
    "# 올바른 아이디와 비밀번호\n",
    "id = 'junghu'\n",
    "pwd = '1234'\n",
    "\n",
    "while True : \n",
    "    input_id = input('id : ')\n",
    "    input_pwd = input('pwd : ')\n",
    "    \n",
    "    if input_id == 'junghu' and input_pwd == '1234' : \n",
    "        break"
   ]
  },
  {
   "cell_type": "markdown",
   "id": "49c01a80",
   "metadata": {},
   "source": [
    "* 확장하기     \n",
    "아이디가 잘못되었으면 '아이디를 확인하세요' 출력    \n",
    "비밀번호가 잘못되었으면 '비밀번호를 확인하세요' 출력"
   ]
  },
  {
   "cell_type": "code",
   "execution_count": 46,
   "id": "ed5d5f2b",
   "metadata": {},
   "outputs": [
    {
     "name": "stdout",
     "output_type": "stream",
     "text": [
      "id를 입력하세요: hi\n",
      "pwd를 입력하세요: 000\n",
      "아이디를 확인하세요\n",
      "비밀번호를 확인하세요\n",
      "id를 입력하세요: junghu\n",
      "pwd를 입력하세요: 0000\n",
      "비밀번호를 확인하세요\n",
      "id를 입력하세요: junghu\n",
      "pwd를 입력하세요: 1234\n"
     ]
    }
   ],
   "source": [
    "# 올바른 아이디와 비밀번호\n",
    "id = 'junghu'\n",
    "pwd = '1234'\n",
    "\n",
    "while True : \n",
    "    input_id = input('id를 입력하세요: ')\n",
    "    input_pwd = input('pwd를 입력하세요: ')\n",
    "    \n",
    "    if input_id == 'junghu' and input_pwd == '1234' : \n",
    "        break\n",
    "        \n",
    "    if input_id != 'junghu' : \n",
    "        print('아이디를 확인하세요')\n",
    "        \n",
    "    if input_pwd != '1234' : \n",
    "        print('비밀번호를 확인하세요')"
   ]
  },
  {
   "cell_type": "markdown",
   "id": "90aff9b2",
   "metadata": {},
   "source": [
    "* 사용자가 0을 입력할 때까지 숫자을 입력받아 입력받은 숫자들의 합을 구하는 프로그램을 작성하세요"
   ]
  },
  {
   "cell_type": "code",
   "execution_count": 1,
   "id": "1e8cff74",
   "metadata": {},
   "outputs": [
    {
     "name": "stdout",
     "output_type": "stream",
     "text": [
      "숫자: 5\n",
      "숫자: 8\n",
      "숫자: 13\n",
      "숫자: 50\n",
      "숫자: 0\n",
      "76\n"
     ]
    }
   ],
   "source": [
    "total = 0\n",
    "\n",
    "while True : \n",
    "    num = int(input('숫자: '))\n",
    "    \n",
    "    if num == 0 : \n",
    "        break\n",
    "        \n",
    "    else : \n",
    "        total = total + num\n",
    "        \n",
    "print(total)"
   ]
  },
  {
   "cell_type": "markdown",
   "id": "a121b005",
   "metadata": {},
   "source": [
    "# up&down 숫자맞추기 게임"
   ]
  },
  {
   "cell_type": "markdown",
   "id": "20a0a2dd",
   "metadata": {},
   "source": [
    "* 1~100 사이의 정답 숫자를 랜덤으로 하나 정하고, 정답 숫자를 맞출 때까지 숫자를 입력하는 게임이다.     \n",
    "내가 입력한 숫자가 정답보다 작으면 'DOWN', 정답보다 크면 'UP'을 출력하고 숫자를 다시 입력받는다.     \n",
    "정답을 맞추면 '정답!'이라고 출력하고 게임을 끝낸다."
   ]
  },
  {
   "cell_type": "code",
   "execution_count": 2,
   "id": "c5d63b03",
   "metadata": {},
   "outputs": [],
   "source": [
    "import random"
   ]
  },
  {
   "cell_type": "code",
   "execution_count": 4,
   "id": "6698909d",
   "metadata": {},
   "outputs": [
    {
     "name": "stdout",
     "output_type": "stream",
     "text": [
      "숫자를 입력하세요: 20\n",
      "DOWN!\n",
      "숫자를 입력하세요: 50\n",
      "DOWN!\n",
      "숫자를 입력하세요: 60\n",
      "정답!\n"
     ]
    }
   ],
   "source": [
    "num = random.randrange(1,101)\n",
    "\n",
    "while True : \n",
    "    input_num = int(input('숫자를 입력하세요: '))\n",
    "    \n",
    "    if input_num == num : \n",
    "        print('정답!')\n",
    "        break\n",
    "        \n",
    "    elif input_num >= num : \n",
    "        print('UP!')\n",
    "        \n",
    "    elif input_num <= num : \n",
    "        print('DOWN!')"
   ]
  },
  {
   "cell_type": "markdown",
   "id": "89030bf2",
   "metadata": {},
   "source": [
    "* 확장     \n",
    "기회는 5번까지만 주어집니다.     \n",
    "5회가 넘으면 '횟수초과' 메시지와 함께 정답을 알려줍니다.    \n",
    "정답을 맞추면 몇번째에 맞추었는지 출력합니다."
   ]
  },
  {
   "cell_type": "code",
   "execution_count": 9,
   "id": "b09c6fd5",
   "metadata": {},
   "outputs": [
    {
     "name": "stdout",
     "output_type": "stream",
     "text": [
      "예상숫자: 50\n",
      "up!\n",
      "예상숫자: 60\n",
      "up!\n",
      "예상숫자: 70\n",
      "up!\n",
      "예상숫자: 80\n",
      "up!\n",
      "예상숫자: 90\n",
      "down!\n",
      "횟수초과\n",
      "정답은  81 입니다!\n"
     ]
    }
   ],
   "source": [
    "cnt = 0\n",
    "\n",
    "answer = random.randrange(1,101)\n",
    "\n",
    "while True : \n",
    "    cnt += 1\n",
    "    if cnt > 5 : \n",
    "        print('횟수초과')\n",
    "        print('정답은 ', answer, '입니다!')\n",
    "        break\n",
    "        \n",
    "    num = int(input('예상숫자: '))\n",
    "    if answer == num : \n",
    "        print('정답입니다!')\n",
    "        print(cnt, '번째에 맞추었습니다.')\n",
    "        break\n",
    "        \n",
    "    if answer > num : \n",
    "        print('up!')\n",
    "        \n",
    "    else : \n",
    "        print('down!')"
   ]
  },
  {
   "cell_type": "markdown",
   "id": "5c8efc80",
   "metadata": {},
   "source": [
    "# 사칙연산 프로그램"
   ]
  },
  {
   "cell_type": "markdown",
   "id": "2fc9a9ea",
   "metadata": {},
   "source": [
    "* 두 수와 사칙연산기호(+,-,*,/)을 입력받아 연산 기호에 따라 연산 결과를 출력하는 프로그램을 작성하세요.\n",
    "* 사칙연산기호(+,-,*,/)가 아닌 경우 '잘못입력하셨습니다' 출력"
   ]
  },
  {
   "cell_type": "code",
   "execution_count": 12,
   "id": "8b23c239",
   "metadata": {},
   "outputs": [
    {
     "name": "stdout",
     "output_type": "stream",
     "text": [
      "숫자1: 16\n",
      "숫자2: 4\n",
      "사칙연산기호(+,-,*,/): /\n",
      "16/4=4\n"
     ]
    }
   ],
   "source": [
    "num1 = int(input('숫자1: '))\n",
    "num2 = int(input('숫자2: '))\n",
    "op = input('사칙연산기호(+,-,*,/): ')\n",
    "\n",
    "if op == '+' : \n",
    "    print(f'{num1}+{num2}={int(num1+num2)}')\n",
    "    \n",
    "elif op == '-' : \n",
    "    print(f'{num1}-{num2}={int(num1-num2)}')\n",
    "    \n",
    "elif op == '*' : \n",
    "    print(f'{num1}*{num2}={int(num1*num2)}')\n",
    "    \n",
    "elif op == '/' : \n",
    "    print(f'{num1}/{num2}={int(num1/num2)}')\n",
    "    \n",
    "else : \n",
    "    print('잘못 입력하셨습니다.')"
   ]
  },
  {
   "cell_type": "markdown",
   "id": "69f86a54",
   "metadata": {},
   "source": [
    "# 할인된 금액 계산"
   ]
  },
  {
   "cell_type": "markdown",
   "id": "3350f9b9",
   "metadata": {},
   "source": [
    "* 물건 구매가를 입력받고, 금액에 따른 할인율을 계산하여 구매가, 할인율, 할인금액, 지불금액을 출력하세요.\n",
    "|금액|할인율|\n",
    "|----|------|\n",
    "|1만원이상 5만원미만|5%|\n",
    "|5만원이상 10만원미만|7%|\n",
    "|10만원이상|10%|\n"
   ]
  },
  {
   "cell_type": "code",
   "execution_count": 15,
   "id": "a2d6871f",
   "metadata": {},
   "outputs": [
    {
     "name": "stdout",
     "output_type": "stream",
     "text": [
      "물건 구매가: 125000\n",
      "구매가:  125000 원\n",
      "할인율:  10 %\n",
      "할인금액:  12500 원\n",
      "지불금액:  112500 원\n"
     ]
    }
   ],
   "source": [
    "price = int(input('물건 구매가: '))\n",
    "\n",
    "if price >= 100000 : \n",
    "    off = 10\n",
    "    \n",
    "elif price >= 50000 : \n",
    "    off = 7\n",
    "    \n",
    "elif price >= 10000 :\n",
    "    off = 5\n",
    "    \n",
    "else : \n",
    "    off = 0\n",
    "    \n",
    "print('구매가: ', price, '원')\n",
    "print('할인율: ', off, '%')\n",
    "print('할인금액: ', int(price*off/100), '원')\n",
    "print('지불금액: ', int(price*(100-off)/100), '원')"
   ]
  },
  {
   "cell_type": "code",
   "execution_count": null,
   "id": "0832379f",
   "metadata": {},
   "outputs": [],
   "source": []
  }
 ],
 "metadata": {
  "kernelspec": {
   "display_name": "Python 3 (ipykernel)",
   "language": "python",
   "name": "python3"
  },
  "language_info": {
   "codemirror_mode": {
    "name": "ipython",
    "version": 3
   },
   "file_extension": ".py",
   "mimetype": "text/x-python",
   "name": "python",
   "nbconvert_exporter": "python",
   "pygments_lexer": "ipython3",
   "version": "3.9.7"
  }
 },
 "nbformat": 4,
 "nbformat_minor": 5
}
