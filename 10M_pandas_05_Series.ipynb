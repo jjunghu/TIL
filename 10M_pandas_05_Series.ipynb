{
 "cells": [
  {
   "cell_type": "markdown",
   "id": "09c23006",
   "metadata": {},
   "source": [
    "### 시리즈 만들기, 인덱스 구조, 원소선택"
   ]
  },
  {
   "cell_type": "markdown",
   "id": "799f15c7",
   "metadata": {},
   "source": [
    "### 시리즈 (Series)"
   ]
  },
  {
   "cell_type": "markdown",
   "id": "fdecf75a",
   "metadata": {},
   "source": [
    "* 시리즈 만들기"
   ]
  },
  {
   "cell_type": "code",
   "execution_count": 1,
   "id": "5c628398",
   "metadata": {},
   "outputs": [
    {
     "name": "stdout",
     "output_type": "stream",
     "text": [
      "<class 'pandas.core.series.Series'>\n",
      "\n",
      "\n",
      "a    1\n",
      "b    2\n",
      "c    3\n",
      "dtype: int64\n"
     ]
    }
   ],
   "source": [
    "# 딕셔너리에서 시리즈로 변환\n",
    "\n",
    "# pandas 불러오기\n",
    "import pandas as pd\n",
    "\n",
    "# k:v 구조를 갖는 딕셔너리를 만들고, 변수 dict_data에 저장\n",
    "dict_data = {'a': 1, 'b':2, 'c':3} \n",
    "\n",
    "# 판다스 Series() 함수로 딕션너리(dict_data)를 시리즈로 변환, 변수 sr에 저장\n",
    "sr = pd.Series(dict_data)\n",
    "\n",
    "# 변수 sr의 자료형 출력\n",
    "print(type(sr))\n",
    "print('\\n')\n",
    "\n",
    "# 변수 sr에 저장되어있는 시리즈 객체를 출력\n",
    "print(sr)"
   ]
  },
  {
   "cell_type": "markdown",
   "id": "3ccede46",
   "metadata": {},
   "source": [
    "* 인덱스 구조\n",
    "* 인덱스 배열: Series객체.index\n",
    "* 데이터값 배열: Series객체.values"
   ]
  },
  {
   "cell_type": "code",
   "execution_count": 2,
   "id": "da2a187a",
   "metadata": {},
   "outputs": [
    {
     "name": "stdout",
     "output_type": "stream",
     "text": [
      "<class 'pandas.core.series.Series'>\n",
      "\n",
      "\n",
      "0    2019-01-02\n",
      "1          3.14\n",
      "2           ABC\n",
      "3           100\n",
      "4          True\n",
      "dtype: object\n"
     ]
    }
   ],
   "source": [
    "# 시리즈 인덱스\n",
    "\n",
    "import pandas as pd\n",
    "\n",
    "# 리스트를 시리즈로 변환하여 변수 sr에 저장\n",
    "list_data = ['2019-01-02', 3.14, 'ABC', 100, True]\n",
    "sr = pd.Series(list_data)\n",
    "print(type(sr))\n",
    "print('\\n')\n",
    "print(sr)"
   ]
  },
  {
   "cell_type": "code",
   "execution_count": 3,
   "id": "b5189d52",
   "metadata": {},
   "outputs": [
    {
     "name": "stdout",
     "output_type": "stream",
     "text": [
      "RangeIndex(start=0, stop=5, step=1)\n",
      "\n",
      "\n",
      "['2019-01-02' 3.14 'ABC' 100 True]\n"
     ]
    }
   ],
   "source": [
    "# 인덱스 배열은 변수 idx에 저장, 데이터 값 배열은 변수 val에 저장\n",
    "idx = sr.index   # 인덱스 배열\n",
    "val = sr.values  # 데이터 값 배열\n",
    "\n",
    "print(idx)\n",
    "print('\\n')\n",
    "print(val)"
   ]
  },
  {
   "cell_type": "markdown",
   "id": "03f75a6e",
   "metadata": {},
   "source": [
    "* 시리즈 인덱스"
   ]
  },
  {
   "cell_type": "code",
   "execution_count": 5,
   "id": "0c064243",
   "metadata": {},
   "outputs": [
    {
     "name": "stdout",
     "output_type": "stream",
     "text": [
      "이름              영인\n",
      "생년월일    2010-05-01\n",
      "성별               여\n",
      "학생여부          True\n",
      "dtype: object\n"
     ]
    }
   ],
   "source": [
    "import pandas as pd\n",
    "\n",
    "# 튜플을 시리즈로 변환(index 옵션에 인덱스 이름을 지정)\n",
    "tup_data = ('영인', '2010-05-01', '여', True)\n",
    "sr = pd.Series(tup_data, index=['이름', '생년월일', '성별', '학생여부'])\n",
    "print(sr)"
   ]
  },
  {
   "cell_type": "markdown",
   "id": "f7ccc5e7",
   "metadata": {},
   "source": [
    "* 인덱스 이용, 원소 선택시 대괄호([]) 안에 인덱스 입력"
   ]
  },
  {
   "cell_type": "code",
   "execution_count": 6,
   "id": "794d3185",
   "metadata": {},
   "outputs": [
    {
     "name": "stdout",
     "output_type": "stream",
     "text": [
      "영인\n",
      "영인\n"
     ]
    }
   ],
   "source": [
    "# 원소를 1개 선택\n",
    "print(sr[0])       # sr의 1번째 원소를 선택 (정수형 위치 인덱스를 활용)\n",
    "print(sr['이름'])  # '이름' 라벨을 가진 원소를 선택 (인덱스 이름을 활용)"
   ]
  },
  {
   "cell_type": "code",
   "execution_count": 7,
   "id": "0016965b",
   "metadata": {},
   "outputs": [
    {
     "name": "stdout",
     "output_type": "stream",
     "text": [
      "생년월일    2010-05-01\n",
      "성별               여\n",
      "dtype: object\n",
      "\n",
      "생년월일    2010-05-01\n",
      "성별               여\n",
      "dtype: object\n"
     ]
    }
   ],
   "source": [
    "# 여러 개의 원소를 선택 (인덱스 리스트 활용)\n",
    "print(sr[[1,2]])\n",
    "print()\n",
    "print(sr[['생년월일', '성별']])"
   ]
  },
  {
   "cell_type": "code",
   "execution_count": 8,
   "id": "9dccf521",
   "metadata": {},
   "outputs": [
    {
     "name": "stdout",
     "output_type": "stream",
     "text": [
      "생년월일    2010-05-01\n",
      "dtype: object\n",
      "\n",
      "생년월일    2010-05-01\n",
      "성별               여\n",
      "dtype: object\n"
     ]
    }
   ],
   "source": [
    "# 여러 개의 원소를 선택 (인덱스 범위 지정)\n",
    "print(sr[1:2])\n",
    "print()\n",
    "print(sr['생년월일':'성별'])"
   ]
  },
  {
   "cell_type": "code",
   "execution_count": null,
   "id": "f9061008",
   "metadata": {},
   "outputs": [],
   "source": []
  }
 ],
 "metadata": {
  "kernelspec": {
   "display_name": "Python 3 (ipykernel)",
   "language": "python",
   "name": "python3"
  },
  "language_info": {
   "codemirror_mode": {
    "name": "ipython",
    "version": 3
   },
   "file_extension": ".py",
   "mimetype": "text/x-python",
   "name": "python",
   "nbconvert_exporter": "python",
   "pygments_lexer": "ipython3",
   "version": "3.9.7"
  }
 },
 "nbformat": 4,
 "nbformat_minor": 5
}
