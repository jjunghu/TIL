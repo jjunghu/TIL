{
 "cells": [
  {
   "cell_type": "markdown",
   "id": "d3e93a07",
   "metadata": {},
   "source": [
    "- 도수분포포: 특정 구간에 속하는 자료의 개수를 표현 (도수->빈도수)\n",
    "- 히스토그램: 도수분포표를 시각화하여 막대그래프로 표현하지만 Bar Plot과 다름"
   ]
  },
  {
   "cell_type": "markdown",
   "id": "a5b590d1",
   "metadata": {},
   "source": [
    "- 믹대그래프(Bar Plot): 표현 값에 비례하여 높이와 길이를 지닌 직사각형 막대로 범주형 데이터를 표현하는 차트나 그래프, 합계, 평균 등의 수치를 시각화한 것\n",
    "- 히스토그램(Hist Plot): 구간별 빈도수를 표현한 것 ~ 연속형 데이터에 사용\n",
    "- 정규분포(Density Plot): 확률 밀도 함수로, 확률 변수의 밀도를 표현한 것"
   ]
  },
  {
   "cell_type": "code",
   "execution_count": 1,
   "id": "e063a045",
   "metadata": {},
   "outputs": [],
   "source": [
    "import pandas as pd\n",
    "import numpy as np\n",
    "import matplotlib.pyplot as plt\n",
    "import matplotlib as mpl\n",
    "\n",
    "%matplotlib inline\n",
    "\n",
    "# 한글폰트 사용시 그래프에서 마이너스 폰트 깨지는 문제에 대한 대처\n",
    "mpl.rcParams['axes.unicode_minus'] = False"
   ]
  },
  {
   "cell_type": "code",
   "execution_count": 2,
   "id": "d767f92c",
   "metadata": {},
   "outputs": [
    {
     "data": {
      "text/html": [
       "<div>\n",
       "<style scoped>\n",
       "    .dataframe tbody tr th:only-of-type {\n",
       "        vertical-align: middle;\n",
       "    }\n",
       "\n",
       "    .dataframe tbody tr th {\n",
       "        vertical-align: top;\n",
       "    }\n",
       "\n",
       "    .dataframe thead th {\n",
       "        text-align: right;\n",
       "    }\n",
       "</style>\n",
       "<table border=\"1\" class=\"dataframe\">\n",
       "  <thead>\n",
       "    <tr style=\"text-align: right;\">\n",
       "      <th></th>\n",
       "      <th>a</th>\n",
       "      <th>b</th>\n",
       "      <th>c</th>\n",
       "    </tr>\n",
       "  </thead>\n",
       "  <tbody>\n",
       "    <tr>\n",
       "      <th>0</th>\n",
       "      <td>1.057319</td>\n",
       "      <td>-0.767512</td>\n",
       "      <td>-1.737774</td>\n",
       "    </tr>\n",
       "    <tr>\n",
       "      <th>1</th>\n",
       "      <td>1.209925</td>\n",
       "      <td>2.142610</td>\n",
       "      <td>-2.296428</td>\n",
       "    </tr>\n",
       "    <tr>\n",
       "      <th>2</th>\n",
       "      <td>3.232127</td>\n",
       "      <td>0.210518</td>\n",
       "      <td>-2.136755</td>\n",
       "    </tr>\n",
       "    <tr>\n",
       "      <th>3</th>\n",
       "      <td>0.994400</td>\n",
       "      <td>0.254948</td>\n",
       "      <td>-1.287140</td>\n",
       "    </tr>\n",
       "    <tr>\n",
       "      <th>4</th>\n",
       "      <td>0.377077</td>\n",
       "      <td>-0.655102</td>\n",
       "      <td>-1.233766</td>\n",
       "    </tr>\n",
       "  </tbody>\n",
       "</table>\n",
       "</div>"
      ],
      "text/plain": [
       "          a         b         c\n",
       "0  1.057319 -0.767512 -1.737774\n",
       "1  1.209925  2.142610 -2.296428\n",
       "2  3.232127  0.210518 -2.136755\n",
       "3  0.994400  0.254948 -1.287140\n",
       "4  0.377077 -0.655102 -1.233766"
      ]
     },
     "execution_count": 2,
     "metadata": {},
     "output_type": "execute_result"
    }
   ],
   "source": [
    "df4 = pd.DataFrame({'a' : np.random.randn(1000) + 1,\n",
    "                   'b' : np.random.randn(1000),\n",
    "                   'c' : np.random.randn(1000) -1},\n",
    "                  columns=['a', 'b', 'c'])\n",
    "df4.head()"
   ]
  },
  {
   "cell_type": "code",
   "execution_count": 3,
   "id": "ec5e9185",
   "metadata": {},
   "outputs": [
    {
     "data": {
      "text/plain": [
       "<AxesSubplot:ylabel='Frequency'>"
      ]
     },
     "execution_count": 3,
     "metadata": {},
     "output_type": "execute_result"
    },
    {
     "data": {
      "image/png": "[encoded data removed]",
      "text/plain": [
       "<Figure size 432x288 with 1 Axes>"
      ]
     },
     "metadata": {
      "needs_background": "light"
     },
     "output_type": "display_data"
    }
   ],
   "source": [
    "# bin: 여기서는 10개\n",
    "df4.plot.hist(alpha=0.5)\n",
    "# alpha 값: 투명도"
   ]
  },
  {
   "cell_type": "code",
   "execution_count": 4,
   "id": "ae6f0195",
   "metadata": {},
   "outputs": [
    {
     "data": {
      "text/plain": [
       "<AxesSubplot:ylabel='Frequency'>"
      ]
     },
     "execution_count": 4,
     "metadata": {},
     "output_type": "execute_result"
    },
    {
     "data": {
      "image/png": "[encoded data removed]",
      "text/plain": [
       "<Figure size 432x288 with 1 Axes>"
      ]
     },
     "metadata": {
      "needs_background": "light"
     },
     "output_type": "display_data"
    }
   ],
   "source": [
    "df4.plot.hist(stacked=True, bins=20)\n",
    "# stacked=True, bins=20: 누적 합, bin 값이 20개"
   ]
  },
  {
   "cell_type": "code",
   "execution_count": 5,
   "id": "66475e09",
   "metadata": {},
   "outputs": [
    {
     "data": {
      "text/plain": [
       "<AxesSubplot:xlabel='Frequency'>"
      ]
     },
     "execution_count": 5,
     "metadata": {},
     "output_type": "execute_result"
    },
    {
     "data": {
      "image/png": "[encoded data removed]",
      "text/plain": [
       "<Figure size 432x288 with 1 Axes>"
      ]
     },
     "metadata": {
      "needs_background": "light"
     },
     "output_type": "display_data"
    }
   ],
   "source": [
    "df4['a'].plot.hist(orientation='horizontal', cumulative=True)\n",
    "# orientation='horizontal', cumulative=True\n",
    "# 수평 방향, 누적해서 표현"
   ]
  },
  {
   "cell_type": "code",
   "execution_count": null,
   "id": "0fcdad64",
   "metadata": {},
   "outputs": [],
   "source": []
  }
 ],
 "metadata": {
  "kernelspec": {
   "display_name": "Python 3 (ipykernel)",
   "language": "python",
   "name": "python3"
  },
  "language_info": {
   "codemirror_mode": {
    "name": "ipython",
    "version": 3
   },
   "file_extension": ".py",
   "mimetype": "text/x-python",
   "name": "python",
   "nbconvert_exporter": "python",
   "pygments_lexer": "ipython3",
   "version": "3.9.7"
  }
 },
 "nbformat": 4,
 "nbformat_minor": 5
}
