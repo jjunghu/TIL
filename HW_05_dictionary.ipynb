{
 "cells": [
  {
   "cell_type": "markdown",
   "id": "abcad3cc",
   "metadata": {},
   "source": [
    "# 딕셔너리 만들기"
   ]
  },
  {
   "cell_type": "markdown",
   "id": "c94c2ee5",
   "metadata": {},
   "source": [
    "## 딕셔너리명 = {키1:값1, 키2:값2,...,}\n",
    "* 중괄호 안에 키:값의 쌍으로 된 항목을 콤마(,)로 구분하여 적어준다."
   ]
  },
  {
   "cell_type": "markdown",
   "id": "93198327",
   "metadata": {},
   "source": [
    "|메뉴|가격|\n",
    "|----|----|\n",
    "|김밥|2000|\n",
    "|떡볶이|2500|\n",
    "|어묵|2000|\n",
    "|튀김|3000|\n"
   ]
  },
  {
   "cell_type": "code",
   "execution_count": 2,
   "id": "bed3a388",
   "metadata": {},
   "outputs": [
    {
     "data": {
      "text/plain": [
       "{'김밥': 2000, '떡볶이': 2500, '어묵': 2000, '튀김': 3000}"
      ]
     },
     "execution_count": 2,
     "metadata": {},
     "output_type": "execute_result"
    }
   ],
   "source": [
    "menu = {'김밥':2000, '떡볶이':2500, '어묵':2000, '튀김':3000}\n",
    "menu"
   ]
  },
  {
   "cell_type": "code",
   "execution_count": 3,
   "id": "749b1ad1",
   "metadata": {},
   "outputs": [
    {
     "data": {
      "text/plain": [
       "{'김밥': 2000, '떡볶이': 2500, '어묵': 2000, '튀김': 3000}"
      ]
     },
     "execution_count": 3,
     "metadata": {},
     "output_type": "execute_result"
    }
   ],
   "source": [
    "menu = {'김밥':2000,\n",
    "       '떡볶이':2500,\n",
    "       '어묵':2000,\n",
    "       '튀김':3000}\n",
    "\n",
    "menu"
   ]
  },
  {
   "cell_type": "markdown",
   "id": "73249f20",
   "metadata": {},
   "source": [
    "## dict로 딕셔너리 만들기"
   ]
  },
  {
   "cell_type": "markdown",
   "id": "504af583",
   "metadata": {},
   "source": [
    "* 딕셔너리명 = dict(키1=값1, 키2=값2,...,)\n",
    "* 키에 따옴표('')를 쓰지 않는다는 점에 주의한다.\n",
    "* 키에 따옴표('')를 쓰지 않아도 딕셔너리가 생성되면서 자동으로 문자열형으로 지정된다."
   ]
  },
  {
   "cell_type": "code",
   "execution_count": 4,
   "id": "398000bd",
   "metadata": {},
   "outputs": [
    {
     "data": {
      "text/plain": [
       "{'김밥': 2000, '떡볶이': 2500, '어묵': 2000, '튀김': 3000}"
      ]
     },
     "execution_count": 4,
     "metadata": {},
     "output_type": "execute_result"
    }
   ],
   "source": [
    "menu = dict(김밥=2000, 떡볶이=2500, 어묵=2000, 튀김=3000)\n",
    "menu"
   ]
  },
  {
   "cell_type": "markdown",
   "id": "9110d191",
   "metadata": {},
   "source": [
    "* 딕셔너리명 = dict(zip(key리스트, value리스트))"
   ]
  },
  {
   "cell_type": "code",
   "execution_count": 6,
   "id": "713fb7bb",
   "metadata": {},
   "outputs": [
    {
     "data": {
      "text/plain": [
       "{'김밥': 2000, '떡볶이': 2500, '어묵': 2000, '튀김': 3000}"
      ]
     },
     "execution_count": 6,
     "metadata": {},
     "output_type": "execute_result"
    }
   ],
   "source": [
    "key_list = ['김밥', '떡볶이', '어묵', '튀김']\n",
    "value_list = [2000, 2500, 2000, 3000]\n",
    "\n",
    "menu2 = dict(zip(key_list, value_list))\n",
    "menu2"
   ]
  },
  {
   "cell_type": "markdown",
   "id": "d5d40a14",
   "metadata": {},
   "source": [
    "* 딕셔너리명 = dict([(키1,값1),(키1,값2),...,])"
   ]
  },
  {
   "cell_type": "code",
   "execution_count": 11,
   "id": "57efd3f3",
   "metadata": {},
   "outputs": [
    {
     "data": {
      "text/plain": [
       "{'김밥': 2000, '떡볶이': 2500, '어묵': 2000, '튀김': 3000}"
      ]
     },
     "execution_count": 11,
     "metadata": {},
     "output_type": "execute_result"
    }
   ],
   "source": [
    "list = [('김밥', 2000), ('떡볶이', 2500), ('어묵', 2000), ('튀김', 3000)]\n",
    "\n",
    "menu3 = dict(list)\n",
    "menu3"
   ]
  },
  {
   "cell_type": "code",
   "execution_count": 12,
   "id": "18430ab2",
   "metadata": {},
   "outputs": [
    {
     "data": {
      "text/plain": [
       "{'김밥': 2000, '떡볶이': 2500, '어묵': 2000, '튀김': 3000}"
      ]
     },
     "execution_count": 12,
     "metadata": {},
     "output_type": "execute_result"
    }
   ],
   "source": [
    "menu3 = dict([('김밥', 2000), ('떡볶이', 2500), ('어묵', 2000), ('튀김', 3000)])\n",
    "menu3"
   ]
  },
  {
   "cell_type": "markdown",
   "id": "2516f3b0",
   "metadata": {},
   "source": [
    "* 딕셔너리명 = dict({키1:값1,키2:값2,...,})"
   ]
  },
  {
   "cell_type": "code",
   "execution_count": 13,
   "id": "559ddb2e",
   "metadata": {},
   "outputs": [
    {
     "name": "stdout",
     "output_type": "stream",
     "text": [
      "{'김밥': 2000, '떡볶이': 2500, '어묵': 2000, '튀김': 3000}\n"
     ]
    }
   ],
   "source": [
    "menu4 = dict({'김밥':2000, '떡볶이':2500, '어묵':2000, '튀김':3000})\n",
    "print(menu4)"
   ]
  },
  {
   "cell_type": "markdown",
   "id": "96a5388e",
   "metadata": {},
   "source": [
    "## 딕셔너리에 사용할 수 있는 자료형\n",
    "* 딕셔너리의 value에는 모든 자료형을 혼합하여 사용할 수 있다."
   ]
  },
  {
   "cell_type": "code",
   "execution_count": 14,
   "id": "f7f2884c",
   "metadata": {},
   "outputs": [
    {
     "data": {
      "text/plain": [
       "{'name': 'james', '나이': 25, '키': 175.5, '시력': (1.0, 1.0), '취미': ['운동', '독서']}"
      ]
     },
     "execution_count": 14,
     "metadata": {},
     "output_type": "execute_result"
    }
   ],
   "source": [
    "person = {'name' : 'james',\n",
    "         '나이' : 25,\n",
    "         '키' : 175.5,\n",
    "         '시력' : (1.0, 1.0),\n",
    "         '취미' : ['운동', '독서']}\n",
    "\n",
    "person"
   ]
  },
  {
   "cell_type": "markdown",
   "id": "fde9a39a",
   "metadata": {},
   "source": [
    "* 딕셔너리의 key에는 숫자, 문자열, 부울형, 튜플을 사용할 수 있다."
   ]
  },
  {
   "cell_type": "code",
   "execution_count": 15,
   "id": "dfca924b",
   "metadata": {},
   "outputs": [
    {
     "name": "stdout",
     "output_type": "stream",
     "text": [
      "{100: 'hundred', True: '참', False: '거짓', (1, 3): '학년, 반', 7: '번호'}\n"
     ]
    }
   ],
   "source": [
    "number = 7\n",
    "\n",
    "dict1 = {\n",
    "    100:'hundred',\n",
    "    True:'참',\n",
    "    False:'거짓',\n",
    "    (1,3):'학년, 반',\n",
    "    number:'번호'\n",
    "}\n",
    "\n",
    "print(dict1)"
   ]
  },
  {
   "cell_type": "markdown",
   "id": "b1304b66",
   "metadata": {},
   "source": [
    "##  중복된 key를 사용하여 딕셔너리 만들면?"
   ]
  },
  {
   "cell_type": "code",
   "execution_count": 17,
   "id": "662308cf",
   "metadata": {},
   "outputs": [
    {
     "data": {
      "text/plain": [
       "{'name': 'james', '나이': 30, '키': 175.5, '시력': (1.0, 1.0), '취미': ['운동', '독서']}"
      ]
     },
     "execution_count": 17,
     "metadata": {},
     "output_type": "execute_result"
    }
   ],
   "source": [
    "person = {'name' : 'james',\n",
    "         '나이' : 25,\n",
    "          '나이' : 30,\n",
    "         '키' : 175.5,\n",
    "         '시력' : (1.0, 1.0),\n",
    "         '취미' : ['운동', '독서']}\n",
    "\n",
    "person"
   ]
  },
  {
   "cell_type": "markdown",
   "id": "0753ecfb",
   "metadata": {},
   "source": [
    "# 딕셔너리 값 추출하기"
   ]
  },
  {
   "cell_type": "markdown",
   "id": "62d7dcba",
   "metadata": {},
   "source": [
    "## 딕셔너리명[key]"
   ]
  },
  {
   "cell_type": "code",
   "execution_count": 18,
   "id": "194b4fc4",
   "metadata": {},
   "outputs": [
    {
     "name": "stdout",
     "output_type": "stream",
     "text": [
      "30\n",
      "175.5\n",
      "['운동', '독서']\n"
     ]
    }
   ],
   "source": [
    "print(person['나이'])\n",
    "print(person['키'])\n",
    "print(person['취미'])"
   ]
  },
  {
   "cell_type": "markdown",
   "id": "c37839ab",
   "metadata": {},
   "source": [
    "## 존재하지 않는 key로 추출하면?\n",
    "* KeyError가 발생한다."
   ]
  },
  {
   "cell_type": "code",
   "execution_count": 20,
   "id": "2f5eeada",
   "metadata": {},
   "outputs": [
    {
     "ename": "KeyError",
     "evalue": "'몸무게'",
     "output_type": "error",
     "traceback": [
      "\u001b[1;31m---------------------------------------------------------------------------\u001b[0m",
      "\u001b[1;31mKeyError\u001b[0m                                  Traceback (most recent call last)",
      "\u001b[1;32m~\\AppData\\Local\\Temp/ipykernel_19660/3041137338.py\u001b[0m in \u001b[0;36m<module>\u001b[1;34m\u001b[0m\n\u001b[1;32m----> 1\u001b[1;33m \u001b[0mperson\u001b[0m\u001b[1;33m[\u001b[0m\u001b[1;34m'몸무게'\u001b[0m\u001b[1;33m]\u001b[0m\u001b[1;33m\u001b[0m\u001b[1;33m\u001b[0m\u001b[0m\n\u001b[0m",
      "\u001b[1;31mKeyError\u001b[0m: '몸무게'"
     ]
    }
   ],
   "source": [
    "person['몸무게']"
   ]
  },
  {
   "cell_type": "markdown",
   "id": "f0db54b9",
   "metadata": {},
   "source": [
    "## 딕셔너리에 키 존재여부 확인하기\n",
    "* key in 딕셔너리명"
   ]
  },
  {
   "cell_type": "code",
   "execution_count": 21,
   "id": "382a1689",
   "metadata": {},
   "outputs": [
    {
     "name": "stdout",
     "output_type": "stream",
     "text": [
      "존재하지 않음\n"
     ]
    }
   ],
   "source": [
    "if '몸무게' in person : \n",
    "    print(person['몸무게'])\n",
    "    \n",
    "else : \n",
    "    print('존재하지 않음')"
   ]
  },
  {
   "cell_type": "markdown",
   "id": "73d5c46a",
   "metadata": {},
   "source": [
    "## 딕셔너리명.get(key, msg)\n",
    "* 존재하지 않는 key로 추출 시도해도 오류가 발생하지 않는다.\n",
    "* 존재하지 않는 key로 추출 시도할 경우 출력할 메시지를 설정할 수 있다."
   ]
  },
  {
   "cell_type": "code",
   "execution_count": 23,
   "id": "8e9dd0cf",
   "metadata": {},
   "outputs": [
    {
     "data": {
      "text/plain": [
       "30"
      ]
     },
     "execution_count": 23,
     "metadata": {},
     "output_type": "execute_result"
    }
   ],
   "source": [
    "person.get('나이')"
   ]
  },
  {
   "cell_type": "code",
   "execution_count": 24,
   "id": "cde4cfdb",
   "metadata": {},
   "outputs": [],
   "source": [
    "person.get('몸무게')"
   ]
  },
  {
   "cell_type": "code",
   "execution_count": 25,
   "id": "49c7a4a9",
   "metadata": {},
   "outputs": [
    {
     "data": {
      "text/plain": [
       "'존재하지 않음'"
      ]
     },
     "execution_count": 25,
     "metadata": {},
     "output_type": "execute_result"
    }
   ],
   "source": [
    "person.get('몸무게', '존재하지 않음')"
   ]
  },
  {
   "cell_type": "code",
   "execution_count": 26,
   "id": "0ef0b59a",
   "metadata": {},
   "outputs": [
    {
     "data": {
      "text/plain": [
       "30"
      ]
     },
     "execution_count": 26,
     "metadata": {},
     "output_type": "execute_result"
    }
   ],
   "source": [
    "person.get('나이', '존재하지 않음')"
   ]
  },
  {
   "cell_type": "markdown",
   "id": "6ab53964",
   "metadata": {},
   "source": [
    "# 딕셔너리 항목 추가/수정"
   ]
  },
  {
   "cell_type": "markdown",
   "id": "c5bf91ca",
   "metadata": {},
   "source": [
    "## 딕셔너리명[키]=값\n",
    "* 키가 존재하지 않으면 추가, 존재하면 수정된다."
   ]
  },
  {
   "cell_type": "code",
   "execution_count": 27,
   "id": "0d33d7fe",
   "metadata": {},
   "outputs": [
    {
     "data": {
      "text/plain": [
       "{'kor': 100, 'eng': 90, 'math': 85, 'music': 95}"
      ]
     },
     "execution_count": 27,
     "metadata": {},
     "output_type": "execute_result"
    }
   ],
   "source": [
    "scores = {'kor':100, 'eng':90, 'math':80}\n",
    "\n",
    "# math 점수 85점으로 수정하기\n",
    "scores['math'] = 85\n",
    "\n",
    "# music 점수 95점 추가하기\n",
    "scores['music'] = 95\n",
    "\n",
    "scores"
   ]
  },
  {
   "cell_type": "markdown",
   "id": "63363a11",
   "metadata": {},
   "source": [
    "## setdefault로 항목 추가하기"
   ]
  },
  {
   "cell_type": "markdown",
   "id": "d14e0b54",
   "metadata": {},
   "source": [
    "* 딕셔너리명.setdefault(키,값)\n",
    "* 이미 들어있는 키의 값은 수정할 수 없다."
   ]
  },
  {
   "cell_type": "code",
   "execution_count": 28,
   "id": "2d5a2e4b",
   "metadata": {},
   "outputs": [
    {
     "data": {
      "text/plain": [
       "{'kor': 100, 'eng': 90, 'math': 80, 'music': None}"
      ]
     },
     "execution_count": 28,
     "metadata": {},
     "output_type": "execute_result"
    }
   ],
   "source": [
    "scores = {'kor':100, 'eng':90, 'math':80}\n",
    "\n",
    "# music점수 넣기(key만 넣고 value를 생략하면? value에 빈값)\n",
    "\n",
    "scores.setdefault('music')\n",
    "\n",
    "scores"
   ]
  },
  {
   "cell_type": "code",
   "execution_count": 32,
   "id": "c88dc50c",
   "metadata": {},
   "outputs": [
    {
     "data": {
      "text/plain": [
       "{'kor': 100, 'eng': 90, 'math': 80, 'music': 90}"
      ]
     },
     "execution_count": 32,
     "metadata": {},
     "output_type": "execute_result"
    }
   ],
   "source": [
    "scores = {'kor':100, 'eng':90, 'math':80}\n",
    "\n",
    "# music점수 90점 추가\n",
    "\n",
    "scores.setdefault('music', 90)\n",
    "\n",
    "scores"
   ]
  },
  {
   "cell_type": "code",
   "execution_count": 34,
   "id": "70294d2d",
   "metadata": {},
   "outputs": [
    {
     "data": {
      "text/plain": [
       "{'kor': 100, 'eng': 90, 'math': 80, 'music': 85}"
      ]
     },
     "execution_count": 34,
     "metadata": {},
     "output_type": "execute_result"
    }
   ],
   "source": [
    "scores = {'kor': 100, 'eng': 90, 'math': 80, 'music': 95}\n",
    "\n",
    "# music점수 85점으로 수정\n",
    "# scores.setdefault('music', 85)   # 변경되지 않음\n",
    "scores['music'] = 85\n",
    "\n",
    "scores"
   ]
  },
  {
   "cell_type": "markdown",
   "id": "ec4ae455",
   "metadata": {},
   "source": [
    "## update로 여러 항목 추가/수정하기\n",
    "* 키가 존재하면 수정, 존재하지 않으면 추가된다."
   ]
  },
  {
   "cell_type": "markdown",
   "id": "ed48028d",
   "metadata": {},
   "source": [
    "* <b>딕셔너리명.update(키1=값1, 키1=값2,...)</b>\n",
    "* 키에 따옴표를 하지 않지만, 딕셔너리에 들어갈 때는 따옴표가 붙어서 들어간다."
   ]
  },
  {
   "cell_type": "code",
   "execution_count": 35,
   "id": "c30d2b49",
   "metadata": {},
   "outputs": [
    {
     "data": {
      "text/plain": [
       "{'kor': 100, 'eng': 90, 'math': 90, 'music': 90}"
      ]
     },
     "execution_count": 35,
     "metadata": {},
     "output_type": "execute_result"
    }
   ],
   "source": [
    "scores = {'kor':100, 'eng':90, 'math':80}\n",
    "\n",
    "# math:90, music:90\n",
    "scores.update(math=90, music=90)\n",
    "\n",
    "scores"
   ]
  },
  {
   "cell_type": "markdown",
   "id": "3f1d41df",
   "metadata": {},
   "source": [
    "* <b>딕셔너리명.update(zip(key리스트, value리스트)</b>"
   ]
  },
  {
   "cell_type": "code",
   "execution_count": 36,
   "id": "4df03df9",
   "metadata": {},
   "outputs": [
    {
     "data": {
      "text/plain": [
       "{'kor': 100, 'eng': 90, 'math': 90, 'music': 90}"
      ]
     },
     "execution_count": 36,
     "metadata": {},
     "output_type": "execute_result"
    }
   ],
   "source": [
    "scores = {'kor':100, 'eng':90, 'math':80}\n",
    "\n",
    "# math:90, music:90\n",
    "scores.update(zip(['math', 'music'], [90, 90]))\n",
    "\n",
    "scores"
   ]
  },
  {
   "cell_type": "markdown",
   "id": "b81d8a79",
   "metadata": {},
   "source": [
    "* <b>딕셔너리명.update([(키1,값1),(키2,값2),...])</b>"
   ]
  },
  {
   "cell_type": "code",
   "execution_count": 37,
   "id": "cefaee06",
   "metadata": {},
   "outputs": [
    {
     "data": {
      "text/plain": [
       "{'kor': 100, 'eng': 90, 'math': 90, 'music': 90}"
      ]
     },
     "execution_count": 37,
     "metadata": {},
     "output_type": "execute_result"
    }
   ],
   "source": [
    "scores = {'kor':100, 'eng':90, 'math':80}\n",
    "\n",
    "# math:90, music:90\n",
    "scores.update([('math', 90), ('music', 90)])\n",
    "\n",
    "scores"
   ]
  },
  {
   "cell_type": "markdown",
   "id": "11c3fcd4",
   "metadata": {},
   "source": [
    "* <b>딕셔너리명.update({키1:값1,키2:값2,...,})</b>"
   ]
  },
  {
   "cell_type": "code",
   "execution_count": 38,
   "id": "33d7d066",
   "metadata": {},
   "outputs": [
    {
     "data": {
      "text/plain": [
       "{'kor': 100, 'eng': 90, 'math': 90, 'music': 90}"
      ]
     },
     "execution_count": 38,
     "metadata": {},
     "output_type": "execute_result"
    }
   ],
   "source": [
    "scores = {'kor':100, 'eng':90, 'math':80}\n",
    "\n",
    "# math:90, music:90\n",
    "scores.update({'math':90, 'music':90})\n",
    "    \n",
    "scores"
   ]
  },
  {
   "cell_type": "markdown",
   "id": "4d72e070",
   "metadata": {},
   "source": [
    "# 딕셔너리에서 항목 삭제하기"
   ]
  },
  {
   "cell_type": "markdown",
   "id": "b49517de",
   "metadata": {},
   "source": [
    "## del 딕셔너리명[키]\n",
    "* 해당 키의 항목 삭제"
   ]
  },
  {
   "cell_type": "code",
   "execution_count": 39,
   "id": "1f3defa7",
   "metadata": {},
   "outputs": [
    {
     "data": {
      "text/plain": [
       "{'eng': 90, 'math': 80}"
      ]
     },
     "execution_count": 39,
     "metadata": {},
     "output_type": "execute_result"
    }
   ],
   "source": [
    "scores = {'kor':100, 'eng':90, 'math':80}\n",
    "\n",
    "# 키가 'kor'인 항목 삭제\n",
    "del scores['kor']\n",
    "\n",
    "scores"
   ]
  },
  {
   "cell_type": "markdown",
   "id": "e96ad7e8",
   "metadata": {},
   "source": [
    "## 딕셔너리명.pop(키, 기본값)\n",
    "* 해당 키의 항목(값) 반환하고 삭제"
   ]
  },
  {
   "cell_type": "code",
   "execution_count": 44,
   "id": "e22071a4",
   "metadata": {},
   "outputs": [
    {
     "name": "stdout",
     "output_type": "stream",
     "text": [
      "100\n",
      "{'eng': 90, 'math': 80}\n"
     ]
    }
   ],
   "source": [
    "scores = {'kor':100, 'eng':90, 'math':80}\n",
    "\n",
    "# 키가 'kor'인 항목의 값 받아온 후 삭제\n",
    "kor = scores.pop('kor')\n",
    "\n",
    "print(kor)\n",
    "print(scores)"
   ]
  },
  {
   "cell_type": "markdown",
   "id": "da4786c0",
   "metadata": {},
   "source": [
    "* 해당 키의 항목 반환하고 삭제(키가 존재하지 않을 때 기본값 반환)"
   ]
  },
  {
   "cell_type": "code",
   "execution_count": 46,
   "id": "c7f3af47",
   "metadata": {},
   "outputs": [
    {
     "name": "stdout",
     "output_type": "stream",
     "text": [
      "x\n",
      "{'kor': 100, 'eng': 90, 'math': 80}\n"
     ]
    }
   ],
   "source": [
    "scores = {'kor':100, 'eng':90, 'math':80}\n",
    "\n",
    "# 키가 'music'인 항목의 값 받아온 후 삭제(삭제할 키가 존재하지 않는 경우)\n",
    "music = scores.pop('music', 'x')\n",
    "\n",
    "print(music)\n",
    "print(scores)"
   ]
  },
  {
   "cell_type": "markdown",
   "id": "3c546259",
   "metadata": {},
   "source": [
    "## 딕셔너리명.clear()\n",
    "* 딕셔너리의 모든 항목 삭제"
   ]
  },
  {
   "cell_type": "code",
   "execution_count": 47,
   "id": "1933c4b0",
   "metadata": {},
   "outputs": [
    {
     "name": "stdout",
     "output_type": "stream",
     "text": [
      "{}\n"
     ]
    }
   ],
   "source": [
    "scores = {'kor':100, 'eng':90, 'math':80}\n",
    "\n",
    "scores.clear()\n",
    "\n",
    "print(scores)"
   ]
  },
  {
   "cell_type": "markdown",
   "id": "e3f9b896",
   "metadata": {},
   "source": [
    "# 딕셔너리의 키, 값 모두 리스트 형태로 가져오기"
   ]
  },
  {
   "cell_type": "markdown",
   "id": "d7762076",
   "metadata": {},
   "source": [
    "## 딕셔너리명.keys()\n",
    "* 딕셔너리의 키만 리스트로 가져오기\n",
    "* dict_keys객체로 받아온다. 리스트처럼 사용할 수 있지만 리스트는 아니다."
   ]
  },
  {
   "cell_type": "code",
   "execution_count": 48,
   "id": "c1598918",
   "metadata": {},
   "outputs": [
    {
     "data": {
      "text/plain": [
       "dict_keys(['kor', 'eng', 'math'])"
      ]
     },
     "execution_count": 48,
     "metadata": {},
     "output_type": "execute_result"
    }
   ],
   "source": [
    "scores = {'kor':100, 'eng':90, 'math':80}\n",
    "\n",
    "scores.keys()"
   ]
  },
  {
   "cell_type": "markdown",
   "id": "f43ba92c",
   "metadata": {},
   "source": [
    "## 딕셔너리명.values()\n",
    "* 딕셔너리의 value만 리스트로 가져오기\n",
    "* dict_values객체로 받아온다."
   ]
  },
  {
   "cell_type": "code",
   "execution_count": 49,
   "id": "01548e10",
   "metadata": {},
   "outputs": [
    {
     "data": {
      "text/plain": [
       "dict_values([100, 90, 80])"
      ]
     },
     "execution_count": 49,
     "metadata": {},
     "output_type": "execute_result"
    }
   ],
   "source": [
    "scores = {'kor':100, 'eng':90, 'math':80}\n",
    "\n",
    "scores.values()"
   ]
  },
  {
   "cell_type": "markdown",
   "id": "d2d96fc3",
   "metadata": {},
   "source": [
    "## 딕셔너리명.items()\n",
    "* 딕셔너리의 (key,value) 쌍을 리스트로 가져오기\n",
    "* dict_items객체로 받아온다."
   ]
  },
  {
   "cell_type": "code",
   "execution_count": 51,
   "id": "30920457",
   "metadata": {},
   "outputs": [
    {
     "data": {
      "text/plain": [
       "dict_items([('kor', 100), ('eng', 90), ('math', 80)])"
      ]
     },
     "execution_count": 51,
     "metadata": {},
     "output_type": "execute_result"
    }
   ],
   "source": [
    "scores = {'kor':100, 'eng':90, 'math':80}\n",
    "\n",
    "scores.items()"
   ]
  },
  {
   "cell_type": "markdown",
   "id": "122251d3",
   "metadata": {},
   "source": [
    "# for문으로 딕셔너리 출력하기"
   ]
  },
  {
   "cell_type": "markdown",
   "id": "1e7ee42c",
   "metadata": {},
   "source": [
    "## for문으로 딕셔너리의 키만 출력하기"
   ]
  },
  {
   "cell_type": "code",
   "execution_count": 52,
   "id": "cb44cfbe",
   "metadata": {},
   "outputs": [
    {
     "name": "stdout",
     "output_type": "stream",
     "text": [
      "[['kor'], ['eng'], ['math']]\n"
     ]
    }
   ],
   "source": [
    "scores = {'kor':100, 'eng':90, 'math':80}\n",
    "\n",
    "keys = []\n",
    "\n",
    "for i in scores : \n",
    "    key = i.split(':')\n",
    "    keys.append(key)\n",
    "    \n",
    "print(keys)"
   ]
  },
  {
   "cell_type": "code",
   "execution_count": 54,
   "id": "45311023",
   "metadata": {},
   "outputs": [
    {
     "name": "stdout",
     "output_type": "stream",
     "text": [
      "kor\n",
      "eng\n",
      "math\n"
     ]
    }
   ],
   "source": [
    "scores = {'kor':100, 'eng':90, 'math':80}\n",
    "\n",
    "for i in scores.keys() :\n",
    "    print(i)"
   ]
  },
  {
   "cell_type": "code",
   "execution_count": 55,
   "id": "7e981844",
   "metadata": {},
   "outputs": [
    {
     "name": "stdout",
     "output_type": "stream",
     "text": [
      "kor\n",
      "eng\n",
      "math\n"
     ]
    }
   ],
   "source": [
    "scores = {'kor':100, 'eng':90, 'math':80}\n",
    "\n",
    "for i in scores:\n",
    "    print(i)"
   ]
  },
  {
   "cell_type": "markdown",
   "id": "6a8c32c3",
   "metadata": {},
   "source": [
    "## for문으로 딕셔너리의 value만 출력하기"
   ]
  },
  {
   "cell_type": "code",
   "execution_count": 56,
   "id": "51dcf547",
   "metadata": {},
   "outputs": [
    {
     "name": "stdout",
     "output_type": "stream",
     "text": [
      "100\n",
      "90\n",
      "80\n"
     ]
    }
   ],
   "source": [
    "scores = {'kor':100, 'eng':90, 'math':80}\n",
    "\n",
    "for i in scores.values() : \n",
    "    print(i)"
   ]
  },
  {
   "cell_type": "markdown",
   "id": "d8120506",
   "metadata": {},
   "source": [
    "## for문으로 딕셔너리의 key, value 출력하기"
   ]
  },
  {
   "cell_type": "code",
   "execution_count": 57,
   "id": "cc6fcd88",
   "metadata": {},
   "outputs": [
    {
     "name": "stdout",
     "output_type": "stream",
     "text": [
      "('kor', 100)\n",
      "('eng', 90)\n",
      "('math', 80)\n"
     ]
    }
   ],
   "source": [
    "scores = {'kor':100, 'eng':90, 'math':80}\n",
    "\n",
    "for i in scores.items() : \n",
    "    print(i)"
   ]
  },
  {
   "cell_type": "code",
   "execution_count": 58,
   "id": "2f0ea4ce",
   "metadata": {},
   "outputs": [
    {
     "name": "stdout",
     "output_type": "stream",
     "text": [
      "kor 100\n",
      "eng 90\n",
      "math 80\n"
     ]
    }
   ],
   "source": [
    "for k, v in scores.items() : \n",
    "    print(k, v)"
   ]
  },
  {
   "cell_type": "markdown",
   "id": "43149552",
   "metadata": {},
   "source": [
    "# 딕셔너리 정렬하기"
   ]
  },
  {
   "cell_type": "markdown",
   "id": "bcea34c8",
   "metadata": {},
   "source": [
    "## 키 정렬하기"
   ]
  },
  {
   "cell_type": "code",
   "execution_count": 59,
   "id": "8e9d8925",
   "metadata": {},
   "outputs": [
    {
     "data": {
      "text/plain": [
       "['eng', 'kor', 'math']"
      ]
     },
     "execution_count": 59,
     "metadata": {},
     "output_type": "execute_result"
    }
   ],
   "source": [
    "scores = {'kor':100, 'eng':90, 'math':80}\n",
    "\n",
    "sorted(scores.keys())"
   ]
  },
  {
   "cell_type": "markdown",
   "id": "25dca832",
   "metadata": {},
   "source": [
    "## 값 정렬하기"
   ]
  },
  {
   "cell_type": "code",
   "execution_count": 60,
   "id": "5bcb2cad",
   "metadata": {},
   "outputs": [
    {
     "data": {
      "text/plain": [
       "[80, 90, 100]"
      ]
     },
     "execution_count": 60,
     "metadata": {},
     "output_type": "execute_result"
    }
   ],
   "source": [
    "scores = {'kor':100, 'eng':90, 'math':80}\n",
    "\n",
    "sorted(scores.values())"
   ]
  },
  {
   "cell_type": "markdown",
   "id": "a3344dd7",
   "metadata": {},
   "source": [
    "## (키,값) 정렬하기"
   ]
  },
  {
   "cell_type": "code",
   "execution_count": 61,
   "id": "e1898caf",
   "metadata": {},
   "outputs": [
    {
     "data": {
      "text/plain": [
       "[('eng', 90), ('kor', 100), ('math', 80)]"
      ]
     },
     "execution_count": 61,
     "metadata": {},
     "output_type": "execute_result"
    }
   ],
   "source": [
    "scores = {'kor':100, 'eng':90, 'math':80}\n",
    "\n",
    "sorted(scores.items())"
   ]
  },
  {
   "cell_type": "code",
   "execution_count": 62,
   "id": "b0bd53fb",
   "metadata": {},
   "outputs": [
    {
     "ename": "AttributeError",
     "evalue": "'dict_keys' object has no attribute 'sort'",
     "output_type": "error",
     "traceback": [
      "\u001b[1;31m---------------------------------------------------------------------------\u001b[0m",
      "\u001b[1;31mAttributeError\u001b[0m                            Traceback (most recent call last)",
      "\u001b[1;32m~\\AppData\\Local\\Temp/ipykernel_19660/3631032460.py\u001b[0m in \u001b[0;36m<module>\u001b[1;34m\u001b[0m\n\u001b[0;32m      1\u001b[0m \u001b[1;31m# .sort()는 지원하지 않음\u001b[0m\u001b[1;33m\u001b[0m\u001b[1;33m\u001b[0m\u001b[0m\n\u001b[0;32m      2\u001b[0m \u001b[1;33m\u001b[0m\u001b[0m\n\u001b[1;32m----> 3\u001b[1;33m \u001b[0mscores\u001b[0m\u001b[1;33m.\u001b[0m\u001b[0mkeys\u001b[0m\u001b[1;33m(\u001b[0m\u001b[1;33m)\u001b[0m\u001b[1;33m.\u001b[0m\u001b[0msort\u001b[0m\u001b[1;33m(\u001b[0m\u001b[1;33m)\u001b[0m\u001b[1;33m\u001b[0m\u001b[1;33m\u001b[0m\u001b[0m\n\u001b[0m",
      "\u001b[1;31mAttributeError\u001b[0m: 'dict_keys' object has no attribute 'sort'"
     ]
    }
   ],
   "source": [
    "# .sort()는 지원하지 않음\n",
    "\n",
    "scores.keys().sort()"
   ]
  },
  {
   "cell_type": "markdown",
   "id": "6cacf176",
   "metadata": {},
   "source": [
    "# 영어단어장 만들기\n",
    "\n",
    "엔터를 입력할 때까지 영어단어,뜻을 입력받아 단어장을 만들고, 입력이 끝나면 단어 테스트를 실시하는 프로그램을 만들어봅시다.<br>\n",
    "1) 단어장을 만듭니다.<br>\n",
    "2) 단어테스트를 실시하고 맞은 갯수를 계산합니다.<br>\n",
    "3) 테스트가 끝나면 맞은갯수/전체단어수/점수 형태로 결과를 출력합니다<br>"
   ]
  },
  {
   "cell_type": "markdown",
   "id": "92a1eabd",
   "metadata": {},
   "source": [
    "## 단어장 만들기\n",
    "엔터('')를 입력할 때까지 영어단어,뜻을 입력받아 딕셔너리에 저장"
   ]
  },
  {
   "cell_type": "code",
   "execution_count": 65,
   "id": "edf8c00e",
   "metadata": {},
   "outputs": [
    {
     "name": "stdout",
     "output_type": "stream",
     "text": [
      "영어단어: apple\n",
      "뜻: 사과\n",
      "영어단어: banana\n",
      "뜻: 바나나\n",
      "영어단어: flower\n",
      "뜻: 꽃\n",
      "영어단어: number\n",
      "뜻: 숫자\n",
      "영어단어: house\n",
      "뜻: 집\n",
      "영어단어: \n",
      "뜻: \n"
     ]
    },
    {
     "data": {
      "text/plain": [
       "{'apple': '사과', 'banana': '바나나', 'flower': '꽃', 'number': '숫자', 'house': '집'}"
      ]
     },
     "execution_count": 65,
     "metadata": {},
     "output_type": "execute_result"
    }
   ],
   "source": [
    "key_list = []\n",
    "value_list = []\n",
    "eng_dict = {}\n",
    "\n",
    "while True:\n",
    "    key = input('영어단어: ')\n",
    "    value = input('뜻: ')\n",
    "    \n",
    "    if key == '' or value == '' : \n",
    "        break\n",
    "        \n",
    "    else :\n",
    "        key_list.append(key)\n",
    "        value_list.append(value)\n",
    "        \n",
    "        eng_dict = dict(zip(key_list, value_list))\n",
    "        \n",
    "eng_dict"
   ]
  },
  {
   "cell_type": "code",
   "execution_count": 73,
   "id": "37f9536f",
   "metadata": {},
   "outputs": [
    {
     "name": "stdout",
     "output_type": "stream",
     "text": [
      "영어단어,뜻: apple,사과\n",
      "영어단어,뜻: banana,바나나\n",
      "영어단어,뜻: stripe,줄무늬\n",
      "영어단어,뜻: pink,분홍\n",
      "영어단어,뜻: pig,돼지\n",
      "영어단어,뜻: house,집\n",
      "영어단어,뜻: \n"
     ]
    },
    {
     "data": {
      "text/plain": [
       "{'apple': '사과',\n",
       " 'banana': '바나나',\n",
       " 'stripe': '줄무늬',\n",
       " 'pink': '분홍',\n",
       " 'pig': '돼지',\n",
       " 'house': '집'}"
      ]
     },
     "execution_count": 73,
     "metadata": {},
     "output_type": "execute_result"
    }
   ],
   "source": [
    "dict_word = {}\n",
    "\n",
    "while True:\n",
    "    input_word = input('영어단어,뜻: ')\n",
    "    \n",
    "    if input_word == '' : \n",
    "        break\n",
    "    \n",
    "    eng = input_word.split(',')[0]\n",
    "    kor = input_word.split(',')[1]\n",
    "    dict_word[eng] = kor\n",
    "    \n",
    "dict_word"
   ]
  },
  {
   "cell_type": "markdown",
   "id": "78683e18",
   "metadata": {},
   "source": [
    "## 단어테스트\n",
    "단어장의 단어들을 모두 테스트<br>\n",
    "맞은 갯수는 별도로 카운트"
   ]
  },
  {
   "cell_type": "code",
   "execution_count": 74,
   "id": "06133aa8",
   "metadata": {},
   "outputs": [
    {
     "data": {
      "text/plain": [
       "{'apple': '사과',\n",
       " 'banana': '바나나',\n",
       " 'stripe': '줄무늬',\n",
       " 'pink': '분홍',\n",
       " 'pig': '돼지',\n",
       " 'house': '집'}"
      ]
     },
     "execution_count": 74,
     "metadata": {},
     "output_type": "execute_result"
    }
   ],
   "source": [
    "dict_word"
   ]
  },
  {
   "cell_type": "code",
   "execution_count": 75,
   "id": "a30073db",
   "metadata": {},
   "outputs": [
    {
     "name": "stdout",
     "output_type": "stream",
     "text": [
      "apple사과\n",
      "O\n",
      "banana바나나\n",
      "O\n",
      "stripe줄무늬\n",
      "O\n",
      "pink분홍\n",
      "O\n",
      "pig돼지\n",
      "O\n",
      "house집\n",
      "O\n"
     ]
    }
   ],
   "source": [
    "cnt = 0\n",
    "\n",
    "for eng, kor in dict_word.items() : \n",
    "    answer = input(eng)\n",
    "    \n",
    "    if answer == kor:\n",
    "        print('O')\n",
    "        cnt += 1\n",
    "        \n",
    "    else : \n",
    "        print('X')"
   ]
  },
  {
   "cell_type": "markdown",
   "id": "ce8f12ee",
   "metadata": {},
   "source": [
    "## 테스트 결과 출력\n",
    "맞은갯수/전체문제수/점수 출력"
   ]
  },
  {
   "cell_type": "code",
   "execution_count": 80,
   "id": "b9f46971",
   "metadata": {},
   "outputs": [
    {
     "name": "stdout",
     "output_type": "stream",
     "text": [
      "맞은갯수:  6 | 전체문제수:  6 | 점수:  100.0\n"
     ]
    }
   ],
   "source": [
    "print('맞은갯수: ', cnt, '|',\n",
    "     '전체문제수: ', len(dict_word), '|',\n",
    "     '점수: ', 100/len(dict_word)*cnt)"
   ]
  },
  {
   "cell_type": "code",
   "execution_count": null,
   "id": "096ac6c2",
   "metadata": {},
   "outputs": [],
   "source": []
  }
 ],
 "metadata": {
  "kernelspec": {
   "display_name": "Python 3 (ipykernel)",
   "language": "python",
   "name": "python3"
  },
  "language_info": {
   "codemirror_mode": {
    "name": "ipython",
    "version": 3
   },
   "file_extension": ".py",
   "mimetype": "text/x-python",
   "name": "python",
   "nbconvert_exporter": "python",
   "pygments_lexer": "ipython3",
   "version": "3.9.7"
  }
 },
 "nbformat": 4,
 "nbformat_minor": 5
}
