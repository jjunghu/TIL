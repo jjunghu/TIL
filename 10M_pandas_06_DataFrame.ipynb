{
 "cells": [
  {
   "cell_type": "markdown",
   "id": "dd73f03a",
   "metadata": {},
   "source": [
    "### 데이터프레임"
   ]
  },
  {
   "cell_type": "markdown",
   "id": "4c9b5ade",
   "metadata": {},
   "source": [
    "* 2차원 배열, 데이터프레임의 열은 시리즈 객체\n",
    "* 시리즈를 열벡터(Vector), 데이터 프레임은 여러 개의 열벡터들이 같은 행 인덱스를 기준으로 줄지어 결합된 2차원 벡터 또는 행렬(Matrix)\n",
    "* 데이터프레임은 행과 열을 나타내기 위해 행 인덱스(Row index)와 열 이름(Column name 또는 Column label)으로 구분"
   ]
  },
  {
   "cell_type": "markdown",
   "id": "201b4dfe",
   "metadata": {},
   "source": [
    "* 데이터프레임의 각 열은 공통의 속성(Features)을 갖는 일련의 데이터\n",
    "* 각 행은 개별 관측대상에 대한 다양한 속성 데이터들의 모음인 레코드(Record)"
   ]
  },
  {
   "cell_type": "code",
   "execution_count": null,
   "id": "55ab048f",
   "metadata": {},
   "outputs": [],
   "source": []
  }
 ],
 "metadata": {
  "kernelspec": {
   "display_name": "Python 3 (ipykernel)",
   "language": "python",
   "name": "python3"
  },
  "language_info": {
   "codemirror_mode": {
    "name": "ipython",
    "version": 3
   },
   "file_extension": ".py",
   "mimetype": "text/x-python",
   "name": "python",
   "nbconvert_exporter": "python",
   "pygments_lexer": "ipython3",
   "version": "3.9.7"
  }
 },
 "nbformat": 4,
 "nbformat_minor": 5
}
