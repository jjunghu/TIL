{
 "cells": [
  {
   "cell_type": "code",
   "execution_count": 1,
   "id": "511acfab",
   "metadata": {},
   "outputs": [],
   "source": [
    "import numpy as np\n",
    "import cv2\n",
    "import sys"
   ]
  },
  {
   "cell_type": "markdown",
   "id": "4e97baa3",
   "metadata": {},
   "source": [
    "### 영상 속성"
   ]
  },
  {
   "cell_type": "code",
   "execution_count": 2,
   "id": "ad6665d8",
   "metadata": {},
   "outputs": [
    {
     "name": "stdout",
     "output_type": "stream",
     "text": [
      "img1 type =  <class 'numpy.ndarray'>\n",
      "img2 type =  <class 'numpy.ndarray'>\n",
      "img1 dimension =  (480, 640)\n",
      "img2.dimension =  (853, 1280, 3)\n",
      "data1 type =  uint8\n",
      "data2 type =  uint8\n"
     ]
    }
   ],
   "source": [
    "img1 = cv2.imread('./Ch_2_Opencv_basic/fig/puppy.bmp', cv2.IMREAD_GRAYSCALE)\n",
    "img2 = cv2.imread('./Ch_2_Opencv_basic/fig/puppy_1280_853.jpg',\n",
    "                 cv2.IMREAD_COLOR)\n",
    "\n",
    "if img1 is None or img2 is None : \n",
    "    print('image read failed')\n",
    "    sys.exit()\n",
    "    \n",
    "print('img1 type = ', type(img1))\n",
    "print('img2 type = ', type(img2))\n",
    "\n",
    "print('img1 dimension = ', img1.shape)\n",
    "print('img2.dimension = ', img2.shape)\n",
    "\n",
    "print('data1 type = ', img1.dtype)\n",
    "print('data2 type = ', img2.dtype)\n",
    "\n",
    "cv2.imshow('image1', img1)\n",
    "cv2.imshow('image2', img2)\n",
    "\n",
    "cv2.waitKey()\n",
    "cv2.destroyAllWindows()"
   ]
  },
  {
   "cell_type": "markdown",
   "id": "c89ae6b3",
   "metadata": {},
   "source": [
    "### 영상의 크기 참조"
   ]
  },
  {
   "cell_type": "code",
   "execution_count": 3,
   "id": "35ec9b86",
   "metadata": {},
   "outputs": [
    {
     "name": "stdout",
     "output_type": "stream",
     "text": [
      "img size = 640 x 480\n"
     ]
    }
   ],
   "source": [
    "img = cv2.imread('./Ch_2_Opencv_basic/fig/puppy.bmp', cv2.IMREAD_COLOR)\n",
    "\n",
    "if img is None : \n",
    "    print('image read failed')\n",
    "    sys.exit()\n",
    "    \n",
    "h, w = img.shape[:2]\n",
    "print('img size = {} x {}'.format(w, h))\n",
    "\n",
    "cv2.imshow('image', img)\n",
    "\n",
    "cv2.waitKey()\n",
    "cv2.destroyAllWindows()"
   ]
  },
  {
   "cell_type": "markdown",
   "id": "d8a7714b",
   "metadata": {},
   "source": [
    "### 영상의 픽셀값 참조"
   ]
  },
  {
   "cell_type": "code",
   "execution_count": 5,
   "id": "87233f3f",
   "metadata": {},
   "outputs": [
    {
     "name": "stdout",
     "output_type": "stream",
     "text": [
      "color center =  [ 0 14 40]\n",
      "gray center =  20\n"
     ]
    }
   ],
   "source": [
    "img1 = cv2.imread('./Ch_2_Opencv_basic/fig/puppy.bmp', 1)  # color\n",
    "img2 = cv2.imread('./Ch_2_Opencv_basic/fig/puppy.bmp', 0)  # grayscale\n",
    "\n",
    "h, w = img1.shape[:2]\n",
    "\n",
    "img1_center = img1[h//2, w//2]\n",
    "print('color center = ', img1_center)   # BGR 값으로 출력\n",
    "\n",
    "img2_center = img2[h//2, w//2]\n",
    "print('gray center = ', img2_center)\n",
    "\n",
    "cv2.imshow('image1', img1)\n",
    "cv2.imshow('image2', img2)\n",
    "\n",
    "cv2.waitKey()\n",
    "cv2.destroyAllWindows()"
   ]
  },
  {
   "cell_type": "code",
   "execution_count": 7,
   "id": "ac340fe4",
   "metadata": {},
   "outputs": [
    {
     "name": "stdout",
     "output_type": "stream",
     "text": [
      "color point =  [194 198 209]\n",
      "gray point =  201\n"
     ]
    }
   ],
   "source": [
    "img1 = cv2.imread('./Ch_2_Opencv_basic/fig/puppy.bmp', 1)  # color\n",
    "img2 = cv2.imread('./Ch_2_Opencv_basic/fig/puppy.bmp', 0)  # grayscale\n",
    "\n",
    "x = 120\n",
    "y = 320\n",
    "\n",
    "img1_point = img1[y, x]\n",
    "print('color point = ', img1_point)\n",
    "\n",
    "img2_point = img2[y, x]\n",
    "print('gray point = ', img2_point)\n",
    "\n",
    "cv2.imshow('image1', img1)\n",
    "cv2.imshow('image2', img2)\n",
    "\n",
    "cv2.waitKey()\n",
    "\n",
    "cv2.destroyAllWindows()"
   ]
  },
  {
   "cell_type": "code",
   "execution_count": 10,
   "id": "7e27141f",
   "metadata": {},
   "outputs": [],
   "source": [
    "img1 = cv2.imread('./Ch_2_Opencv_basic/fig/puppy.bmp', 1)  # color\n",
    "img2 = cv2.imread('./Ch_2_Opencv_basic/fig/puppy.bmp', 0)  # grayscale\n",
    "\n",
    "# 영상의 픽셀값 바꾸기\n",
    "# img1[10:110, 100:200] = 0\n",
    "# img1[10:110, 100:200] = (0, 0, 255)   # BGR\n",
    "img1[10:110, 100:200] = [255, 0, 255]\n",
    "img2[10:100, 100:200] = 255\n",
    "\n",
    "cv2.imshow('image1', img1)\n",
    "cv2.imshow('image2', img2)\n",
    "\n",
    "cv2.waitKey()\n",
    "cv2.destroyAllWindows()"
   ]
  },
  {
   "cell_type": "markdown",
   "id": "82bc770c",
   "metadata": {},
   "source": [
    "### 영상 생성"
   ]
  },
  {
   "cell_type": "code",
   "execution_count": 15,
   "id": "a43bba76",
   "metadata": {},
   "outputs": [],
   "source": [
    "img1 = np.zeros((240, 320, 3), dtype = np.uint8)\n",
    "img2 = np.ones((240, 320), dtype = np.uint8) * 255\n",
    "img3 = np.full((240, 320), 255, dtype = np.uint8)\n",
    "img4 = np.random.randint(0, 255, size = (240, 320), dtype = np.uint8)\n",
    "\n",
    "img1[10:60, 10:60] = (0, 0, 255)\n",
    "img2[10:60, 10:60] = 128\n",
    "\n",
    "cv2.imshow('image1', img1)\n",
    "cv2.imshow('image2', img2)\n",
    "cv2.imshow('image3', img3)\n",
    "cv2.imshow('image4', img4)\n",
    "\n",
    "cv2.waitKey()\n",
    "cv2.destroyAllWindows()"
   ]
  },
  {
   "cell_type": "markdown",
   "id": "0cbf3faf",
   "metadata": {},
   "source": [
    "### 영상 복사"
   ]
  },
  {
   "cell_type": "code",
   "execution_count": 16,
   "id": "d631f907",
   "metadata": {},
   "outputs": [],
   "source": [
    "img = cv2.imread('./Ch_2_Opencv_basic/fig/cat.bmp')\n",
    "\n",
    "if img is None : \n",
    "    print('image read failed')\n",
    "    sys.exit()\n",
    "    \n",
    "img1 = img    # image를 가리키는 reference를 카피\n",
    "img2 = img.copy()    # image 원본으로 카피\n",
    "\n",
    "img[100:200, 200:300] = (0, 0, 255)\n",
    "\n",
    "cv2.imshow('image', img)\n",
    "cv2.imshow('image1', img1)\n",
    "cv2.imshow('image2', img2)\n",
    "\n",
    "while True : \n",
    "    if cv2.waitKey() == 27 : \n",
    "        break\n",
    "        \n",
    "cv2.destroyAllWindows()"
   ]
  },
  {
   "cell_type": "markdown",
   "id": "a6931e04",
   "metadata": {},
   "source": [
    "### circle 함수 그리기 cv2.circle()"
   ]
  },
  {
   "cell_type": "code",
   "execution_count": 17,
   "id": "44e66c96",
   "metadata": {},
   "outputs": [],
   "source": [
    "# cv2.circle(img, center, radius, color, thickness = None, lineType = None) -> img\n",
    "    # center: 원의 중심좌표 (x, y)\n",
    "    # radius : 원의 반지름"
   ]
  },
  {
   "cell_type": "code",
   "execution_count": 20,
   "id": "211b6f68",
   "metadata": {},
   "outputs": [],
   "source": [
    "img = np.ones((400, 400, 3), dtype = np.uint8) * 255\n",
    "\n",
    "img1 = img.copy()   # 원본 백업\n",
    "\n",
    "cv2.circle(img, (100, 200), 100, (0, 0, 255), 3, cv2.LINE_AA)\n",
    "# cv2.circle(img, (200, 200), 100, (0, 255, 255), -1)   # 안이 채워짐\n",
    "\n",
    "cv2.imshow('image', img)\n",
    "\n",
    "cv2.waitKey()\n",
    "cv2.destroyAllWindows()"
   ]
  },
  {
   "cell_type": "markdown",
   "id": "7897eade",
   "metadata": {},
   "source": [
    "### 부분 영상 추출"
   ]
  },
  {
   "cell_type": "code",
   "execution_count": 21,
   "id": "65f2a328",
   "metadata": {},
   "outputs": [],
   "source": [
    "img1 = cv2.imread('./Ch_2_Opencv_basic/fig/puppy.bmp')\n",
    "\n",
    "if img1 is None : \n",
    "    print('image read failed')\n",
    "    sys.exit()\n",
    "    \n",
    "img2 = img1[200:400, 300:500]\n",
    "img3 = img1[200:400, 300:500].copy()\n",
    "\n",
    "cv2.circle(img2, (115, 90), 50, (0, 0, 255), -1)\n",
    "\n",
    "cv2.imshow('image1', img1)\n",
    "cv2.imshow('image2', img2)\n",
    "cv2.imshow('image3', img3)\n",
    "\n",
    "cv2.waitKey()\n",
    "cv2.destroyAllWindows()"
   ]
  },
  {
   "cell_type": "markdown",
   "id": "fca68c79",
   "metadata": {},
   "source": [
    "### cv2.copyTo() 함수"
   ]
  },
  {
   "cell_type": "code",
   "execution_count": 23,
   "id": "e63e3216",
   "metadata": {},
   "outputs": [],
   "source": [
    "src = cv2.imread('./Ch_2_Opencv_basic/fig/airplane.bmp', 1)\n",
    "mask = cv2.imread('./Ch_2_Opencv_basic/fig/mask_plane.bmp', 0)\n",
    "dst = cv2.imread('./Ch_2_Opencv_basic/fig/field.bmp', 1)\n",
    "\n",
    "if src is None or mask is None or dst is None : \n",
    "    print('image read failed')\n",
    "    sys.exit()\n",
    "    \n",
    "# 영상의 포맷과 형식이 같아야 함\n",
    "cv2.copyTo(src, mask, dst)\n",
    "\n",
    "cv2.imshow('src', src)\n",
    "cv2.imshow('mask', mask)\n",
    "cv2.imshow('dst', dst)\n",
    "\n",
    "cv2.waitKey()\n",
    "cv2.destroyAllWindows()"
   ]
  },
  {
   "cell_type": "code",
   "execution_count": 25,
   "id": "5516eb27",
   "metadata": {},
   "outputs": [],
   "source": [
    "# Using numpy\n",
    "\n",
    "src = cv2.imread('./Ch_2_Opencv_basic/fig/airplane.bmp', 1)\n",
    "mask = cv2.imread('./Ch_2_Opencv_basic/fig/mask_plane.bmp', 0)\n",
    "dst = cv2.imread('./Ch_2_Opencv_basic/fig/field.bmp', 1)\n",
    "\n",
    "if src is None or mask is None or dst is None : \n",
    "    print('image read failed')\n",
    "    sys.exit()\n",
    "    \n",
    "dst[mask > 0] = src[mask > 0]\n",
    "\n",
    "cv2.imshow('src', src)\n",
    "cv2.imshow('dst', dst)\n",
    "cv2.imshow('mask', mask)\n",
    "\n",
    "cv2.waitKey()\n",
    "cv2.destroyAllWindows()"
   ]
  },
  {
   "cell_type": "markdown",
   "id": "f6fde01d",
   "metadata": {},
   "source": [
    "### mask image 만들기 cv2.threshold()"
   ]
  },
  {
   "cell_type": "code",
   "execution_count": 26,
   "id": "6b5b84a8",
   "metadata": {},
   "outputs": [],
   "source": [
    "src = cv2.imread('./Ch_2_Opencv_basic/fig/airplane.bmp', cv2.IMREAD_COLOR)\n",
    "src_gray = cv2.cvtColor(src, cv2.COLOR_BGR2GRAY)\n",
    "\n",
    "ret, mask = cv2.threshold(src_gray, 160, 255, cv2.THRESH_BINARY_INV)\n",
    "\n",
    "cv2.imshow('src', src)\n",
    "cv2.imshow('src_gray', src_gray)\n",
    "cv2.imshow('mask', mask)\n",
    "\n",
    "cv2.waitKey()\n",
    "cv2.destroyAllWindows()"
   ]
  },
  {
   "cell_type": "markdown",
   "id": "a9223c66",
   "metadata": {},
   "source": [
    "### 송아지 합성하기 copyTo 함수 사용"
   ]
  },
  {
   "cell_type": "code",
   "execution_count": 38,
   "id": "798630f9",
   "metadata": {},
   "outputs": [],
   "source": [
    "src = cv2.imread('./Ch_2_Opencv_basic/fig/cow.png', 1)\n",
    "dst = cv2.imread('./Ch_2_Opencv_basic/fig/green.png',1)\n",
    "\n",
    "if src is None or dst is None : \n",
    "    print('image read failed')\n",
    "    sys.exit()\n",
    "\n",
    "src_gray = cv2.cvtColor(src, cv2.COLOR_BGR2GRAY)\n",
    "ret, mask = cv2.threshold(src_gray, 246, 255, cv2.THRESH_BINARY_INV)\n",
    "\n",
    "h, w = src.shape[:2]\n",
    "dst_re = cv2.resize(dst, (w, h), interpolation = cv2.INTER_AREA)\n",
    "\n",
    "cv2.copyTo(src, mask, dst_re)\n",
    "\n",
    "cv2.imshow('src', src)\n",
    "cv2.imshow('dst_re', dst_re)\n",
    "cv2.imshow('mask', mask)\n",
    "\n",
    "cv2.waitKey()\n",
    "cv2.destroyAllWindows()"
   ]
  },
  {
   "cell_type": "markdown",
   "id": "bb32a051",
   "metadata": {},
   "source": [
    "### 송아지 합성하기2 부분영상 추출하여"
   ]
  },
  {
   "cell_type": "code",
   "execution_count": 52,
   "id": "d57bfc10",
   "metadata": {},
   "outputs": [],
   "source": [
    "src = cv2.imread('./Ch_2_Opencv_basic/fig/cow.png', 1)\n",
    "dst = cv2.imread('./Ch_2_Opencv_basic/fig/green.png', 1)\n",
    "\n",
    "if src is None or dst is None : \n",
    "    print('image read failed')\n",
    "    sys.exit()\n",
    "    \n",
    "src_gray = cv2.cvtColor(src, cv2.COLOR_BGR2GRAY)\n",
    "ret, mask = cv2.threshold(src_gray, 246, 255, cv2.THRESH_BINARY_INV)\n",
    "\n",
    "cv2.namedWindow('dst', cv2.WINDOW_NORMAL)\n",
    "\n",
    "h, w = src.shape[:2]\n",
    "\n",
    "crop = dst[500:500+h, 400:400+w]\n",
    "\n",
    "cv2.copyTo(src, mask, crop)\n",
    "\n",
    "cv2.imshow('src', src)\n",
    "cv2.imshow('mask', mask)\n",
    "cv2.imshow('dst', dst)\n",
    "# cv2.imshow('crop', crop)\n",
    "\n",
    "cv2.waitKey()\n",
    "cv2.destroyAllWindows()"
   ]
  },
  {
   "cell_type": "code",
   "execution_count": null,
   "id": "b4761a7b",
   "metadata": {},
   "outputs": [],
   "source": []
  }
 ],
 "metadata": {
  "kernelspec": {
   "display_name": "Python 3 (ipykernel)",
   "language": "python",
   "name": "python3"
  },
  "language_info": {
   "codemirror_mode": {
    "name": "ipython",
    "version": 3
   },
   "file_extension": ".py",
   "mimetype": "text/x-python",
   "name": "python",
   "nbconvert_exporter": "python",
   "pygments_lexer": "ipython3",
   "version": "3.9.7"
  }
 },
 "nbformat": 4,
 "nbformat_minor": 5
}
