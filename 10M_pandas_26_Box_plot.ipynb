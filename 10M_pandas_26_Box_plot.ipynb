{
 "cells": [
  {
   "cell_type": "markdown",
   "id": "4150650b",
   "metadata": {},
   "source": [
    "### box plot\n",
    "  - 가공하지 않은 자료 그대로를 이용하여 그린 것이 아니라, 자료로부터 얻어낸 통계량인 5가지 요약수치로 그림\n",
    "  - 5가지 요약수치란, 기술통계학에서 자료의 정보를 알려주는 아래의 다섯가지 수치 의미  \n",
    "    1. 최솟값   \n",
    "    2. 제1사분위수  \n",
    "    3. 제2사분위수(즉, 중앙값)    \n",
    "    4. 제3사분위수  \n",
    "    5. 최댓값"
   ]
  },
  {
   "cell_type": "code",
   "execution_count": 1,
   "id": "48c0534a",
   "metadata": {},
   "outputs": [],
   "source": [
    "import pandas as pd\n",
    "import numpy as np\n",
    "import matplotlib.pyplot as plt\n",
    "import matplotlib as mpl\n",
    "\n",
    "%matplotlib inline\n",
    "\n",
    "# 한글폰트 사용시 그래프에서 마이너스 폰트 깨지는 문제에 대한 대처\n",
    "mpl.rcParams['axes.unicode_minus'] = False"
   ]
  },
  {
   "cell_type": "code",
   "execution_count": 37,
   "id": "feb03ba8",
   "metadata": {},
   "outputs": [
    {
     "data": {
      "text/html": [
       "<div>\n",
       "<style scoped>\n",
       "    .dataframe tbody tr th:only-of-type {\n",
       "        vertical-align: middle;\n",
       "    }\n",
       "\n",
       "    .dataframe tbody tr th {\n",
       "        vertical-align: top;\n",
       "    }\n",
       "\n",
       "    .dataframe thead th {\n",
       "        text-align: right;\n",
       "    }\n",
       "</style>\n",
       "<table border=\"1\" class=\"dataframe\">\n",
       "  <thead>\n",
       "    <tr style=\"text-align: right;\">\n",
       "      <th></th>\n",
       "      <th>A</th>\n",
       "      <th>B</th>\n",
       "      <th>C</th>\n",
       "      <th>D</th>\n",
       "      <th>E</th>\n",
       "    </tr>\n",
       "  </thead>\n",
       "  <tbody>\n",
       "    <tr>\n",
       "      <th>0</th>\n",
       "      <td>0.603757</td>\n",
       "      <td>0.978776</td>\n",
       "      <td>0.620638</td>\n",
       "      <td>0.283652</td>\n",
       "      <td>0.594514</td>\n",
       "    </tr>\n",
       "    <tr>\n",
       "      <th>1</th>\n",
       "      <td>0.139624</td>\n",
       "      <td>0.414694</td>\n",
       "      <td>0.978103</td>\n",
       "      <td>0.305701</td>\n",
       "      <td>0.691081</td>\n",
       "    </tr>\n",
       "    <tr>\n",
       "      <th>2</th>\n",
       "      <td>0.592886</td>\n",
       "      <td>0.194820</td>\n",
       "      <td>0.931607</td>\n",
       "      <td>0.558683</td>\n",
       "      <td>0.808932</td>\n",
       "    </tr>\n",
       "    <tr>\n",
       "      <th>3</th>\n",
       "      <td>0.730657</td>\n",
       "      <td>0.370861</td>\n",
       "      <td>0.238322</td>\n",
       "      <td>0.944289</td>\n",
       "      <td>0.140637</td>\n",
       "    </tr>\n",
       "    <tr>\n",
       "      <th>4</th>\n",
       "      <td>0.429935</td>\n",
       "      <td>0.310965</td>\n",
       "      <td>0.617769</td>\n",
       "      <td>0.506788</td>\n",
       "      <td>0.910531</td>\n",
       "    </tr>\n",
       "  </tbody>\n",
       "</table>\n",
       "</div>"
      ],
      "text/plain": [
       "          A         B         C         D         E\n",
       "0  0.603757  0.978776  0.620638  0.283652  0.594514\n",
       "1  0.139624  0.414694  0.978103  0.305701  0.691081\n",
       "2  0.592886  0.194820  0.931607  0.558683  0.808932\n",
       "3  0.730657  0.370861  0.238322  0.944289  0.140637\n",
       "4  0.429935  0.310965  0.617769  0.506788  0.910531"
      ]
     },
     "execution_count": 37,
     "metadata": {},
     "output_type": "execute_result"
    }
   ],
   "source": [
    "df = pd.DataFrame(np.random.rand(10, 5),\n",
    "                 columns=['A', 'B', 'C', 'D', 'E'])\n",
    "df.head()\n",
    "# 10개의 행과 5개의 열을 가진 데이터 생성"
   ]
  },
  {
   "cell_type": "code",
   "execution_count": 38,
   "id": "84927bad",
   "metadata": {},
   "outputs": [
    {
     "data": {
      "text/html": [
       "<div>\n",
       "<style scoped>\n",
       "    .dataframe tbody tr th:only-of-type {\n",
       "        vertical-align: middle;\n",
       "    }\n",
       "\n",
       "    .dataframe tbody tr th {\n",
       "        vertical-align: top;\n",
       "    }\n",
       "\n",
       "    .dataframe thead th {\n",
       "        text-align: right;\n",
       "    }\n",
       "</style>\n",
       "<table border=\"1\" class=\"dataframe\">\n",
       "  <thead>\n",
       "    <tr style=\"text-align: right;\">\n",
       "      <th></th>\n",
       "      <th>A</th>\n",
       "      <th>B</th>\n",
       "      <th>C</th>\n",
       "      <th>D</th>\n",
       "      <th>E</th>\n",
       "    </tr>\n",
       "  </thead>\n",
       "  <tbody>\n",
       "    <tr>\n",
       "      <th>count</th>\n",
       "      <td>10.000000</td>\n",
       "      <td>10.000000</td>\n",
       "      <td>10.000000</td>\n",
       "      <td>10.000000</td>\n",
       "      <td>10.000000</td>\n",
       "    </tr>\n",
       "    <tr>\n",
       "      <th>mean</th>\n",
       "      <td>0.548944</td>\n",
       "      <td>0.426485</td>\n",
       "      <td>0.538550</td>\n",
       "      <td>0.388360</td>\n",
       "      <td>0.560000</td>\n",
       "    </tr>\n",
       "    <tr>\n",
       "      <th>std</th>\n",
       "      <td>0.271301</td>\n",
       "      <td>0.273701</td>\n",
       "      <td>0.283339</td>\n",
       "      <td>0.250862</td>\n",
       "      <td>0.224400</td>\n",
       "    </tr>\n",
       "    <tr>\n",
       "      <th>min</th>\n",
       "      <td>0.073028</td>\n",
       "      <td>0.164022</td>\n",
       "      <td>0.122846</td>\n",
       "      <td>0.050376</td>\n",
       "      <td>0.140637</td>\n",
       "    </tr>\n",
       "    <tr>\n",
       "      <th>25%</th>\n",
       "      <td>0.443562</td>\n",
       "      <td>0.218105</td>\n",
       "      <td>0.304772</td>\n",
       "      <td>0.279301</td>\n",
       "      <td>0.424315</td>\n",
       "    </tr>\n",
       "    <tr>\n",
       "      <th>50%</th>\n",
       "      <td>0.598321</td>\n",
       "      <td>0.340913</td>\n",
       "      <td>0.565579</td>\n",
       "      <td>0.304884</td>\n",
       "      <td>0.580734</td>\n",
       "    </tr>\n",
       "    <tr>\n",
       "      <th>75%</th>\n",
       "      <td>0.753668</td>\n",
       "      <td>0.517153</td>\n",
       "      <td>0.630918</td>\n",
       "      <td>0.503145</td>\n",
       "      <td>0.672906</td>\n",
       "    </tr>\n",
       "    <tr>\n",
       "      <th>max</th>\n",
       "      <td>0.861211</td>\n",
       "      <td>0.978776</td>\n",
       "      <td>0.978103</td>\n",
       "      <td>0.944289</td>\n",
       "      <td>0.910531</td>\n",
       "    </tr>\n",
       "  </tbody>\n",
       "</table>\n",
       "</div>"
      ],
      "text/plain": [
       "               A          B          C          D          E\n",
       "count  10.000000  10.000000  10.000000  10.000000  10.000000\n",
       "mean    0.548944   0.426485   0.538550   0.388360   0.560000\n",
       "std     0.271301   0.273701   0.283339   0.250862   0.224400\n",
       "min     0.073028   0.164022   0.122846   0.050376   0.140637\n",
       "25%     0.443562   0.218105   0.304772   0.279301   0.424315\n",
       "50%     0.598321   0.340913   0.565579   0.304884   0.580734\n",
       "75%     0.753668   0.517153   0.630918   0.503145   0.672906\n",
       "max     0.861211   0.978776   0.978103   0.944289   0.910531"
      ]
     },
     "execution_count": 38,
     "metadata": {},
     "output_type": "execute_result"
    }
   ],
   "source": [
    "df.describe()"
   ]
  },
  {
   "cell_type": "code",
   "execution_count": 39,
   "id": "6cc61d9a",
   "metadata": {},
   "outputs": [
    {
     "data": {
      "text/plain": [
       "<AxesSubplot:>"
      ]
     },
     "execution_count": 39,
     "metadata": {},
     "output_type": "execute_result"
    },
    {
     "data": {
      "image/png": "[encoded data removed]",
      "text/plain": [
       "<Figure size 432x288 with 1 Axes>"
      ]
     },
     "metadata": {
      "needs_background": "light"
     },
     "output_type": "display_data"
    }
   ],
   "source": [
    "df.plot.box()"
   ]
  },
  {
   "cell_type": "code",
   "execution_count": 40,
   "id": "bfcc55dc",
   "metadata": {},
   "outputs": [],
   "source": [
    "color = {'boxes' : 'DarkGreen', 'whiskers': 'DarkOrange',\n",
    "        'medians': 'DarkBlue', 'caps': 'Gray'}\n",
    "\n",
    "# box는 dark green 색으로, whisker(수염)은 dark orange 색으로\n",
    "# median (중위수)는 dark blue 색으로, cap(최대, 최소값)은 gray 색으로 표현"
   ]
  },
  {
   "cell_type": "code",
   "execution_count": 41,
   "id": "688115f7",
   "metadata": {},
   "outputs": [
    {
     "data": {
      "text/plain": [
       "<AxesSubplot:>"
      ]
     },
     "execution_count": 41,
     "metadata": {},
     "output_type": "execute_result"
    },
    {
     "data": {
      "image/png": "[encoded data removed]",
      "text/plain": [
       "<Figure size 432x288 with 1 Axes>"
      ]
     },
     "metadata": {
      "needs_background": "light"
     },
     "output_type": "display_data"
    }
   ],
   "source": [
    "df.plot.box(color=color, sym='r+')\n",
    "# sym='r+' : symbol은 빨간색 + 형태로 표현하라는 옵션"
   ]
  },
  {
   "cell_type": "code",
   "execution_count": 44,
   "id": "5f1e204e",
   "metadata": {},
   "outputs": [
    {
     "data": {
      "text/plain": [
       "<AxesSubplot:>"
      ]
     },
     "execution_count": 44,
     "metadata": {},
     "output_type": "execute_result"
    },
    {
     "data": {
      "image/png": "[encoded data removed]",
      "text/plain": [
       "<Figure size 432x288 with 1 Axes>"
      ]
     },
     "metadata": {
      "needs_background": "light"
     },
     "output_type": "display_data"
    }
   ],
   "source": [
    "df.plot.box(vert=False, positions=[1, 4, 5, 6, 8])\n",
    "# vert=False : vertical(수직 방향)이 아니게 표현"
   ]
  },
  {
   "cell_type": "code",
   "execution_count": 45,
   "id": "1baf904d",
   "metadata": {},
   "outputs": [
    {
     "data": {
      "text/html": [
       "<div>\n",
       "<style scoped>\n",
       "    .dataframe tbody tr th:only-of-type {\n",
       "        vertical-align: middle;\n",
       "    }\n",
       "\n",
       "    .dataframe tbody tr th {\n",
       "        vertical-align: top;\n",
       "    }\n",
       "\n",
       "    .dataframe thead th {\n",
       "        text-align: right;\n",
       "    }\n",
       "</style>\n",
       "<table border=\"1\" class=\"dataframe\">\n",
       "  <thead>\n",
       "    <tr style=\"text-align: right;\">\n",
       "      <th></th>\n",
       "      <th>0</th>\n",
       "      <th>1</th>\n",
       "      <th>2</th>\n",
       "      <th>3</th>\n",
       "      <th>4</th>\n",
       "    </tr>\n",
       "  </thead>\n",
       "  <tbody>\n",
       "    <tr>\n",
       "      <th>0</th>\n",
       "      <td>0.178954</td>\n",
       "      <td>0.968717</td>\n",
       "      <td>0.405410</td>\n",
       "      <td>0.478895</td>\n",
       "      <td>0.027622</td>\n",
       "    </tr>\n",
       "    <tr>\n",
       "      <th>1</th>\n",
       "      <td>0.322365</td>\n",
       "      <td>0.549232</td>\n",
       "      <td>0.950220</td>\n",
       "      <td>0.363119</td>\n",
       "      <td>0.982533</td>\n",
       "    </tr>\n",
       "    <tr>\n",
       "      <th>2</th>\n",
       "      <td>0.425758</td>\n",
       "      <td>0.389605</td>\n",
       "      <td>0.407524</td>\n",
       "      <td>0.965439</td>\n",
       "      <td>0.724346</td>\n",
       "    </tr>\n",
       "    <tr>\n",
       "      <th>3</th>\n",
       "      <td>0.787225</td>\n",
       "      <td>0.995709</td>\n",
       "      <td>0.936075</td>\n",
       "      <td>0.923390</td>\n",
       "      <td>0.069252</td>\n",
       "    </tr>\n",
       "    <tr>\n",
       "      <th>4</th>\n",
       "      <td>0.163785</td>\n",
       "      <td>0.042166</td>\n",
       "      <td>0.458457</td>\n",
       "      <td>0.220882</td>\n",
       "      <td>0.542456</td>\n",
       "    </tr>\n",
       "  </tbody>\n",
       "</table>\n",
       "</div>"
      ],
      "text/plain": [
       "          0         1         2         3         4\n",
       "0  0.178954  0.968717  0.405410  0.478895  0.027622\n",
       "1  0.322365  0.549232  0.950220  0.363119  0.982533\n",
       "2  0.425758  0.389605  0.407524  0.965439  0.724346\n",
       "3  0.787225  0.995709  0.936075  0.923390  0.069252\n",
       "4  0.163785  0.042166  0.458457  0.220882  0.542456"
      ]
     },
     "execution_count": 45,
     "metadata": {},
     "output_type": "execute_result"
    }
   ],
   "source": [
    "df = pd.DataFrame(np.random.rand(10,5))\n",
    "df.head()"
   ]
  },
  {
   "cell_type": "code",
   "execution_count": 46,
   "id": "415a700a",
   "metadata": {},
   "outputs": [
    {
     "data": {
      "image/png": "[encoded data removed]",
      "text/plain": [
       "<Figure size 432x288 with 1 Axes>"
      ]
     },
     "metadata": {
      "needs_background": "light"
     },
     "output_type": "display_data"
    }
   ],
   "source": [
    "bp = df.boxplot()\n",
    "# grid가 나타나게 그래프를 그려줌"
   ]
  },
  {
   "cell_type": "code",
   "execution_count": 47,
   "id": "2af3eb34",
   "metadata": {},
   "outputs": [
    {
     "data": {
      "text/html": [
       "<div>\n",
       "<style scoped>\n",
       "    .dataframe tbody tr th:only-of-type {\n",
       "        vertical-align: middle;\n",
       "    }\n",
       "\n",
       "    .dataframe tbody tr th {\n",
       "        vertical-align: top;\n",
       "    }\n",
       "\n",
       "    .dataframe thead th {\n",
       "        text-align: right;\n",
       "    }\n",
       "</style>\n",
       "<table border=\"1\" class=\"dataframe\">\n",
       "  <thead>\n",
       "    <tr style=\"text-align: right;\">\n",
       "      <th></th>\n",
       "      <th>Col1</th>\n",
       "      <th>Col2</th>\n",
       "    </tr>\n",
       "  </thead>\n",
       "  <tbody>\n",
       "    <tr>\n",
       "      <th>0</th>\n",
       "      <td>0.493342</td>\n",
       "      <td>0.161561</td>\n",
       "    </tr>\n",
       "    <tr>\n",
       "      <th>1</th>\n",
       "      <td>0.103237</td>\n",
       "      <td>0.298395</td>\n",
       "    </tr>\n",
       "    <tr>\n",
       "      <th>2</th>\n",
       "      <td>0.973065</td>\n",
       "      <td>0.394180</td>\n",
       "    </tr>\n",
       "    <tr>\n",
       "      <th>3</th>\n",
       "      <td>0.083953</td>\n",
       "      <td>0.232417</td>\n",
       "    </tr>\n",
       "    <tr>\n",
       "      <th>4</th>\n",
       "      <td>0.431583</td>\n",
       "      <td>0.984794</td>\n",
       "    </tr>\n",
       "  </tbody>\n",
       "</table>\n",
       "</div>"
      ],
      "text/plain": [
       "       Col1      Col2\n",
       "0  0.493342  0.161561\n",
       "1  0.103237  0.298395\n",
       "2  0.973065  0.394180\n",
       "3  0.083953  0.232417\n",
       "4  0.431583  0.984794"
      ]
     },
     "execution_count": 47,
     "metadata": {},
     "output_type": "execute_result"
    }
   ],
   "source": [
    "df = pd.DataFrame(np.random.rand(10,2), columns=['Col1', 'Col2'])\n",
    "df.head()"
   ]
  },
  {
   "cell_type": "code",
   "execution_count": 48,
   "id": "a06fceb7",
   "metadata": {},
   "outputs": [
    {
     "data": {
      "text/html": [
       "<div>\n",
       "<style scoped>\n",
       "    .dataframe tbody tr th:only-of-type {\n",
       "        vertical-align: middle;\n",
       "    }\n",
       "\n",
       "    .dataframe tbody tr th {\n",
       "        vertical-align: top;\n",
       "    }\n",
       "\n",
       "    .dataframe thead th {\n",
       "        text-align: right;\n",
       "    }\n",
       "</style>\n",
       "<table border=\"1\" class=\"dataframe\">\n",
       "  <thead>\n",
       "    <tr style=\"text-align: right;\">\n",
       "      <th></th>\n",
       "      <th>Col1</th>\n",
       "      <th>Col2</th>\n",
       "      <th>X</th>\n",
       "    </tr>\n",
       "  </thead>\n",
       "  <tbody>\n",
       "    <tr>\n",
       "      <th>0</th>\n",
       "      <td>0.493342</td>\n",
       "      <td>0.161561</td>\n",
       "      <td>A</td>\n",
       "    </tr>\n",
       "    <tr>\n",
       "      <th>1</th>\n",
       "      <td>0.103237</td>\n",
       "      <td>0.298395</td>\n",
       "      <td>A</td>\n",
       "    </tr>\n",
       "    <tr>\n",
       "      <th>2</th>\n",
       "      <td>0.973065</td>\n",
       "      <td>0.394180</td>\n",
       "      <td>A</td>\n",
       "    </tr>\n",
       "    <tr>\n",
       "      <th>3</th>\n",
       "      <td>0.083953</td>\n",
       "      <td>0.232417</td>\n",
       "      <td>A</td>\n",
       "    </tr>\n",
       "    <tr>\n",
       "      <th>4</th>\n",
       "      <td>0.431583</td>\n",
       "      <td>0.984794</td>\n",
       "      <td>A</td>\n",
       "    </tr>\n",
       "  </tbody>\n",
       "</table>\n",
       "</div>"
      ],
      "text/plain": [
       "       Col1      Col2  X\n",
       "0  0.493342  0.161561  A\n",
       "1  0.103237  0.298395  A\n",
       "2  0.973065  0.394180  A\n",
       "3  0.083953  0.232417  A\n",
       "4  0.431583  0.984794  A"
      ]
     },
     "execution_count": 48,
     "metadata": {},
     "output_type": "execute_result"
    }
   ],
   "source": [
    "df['X'] = pd.Series(['A', 'A', 'A', 'A', 'A', 'B', 'B', 'B', 'B', 'B'])\n",
    "df.head()"
   ]
  },
  {
   "cell_type": "code",
   "execution_count": 49,
   "id": "e57c146a",
   "metadata": {},
   "outputs": [
    {
     "data": {
      "image/png": "[encoded data removed]",
      "text/plain": [
       "<Figure size 432x288 with 2 Axes>"
      ]
     },
     "metadata": {
      "needs_background": "light"
     },
     "output_type": "display_data"
    }
   ],
   "source": [
    "bp = df.boxplot(by='X')"
   ]
  },
  {
   "cell_type": "code",
   "execution_count": 50,
   "id": "2aa102d4",
   "metadata": {},
   "outputs": [],
   "source": [
    "np.random.seed(1234)\n",
    "# seed 값을 주어 난수가 계속 변하지 않게 값을 고정함"
   ]
  },
  {
   "cell_type": "code",
   "execution_count": 51,
   "id": "ca0282df",
   "metadata": {},
   "outputs": [
    {
     "data": {
      "text/html": [
       "<div>\n",
       "<style scoped>\n",
       "    .dataframe tbody tr th:only-of-type {\n",
       "        vertical-align: middle;\n",
       "    }\n",
       "\n",
       "    .dataframe tbody tr th {\n",
       "        vertical-align: top;\n",
       "    }\n",
       "\n",
       "    .dataframe thead th {\n",
       "        text-align: right;\n",
       "    }\n",
       "</style>\n",
       "<table border=\"1\" class=\"dataframe\">\n",
       "  <thead>\n",
       "    <tr style=\"text-align: right;\">\n",
       "      <th></th>\n",
       "      <th>0</th>\n",
       "      <th>1</th>\n",
       "    </tr>\n",
       "  </thead>\n",
       "  <tbody>\n",
       "    <tr>\n",
       "      <th>0</th>\n",
       "      <td>0.471435</td>\n",
       "      <td>-1.190976</td>\n",
       "    </tr>\n",
       "    <tr>\n",
       "      <th>1</th>\n",
       "      <td>1.432707</td>\n",
       "      <td>-0.312652</td>\n",
       "    </tr>\n",
       "    <tr>\n",
       "      <th>2</th>\n",
       "      <td>-0.720589</td>\n",
       "      <td>0.887163</td>\n",
       "    </tr>\n",
       "    <tr>\n",
       "      <th>3</th>\n",
       "      <td>0.859588</td>\n",
       "      <td>-0.636524</td>\n",
       "    </tr>\n",
       "    <tr>\n",
       "      <th>4</th>\n",
       "      <td>0.015696</td>\n",
       "      <td>-2.242685</td>\n",
       "    </tr>\n",
       "  </tbody>\n",
       "</table>\n",
       "</div>"
      ],
      "text/plain": [
       "          0         1\n",
       "0  0.471435 -1.190976\n",
       "1  1.432707 -0.312652\n",
       "2 -0.720589  0.887163\n",
       "3  0.859588 -0.636524\n",
       "4  0.015696 -2.242685"
      ]
     },
     "execution_count": 51,
     "metadata": {},
     "output_type": "execute_result"
    }
   ],
   "source": [
    "df_box = pd.DataFrame(np.random.randn(50, 2))\n",
    "df_box.head()"
   ]
  },
  {
   "cell_type": "code",
   "execution_count": 53,
   "id": "58dfe3b3",
   "metadata": {},
   "outputs": [
    {
     "data": {
      "text/plain": [
       "0    A\n",
       "1    A\n",
       "2    B\n",
       "3    A\n",
       "4    B\n",
       "Name: g, dtype: object"
      ]
     },
     "execution_count": 53,
     "metadata": {},
     "output_type": "execute_result"
    }
   ],
   "source": [
    "df_box['g'] = np.random.choice(['A', 'B'], size=50)\n",
    "df_box['g'].head()"
   ]
  },
  {
   "cell_type": "code",
   "execution_count": 54,
   "id": "9dbbc26e",
   "metadata": {},
   "outputs": [],
   "source": [
    "df_box.loc[df_box['g'] == 'B', 1] += 3"
   ]
  },
  {
   "cell_type": "code",
   "execution_count": 55,
   "id": "3557b095",
   "metadata": {},
   "outputs": [
    {
     "data": {
      "text/plain": [
       "array([<AxesSubplot:title={'center':'0'}, xlabel='[g]'>,\n",
       "       <AxesSubplot:title={'center':'1'}, xlabel='[g]'>], dtype=object)"
      ]
     },
     "execution_count": 55,
     "metadata": {},
     "output_type": "execute_result"
    },
    {
     "data": {
      "image/png": "[encoded data removed]",
      "text/plain": [
       "<Figure size 432x288 with 2 Axes>"
      ]
     },
     "metadata": {
      "needs_background": "light"
     },
     "output_type": "display_data"
    }
   ],
   "source": [
    "df_box.boxplot(by='g')"
   ]
  },
  {
   "cell_type": "code",
   "execution_count": 56,
   "id": "72c0a483",
   "metadata": {},
   "outputs": [
    {
     "data": {
      "image/png": "[encoded data removed]",
      "text/plain": [
       "<Figure size 432x288 with 2 Axes>"
      ]
     },
     "metadata": {
      "needs_background": "light"
     },
     "output_type": "display_data"
    }
   ],
   "source": [
    "bp = df_box.boxplot(by='g')"
   ]
  },
  {
   "cell_type": "code",
   "execution_count": 57,
   "id": "8984290c",
   "metadata": {},
   "outputs": [
    {
     "data": {
      "image/png": "[encoded data removed]",
      "text/plain": [
       "<Figure size 432x288 with 2 Axes>"
      ]
     },
     "metadata": {
      "needs_background": "light"
     },
     "output_type": "display_data"
    }
   ],
   "source": [
    "bp = df_box.groupby('g').boxplot()"
   ]
  },
  {
   "cell_type": "code",
   "execution_count": null,
   "id": "676d337c",
   "metadata": {},
   "outputs": [],
   "source": []
  }
 ],
 "metadata": {
  "kernelspec": {
   "display_name": "Python 3 (ipykernel)",
   "language": "python",
   "name": "python3"
  },
  "language_info": {
   "codemirror_mode": {
    "name": "ipython",
    "version": 3
   },
   "file_extension": ".py",
   "mimetype": "text/x-python",
   "name": "python",
   "nbconvert_exporter": "python",
   "pygments_lexer": "ipython3",
   "version": "3.9.7"
  }
 },
 "nbformat": 4,
 "nbformat_minor": 5
}
