{
 "cells": [
  {
   "cell_type": "markdown",
   "id": "a73c4914",
   "metadata": {},
   "source": [
    "# 함수 정의하고 호출하기"
   ]
  },
  {
   "cell_type": "markdown",
   "id": "95d6bd16",
   "metadata": {},
   "source": [
    "* 자기소개 함수 정의하고 호출하기   "
   ]
  },
  {
   "cell_type": "code",
   "execution_count": 1,
   "id": "2aecbe0c",
   "metadata": {},
   "outputs": [
    {
     "name": "stdout",
     "output_type": "stream",
     "text": [
      "안녕하세요!\n",
      "저의 이름은 파이썬입니다.\n"
     ]
    }
   ],
   "source": [
    "## 자기소개 ##\n",
    "\n",
    "print('안녕하세요!')\n",
    "print('저의 이름은 파이썬입니다.')"
   ]
  },
  {
   "cell_type": "code",
   "execution_count": 2,
   "id": "7bc69454",
   "metadata": {},
   "outputs": [
    {
     "name": "stdout",
     "output_type": "stream",
     "text": [
      "안녕하세요!\n",
      "저의 이름은 파이썬입니다.\n"
     ]
    }
   ],
   "source": [
    "# 함수 정의\n",
    "def introduce() : \n",
    "    print('안녕하세요!')\n",
    "    print('저의 이름은 파이썬입니다.')\n",
    "    \n",
    "# 함수 호출\n",
    "introduce()"
   ]
  },
  {
   "cell_type": "markdown",
   "id": "e5f5dcf0",
   "metadata": {},
   "source": [
    "* 함수 정의를 먼저 한 후 호출하도록 코드를 순차적으로 작성해야 한다."
   ]
  },
  {
   "cell_type": "code",
   "execution_count": 5,
   "id": "fe5a48b2",
   "metadata": {},
   "outputs": [],
   "source": [
    "# # 함수 호출\n",
    "# introduce2()\n",
    "\n",
    "# 함수 정의\n",
    "def introduce2() : \n",
    "    print('안녕하세요!')\n",
    "    print('저의 이름은 파이썬입니다.')\n",
    "    \n",
    "    \n",
    "# 코드는 위에서부터 아래로 순차적으로 실행된다.\n",
    "# 함수를 호출하는 시점에 함수가 정의되어 있지 않으면 에러 발생"
   ]
  },
  {
   "cell_type": "code",
   "execution_count": 6,
   "id": "cc01042f",
   "metadata": {},
   "outputs": [
    {
     "name": "stdout",
     "output_type": "stream",
     "text": [
      "안녕하세요!\n",
      "저의 이름은 파이썬입니다.\n"
     ]
    }
   ],
   "source": [
    "introduce2()"
   ]
  },
  {
   "cell_type": "markdown",
   "id": "d3c554ce",
   "metadata": {},
   "source": [
    "# 매개변수 전달하기"
   ]
  },
  {
   "cell_type": "code",
   "execution_count": 9,
   "id": "e642e7d8",
   "metadata": {},
   "outputs": [
    {
     "name": "stdout",
     "output_type": "stream",
     "text": [
      "안녕하세요!\n",
      "저의 이름은 쩡후입니다.\n"
     ]
    }
   ],
   "source": [
    "## 자기소개 ##\n",
    "name = '쩡후'\n",
    "print('안녕하세요!')\n",
    "print('저의 이름은 ' +name+'입니다.')"
   ]
  },
  {
   "cell_type": "markdown",
   "id": "765563e6",
   "metadata": {},
   "source": [
    "* 매개변수 1개 전달하기"
   ]
  },
  {
   "cell_type": "code",
   "execution_count": 11,
   "id": "c99f3123",
   "metadata": {},
   "outputs": [
    {
     "name": "stdout",
     "output_type": "stream",
     "text": [
      "안녕하세요!\n",
      "저의 이름은 쩡후입니다.\n",
      "안녕하세요!\n",
      "저의 이름은 이성현입니다.\n"
     ]
    }
   ],
   "source": [
    "def introduce(name) : \n",
    "    print('안녕하세요!')\n",
    "    print('저의 이름은 ' +name+'입니다.')\n",
    "    \n",
    "introduce('쩡후')\n",
    "introduce('이성현')"
   ]
  },
  {
   "cell_type": "markdown",
   "id": "f9be0261",
   "metadata": {},
   "source": [
    "* 매개변수 여러개 전달하기"
   ]
  },
  {
   "cell_type": "code",
   "execution_count": 12,
   "id": "bf97c2e8",
   "metadata": {},
   "outputs": [
    {
     "name": "stdout",
     "output_type": "stream",
     "text": [
      "안녕하세요!\n",
      "저의 이름은 쩡후입니다.\n",
      "나이는 20살입니다.\n"
     ]
    }
   ],
   "source": [
    "## 자기소개 ##\n",
    "name = '쩡후'\n",
    "age = 20\n",
    "\n",
    "print('안녕하세요!')\n",
    "print('저의 이름은 ' +name+'입니다.')\n",
    "print('나이는 ' +str(age)+'살입니다.')"
   ]
  },
  {
   "cell_type": "code",
   "execution_count": 13,
   "id": "a838acc1",
   "metadata": {},
   "outputs": [
    {
     "name": "stdout",
     "output_type": "stream",
     "text": [
      "안녕하세요!\n",
      "저의 이름은 쩡후입니다.\n",
      "나이는 22살입니다.\n",
      "안녕하세요!\n",
      "저의 이름은 이성현입니다.\n",
      "나이는 30살입니다.\n"
     ]
    }
   ],
   "source": [
    "def introduce2(name, age) : \n",
    "    print('안녕하세요!')\n",
    "    print('저의 이름은 ' +name+'입니다.')\n",
    "    print('나이는 ' +str(age)+'살입니다.')\n",
    "    \n",
    "introduce2('쩡후', 22)\n",
    "introduce2('이성현', 30)"
   ]
  },
  {
   "cell_type": "markdown",
   "id": "38b72db7",
   "metadata": {},
   "source": [
    "# 연습문제\n",
    "* 이름과 나이를 입력받아 생일축하 메시지를 출력하는 함수를 만들고 호출하세요.\n",
    "* 생일문구 : ooo님의 oo번째 생일을 축하합니다!!"
   ]
  },
  {
   "cell_type": "code",
   "execution_count": 14,
   "id": "a93b16db",
   "metadata": {},
   "outputs": [
    {
     "name": "stdout",
     "output_type": "stream",
     "text": [
      "쩡후 님의 22번째 생일을 축하합니다!!\n",
      "이성현 님의 30번째 생일을 축하합니다!!\n"
     ]
    }
   ],
   "source": [
    "def birthday(name, age) : \n",
    "    print(name, '님의 ' +str(age)+'번째 생일을 축하합니다!!')\n",
    "    \n",
    "birthday('쩡후', 22)\n",
    "birthday('이성현', 30)"
   ]
  },
  {
   "cell_type": "code",
   "execution_count": 17,
   "id": "d721646e",
   "metadata": {},
   "outputs": [
    {
     "name": "stdout",
     "output_type": "stream",
     "text": [
      "이름: 이성현\n",
      "나이: 30\n",
      "이성현님의 30번째 생일을 축하합니다!!!\n"
     ]
    }
   ],
   "source": [
    "name = input('이름: ')\n",
    "age = input('나이: ')\n",
    "\n",
    "def birthday(name, age) : \n",
    "    print(f'{name}님의 {age}번째 생일을 축하합니다!!!')\n",
    "    \n",
    "birthday(name, age)"
   ]
  },
  {
   "cell_type": "markdown",
   "id": "348d0ed0",
   "metadata": {},
   "source": [
    "# 값 1개 반환하기"
   ]
  },
  {
   "cell_type": "code",
   "execution_count": 18,
   "id": "add129fa",
   "metadata": {},
   "outputs": [
    {
     "name": "stdout",
     "output_type": "stream",
     "text": [
      "52\n"
     ]
    }
   ],
   "source": [
    "# 두 수를 매개변수로 받아 더한 후 결과를 리턴하는 함수 만들기\n",
    "\n",
    "def get_plus(n1, n2) : \n",
    "    return n1 + n2\n",
    "\n",
    "print(get_plus(22, 30))"
   ]
  },
  {
   "cell_type": "code",
   "execution_count": 19,
   "id": "09001224",
   "metadata": {},
   "outputs": [
    {
     "name": "stdout",
     "output_type": "stream",
     "text": [
      "plus:  52\n"
     ]
    }
   ],
   "source": [
    "plus = get_plus(22, 30)\n",
    "print('plus: ', plus)"
   ]
  },
  {
   "cell_type": "markdown",
   "id": "03cdc6f3",
   "metadata": {},
   "source": [
    "# 값 여러개 반환하기\n",
    "* 여러개의 값을 하나의 튜플로 묶어서 반환한다."
   ]
  },
  {
   "cell_type": "code",
   "execution_count": 20,
   "id": "35fd692a",
   "metadata": {},
   "outputs": [
    {
     "name": "stdout",
     "output_type": "stream",
     "text": [
      "(52, 8)\n"
     ]
    }
   ],
   "source": [
    "# 두 수를 매개변수로 받아 더한값과 뺀 값을 리턴하는 함수 만들기\n",
    "\n",
    "def get_plus_minus(n1, n2) : \n",
    "    return n1+n2, n1-n2\n",
    "\n",
    "print(get_plus_minus(30, 22))"
   ]
  },
  {
   "cell_type": "code",
   "execution_count": 21,
   "id": "d61798d7",
   "metadata": {},
   "outputs": [
    {
     "name": "stdout",
     "output_type": "stream",
     "text": [
      "plus:  52\n",
      "minus:  8\n"
     ]
    }
   ],
   "source": [
    "result = get_plus_minus(30, 22)\n",
    "print('plus: ', result[0])\n",
    "print('minus: ', result[1])"
   ]
  },
  {
   "cell_type": "markdown",
   "id": "9cc039f9",
   "metadata": {},
   "source": [
    "# 함수에서 빠져나오기\n",
    "* return을 만나면 함수를 빠져나온다.\n",
    "* 반환할 값이 있다면 값을 반환하고 빠져나오고, 없다면 그냥 빠져나온다."
   ]
  },
  {
   "cell_type": "code",
   "execution_count": 23,
   "id": "2fee8408",
   "metadata": {},
   "outputs": [
    {
     "data": {
      "text/plain": [
       "'짝수'"
      ]
     },
     "execution_count": 23,
     "metadata": {},
     "output_type": "execute_result"
    }
   ],
   "source": [
    "# 정수를 입력받아 0, 짝수, 홀수 여부를 리턴하는 함수 만들기\n",
    "\n",
    "def is_odd_even_0(number) :\n",
    "    if number == 0 : \n",
    "        result = 0\n",
    "    \n",
    "    elif number % 2 == 1 : \n",
    "        result = '홀수'\n",
    "    \n",
    "    else : \n",
    "        result = '짝수'\n",
    "        \n",
    "    return result\n",
    "\n",
    "is_odd_even_0(46)"
   ]
  },
  {
   "cell_type": "code",
   "execution_count": 24,
   "id": "21b48302",
   "metadata": {},
   "outputs": [
    {
     "data": {
      "text/plain": [
       "'홀수'"
      ]
     },
     "execution_count": 24,
     "metadata": {},
     "output_type": "execute_result"
    }
   ],
   "source": [
    "is_odd_even_0(57)"
   ]
  },
  {
   "cell_type": "markdown",
   "id": "0b065aba",
   "metadata": {},
   "source": [
    "# 연습문제\n",
    "* 소수 여부 판단하기\n",
    "매개변수로 전달받은 수가 소수인지 아닌지 판별하는 함수를 작성하고 호출하세요.\n",
    "\n",
    "* 소수란 : 1과 자기 자신으로만 나누어 떨어지는 1보다 큰 양의 정수\n"
   ]
  },
  {
   "cell_type": "code",
   "execution_count": 28,
   "id": "0df488b0",
   "metadata": {},
   "outputs": [
    {
     "data": {
      "text/plain": [
       "True"
      ]
     },
     "execution_count": 28,
     "metadata": {},
     "output_type": "execute_result"
    }
   ],
   "source": [
    "def is_prime(number) : \n",
    "    if number <= 1 : \n",
    "        return False\n",
    "    \n",
    "    for i in range(2, number) : \n",
    "        if number % i == 0 :\n",
    "             return False\n",
    "            \n",
    "    return True\n",
    "\n",
    "\n",
    "is_prime(17)"
   ]
  },
  {
   "cell_type": "markdown",
   "id": "d5727b99",
   "metadata": {},
   "source": [
    "# 위치인수"
   ]
  },
  {
   "cell_type": "markdown",
   "id": "1f5bb90f",
   "metadata": {},
   "source": [
    "* 기본적인 인수 전달방법이다.\n",
    "* 함수에 정의된 매개변수와 순서에 맞게 짝을 맞추어 인수를 전달한다."
   ]
  },
  {
   "cell_type": "code",
   "execution_count": 29,
   "id": "f88a998b",
   "metadata": {},
   "outputs": [
    {
     "name": "stdout",
     "output_type": "stream",
     "text": [
      "안녕 친구 오랜만이야\n"
     ]
    }
   ],
   "source": [
    "def greet(name, msg) : \n",
    "    print('안녕', name, msg)\n",
    "    \n",
    "greet('친구', '오랜만이야')"
   ]
  },
  {
   "cell_type": "markdown",
   "id": "d52f26fa",
   "metadata": {},
   "source": [
    "# 디폴트인수"
   ]
  },
  {
   "cell_type": "markdown",
   "id": "71b455df",
   "metadata": {},
   "source": [
    "* 함수를 정의할 때 매개변수에 디폴트값을 지정하면 디폴트값이 지정된 인수를 생략할 수 있다."
   ]
  },
  {
   "cell_type": "code",
   "execution_count": 30,
   "id": "ded76a98",
   "metadata": {},
   "outputs": [
    {
     "name": "stdout",
     "output_type": "stream",
     "text": [
      "안녕! 친구 오랜만이야\n",
      "안녕! 친구 반가워\n"
     ]
    }
   ],
   "source": [
    "def greet(name, msg = '오랜만이야') : \n",
    "    print('안녕!', name, msg)\n",
    "    \n",
    "greet('친구')\n",
    "greet('친구', '반가워')"
   ]
  },
  {
   "cell_type": "markdown",
   "id": "4cdae57a",
   "metadata": {},
   "source": [
    "* 디폴트 인수는 기본 위치 인수를 다 적은 다음에 적어야 한다."
   ]
  },
  {
   "cell_type": "code",
   "execution_count": 31,
   "id": "d276e9dc",
   "metadata": {},
   "outputs": [
    {
     "ename": "SyntaxError",
     "evalue": "non-default argument follows default argument (Temp/ipykernel_17920/3246192479.py, line 1)",
     "output_type": "error",
     "traceback": [
      "\u001b[1;36m  File \u001b[1;32m\"C:\\Users\\jjunghu\\AppData\\Local\\Temp/ipykernel_17920/3246192479.py\"\u001b[1;36m, line \u001b[1;32m1\u001b[0m\n\u001b[1;33m    def greet(name = '친구', msg) :\u001b[0m\n\u001b[1;37m                              ^\u001b[0m\n\u001b[1;31mSyntaxError\u001b[0m\u001b[1;31m:\u001b[0m non-default argument follows default argument\n"
     ]
    }
   ],
   "source": [
    "def greet(name = '친구', msg) : \n",
    "    print('안녕!', name, msg)\n",
    "    \n",
    "greet('반가워')"
   ]
  },
  {
   "cell_type": "markdown",
   "id": "faf9cb59",
   "metadata": {},
   "source": [
    "# 키워드인수"
   ]
  },
  {
   "cell_type": "markdown",
   "id": "9415a1ae",
   "metadata": {},
   "source": [
    "* 함수를 호출할 때 인수의 이름을 명시하면, 순서를 바꾸어 전달할 수 있다."
   ]
  },
  {
   "cell_type": "code",
   "execution_count": 32,
   "id": "ec0340a8",
   "metadata": {},
   "outputs": [
    {
     "name": "stdout",
     "output_type": "stream",
     "text": [
      "-20\n",
      "-20\n"
     ]
    }
   ],
   "source": [
    "def get_minus(x, y, z) : \n",
    "    return x-y-z\n",
    "\n",
    "print(get_minus(5, 10, 15))\n",
    "print(get_minus(5, z=15, y=10))"
   ]
  },
  {
   "cell_type": "markdown",
   "id": "576fee0d",
   "metadata": {},
   "source": [
    "* 키워드 인수는 기본 위치 인수를 다 적은 다음에 적어야 한다."
   ]
  },
  {
   "cell_type": "code",
   "execution_count": 33,
   "id": "e847a5e8",
   "metadata": {},
   "outputs": [
    {
     "ename": "SyntaxError",
     "evalue": "positional argument follows keyword argument (Temp/ipykernel_17920/3952058113.py, line 4)",
     "output_type": "error",
     "traceback": [
      "\u001b[1;36m  File \u001b[1;32m\"C:\\Users\\jjunghu\\AppData\\Local\\Temp/ipykernel_17920/3952058113.py\"\u001b[1;36m, line \u001b[1;32m4\u001b[0m\n\u001b[1;33m    print(get_minus(z=15, y=10, 5))\u001b[0m\n\u001b[1;37m                                 ^\u001b[0m\n\u001b[1;31mSyntaxError\u001b[0m\u001b[1;31m:\u001b[0m positional argument follows keyword argument\n"
     ]
    }
   ],
   "source": [
    "def get_minus(x,y,z):\n",
    "    return x-y-z\n",
    "\n",
    "print(get_minus(z=15, y=10, 5))"
   ]
  },
  {
   "cell_type": "markdown",
   "id": "b471a5c6",
   "metadata": {},
   "source": [
    "# 가변인수"
   ]
  },
  {
   "cell_type": "markdown",
   "id": "7a546b7e",
   "metadata": {},
   "source": [
    "* 인수를 하나의 튜플이나 리스트로 전달한다."
   ]
  },
  {
   "cell_type": "code",
   "execution_count": 41,
   "id": "0d92e519",
   "metadata": {},
   "outputs": [
    {
     "name": "stdout",
     "output_type": "stream",
     "text": [
      "[1, 2, 3]\n",
      "2.0\n",
      "[1, 2, 3, 4, 5]\n",
      "3.0\n"
     ]
    }
   ],
   "source": [
    "# 가변적인 수를 하나의 리스트/튜플로 받아서 수의 평균을 리턴하는 함수  \n",
    "\n",
    "def average(args) : \n",
    "    print(args)\n",
    "    return sum(args)/len(args)\n",
    "\n",
    "print(average([1,2,3]))\n",
    "print(average([1,2,3,4,5]))"
   ]
  },
  {
   "cell_type": "markdown",
   "id": "0ad93393",
   "metadata": {},
   "source": [
    "args는 정해지지 않은 수의 (일반)파라미터를 받고\n",
    "\n",
    "kwargs는 정해지지 않은 수의 키워드파라미터를 받음"
   ]
  },
  {
   "cell_type": "markdown",
   "id": "70e94f08",
   "metadata": {},
   "source": [
    "* 매개변수에 '*'를 붙이면 여러개의 인수를 하나의 튜플로 받는다.\n",
    "* 인수의 갯수는 가변적이다."
   ]
  },
  {
   "cell_type": "code",
   "execution_count": 40,
   "id": "bf1213c8",
   "metadata": {},
   "outputs": [
    {
     "name": "stdout",
     "output_type": "stream",
     "text": [
      "(1, 2, 3)\n"
     ]
    },
    {
     "data": {
      "text/plain": [
       "2.0"
      ]
     },
     "execution_count": 40,
     "metadata": {},
     "output_type": "execute_result"
    }
   ],
   "source": [
    "# 가변적인 수를 받아서 수의 평균을 리턴하는 함수\n",
    "\n",
    "def average(*args):\n",
    "    print(args)\n",
    "    return sum(args)/len(args)\n",
    "\n",
    "average(1,2,3)"
   ]
  },
  {
   "cell_type": "markdown",
   "id": "25403edd",
   "metadata": {},
   "source": [
    "* print함수의 위치인수, 키워드인수"
   ]
  },
  {
   "cell_type": "code",
   "execution_count": 43,
   "id": "7d3b0576",
   "metadata": {},
   "outputs": [
    {
     "name": "stdout",
     "output_type": "stream",
     "text": [
      "Help on built-in function print in module builtins:\n",
      "\n",
      "print(...)\n",
      "    print(value, ..., sep=' ', end='\\n', file=sys.stdout, flush=False)\n",
      "    \n",
      "    Prints the values to a stream, or to sys.stdout by default.\n",
      "    Optional keyword arguments:\n",
      "    file:  a file-like object (stream); defaults to the current sys.stdout.\n",
      "    sep:   string inserted between values, default a space.\n",
      "    end:   string appended after the last value, default a newline.\n",
      "    flush: whether to forcibly flush the stream.\n",
      "\n"
     ]
    }
   ],
   "source": [
    "help(print)"
   ]
  },
  {
   "cell_type": "code",
   "execution_count": 45,
   "id": "a13f19db",
   "metadata": {},
   "outputs": [
    {
     "name": "stdout",
     "output_type": "stream",
     "text": [
      "1@2@3\n",
      "1 2 3\n",
      "4 5\n"
     ]
    }
   ],
   "source": [
    "print(1,2,3, sep='@')\n",
    "print(1,2,3)\n",
    "print(4, 5)"
   ]
  },
  {
   "cell_type": "markdown",
   "id": "9340d55f",
   "metadata": {},
   "source": [
    "# 전역변수\n",
    "* 함수 밖에서 생성된 변수\n",
    "* 함수 내에서도 사용할 수 있다."
   ]
  },
  {
   "cell_type": "code",
   "execution_count": 46,
   "id": "af8a0bee",
   "metadata": {},
   "outputs": [
    {
     "name": "stdout",
     "output_type": "stream",
     "text": [
      "hello\n"
     ]
    }
   ],
   "source": [
    "say1 = 'hello'\n",
    "\n",
    "def sayhello() : \n",
    "    print(say1)\n",
    "    \n",
    "sayhello()"
   ]
  },
  {
   "cell_type": "markdown",
   "id": "93529b67",
   "metadata": {},
   "source": [
    "# 지역변수\n",
    "* 함수 내에서 생성된 변수\n",
    "* 함수 내에서만 사용할 수 있다."
   ]
  },
  {
   "cell_type": "code",
   "execution_count": 49,
   "id": "caf843c6",
   "metadata": {},
   "outputs": [
    {
     "name": "stdout",
     "output_type": "stream",
     "text": [
      "goodbye\n"
     ]
    }
   ],
   "source": [
    "def saygoodbye() : \n",
    "    say2 = 'goodbye'  # 지역번수\n",
    "    print(say2)\n",
    "    \n",
    "saygoodbye()\n",
    "\n",
    "# print(say2)"
   ]
  },
  {
   "cell_type": "markdown",
   "id": "32b5db07",
   "metadata": {},
   "source": [
    "# 함수 안에서 전역변수 값 변경하기"
   ]
  },
  {
   "cell_type": "markdown",
   "id": "480b79d2",
   "metadata": {},
   "source": [
    "* 함수 내에서 전역변수 값을 변경하려면 'global' 키워드를 함께 사용하여야 한다.\n",
    "* global을 사용하지 않으면 동일한 이름의 지역변수가 생성되어 사용된다."
   ]
  },
  {
   "cell_type": "code",
   "execution_count": 50,
   "id": "4781d888",
   "metadata": {},
   "outputs": [
    {
     "name": "stdout",
     "output_type": "stream",
     "text": [
      "(12, -8)\n",
      "1\n"
     ]
    }
   ],
   "source": [
    "n1 = 1    # 전역변수\n",
    "n2 = 10\n",
    "\n",
    "def get_plus_minus() : \n",
    "    n1 = 2   # 지역변수\n",
    "    plus = n1 + n2\n",
    "    minus = n1 - n2\n",
    "    return plus, minus\n",
    "\n",
    "print(get_plus_minus())   # 지역변수에 정의된 값으로 계산\n",
    "print(n1)                 # 전역변수 정의된 값 출력"
   ]
  },
  {
   "cell_type": "code",
   "execution_count": 51,
   "id": "c2dd5c12",
   "metadata": {},
   "outputs": [
    {
     "name": "stdout",
     "output_type": "stream",
     "text": [
      "(12, -8)\n",
      "2\n"
     ]
    }
   ],
   "source": [
    "n1 = 1\n",
    "n2 = 10\n",
    "\n",
    "def get_plus_minus() : \n",
    "    global n1     # 전역 변수 값을 변경, 전역변수로 정의된 값 활용(global)\n",
    "    n1 = 2\n",
    "    plus = n1 + n2\n",
    "    minus = n1 - n2\n",
    "    return plus, minus\n",
    "\n",
    "print(get_plus_minus())\n",
    "print(n1)"
   ]
  },
  {
   "cell_type": "markdown",
   "id": "57300477",
   "metadata": {},
   "source": [
    "# 람다표현식\n",
    "* lambda 매개변수1, 매개변수2, ... : 수식\n",
    "* 식 형태로 되어있어서 람다표현식(lambda experssion)이라고 부른다.\n",
    "* 람다표현식은 이름이 없는 익명함수이다."
   ]
  },
  {
   "cell_type": "code",
   "execution_count": 52,
   "id": "d1dc4ce4",
   "metadata": {},
   "outputs": [
    {
     "data": {
      "text/plain": [
       "3"
      ]
     },
     "execution_count": 52,
     "metadata": {},
     "output_type": "execute_result"
    }
   ],
   "source": [
    "# 두 수를 매개변수로 받아 더한 결과를 리턴하는 함수\n",
    "def get_plus(n1, n2):\n",
    "    return n1+n2\n",
    "\n",
    "get_plus(1,2)"
   ]
  },
  {
   "cell_type": "code",
   "execution_count": 53,
   "id": "262555da",
   "metadata": {},
   "outputs": [
    {
     "data": {
      "text/plain": [
       "3"
      ]
     },
     "execution_count": 53,
     "metadata": {},
     "output_type": "execute_result"
    }
   ],
   "source": [
    "# 람다표현식으로 만들기\n",
    "lambda n1, n2: n1+n2\n",
    "\n",
    "# 람다표현식 사용하기\n",
    "(lambda n1, n2: n1+n2)(1,2)"
   ]
  },
  {
   "cell_type": "code",
   "execution_count": 54,
   "id": "007d6bde",
   "metadata": {},
   "outputs": [
    {
     "name": "stdout",
     "output_type": "stream",
     "text": [
      "3\n",
      "8\n"
     ]
    }
   ],
   "source": [
    "# 람다표현식을 프로그램 내에서 재사용하고 싶다면, 람다표현식을 변수에 담아서 사용한다.\n",
    "lambda_plus = lambda n1, n2: n1+n2\n",
    "\n",
    "# 변수로 람다표현식 담아 호출하기\n",
    "\n",
    "print(lambda_plus(1,2))\n",
    "print(lambda_plus(3,5))"
   ]
  },
  {
   "cell_type": "markdown",
   "id": "e716c3b9",
   "metadata": {},
   "source": [
    "# map함수\n",
    "* map은 리스트나 튜플의 각 요소를 지정된 함수로 처리해주는 함수이다.\n",
    "* 원본리스트를 변경하지 않고 새 리스트를 생성한다.\n",
    "* list(map(함수, 리스트))\n",
    "* tuple(map(함수, 튜플))"
   ]
  },
  {
   "cell_type": "code",
   "execution_count": 56,
   "id": "f1ea57e9",
   "metadata": {},
   "outputs": [
    {
     "name": "stdout",
     "output_type": "stream",
     "text": [
      "[1, 2, 3, 4]\n",
      "[1, 2, 3, 4]\n"
     ]
    }
   ],
   "source": [
    "# map함수를 이용하여 리스트 a의 각 요소를 정수화 하여 새로운 리스트로 만들기\n",
    "a = ['1', '2', '3', '4']\n",
    "\n",
    "b = list(map(lambda x: int(x), a))\n",
    "c = list(map(int, a))\n",
    "\n",
    "print(b)\n",
    "print(c)"
   ]
  },
  {
   "cell_type": "markdown",
   "id": "1dbf4b95",
   "metadata": {},
   "source": [
    "# map함수에 람다표현식 사용하기"
   ]
  },
  {
   "cell_type": "code",
   "execution_count": 57,
   "id": "b8d06091",
   "metadata": {},
   "outputs": [
    {
     "name": "stdout",
     "output_type": "stream",
     "text": [
      "[2, 3, 4, 5, 6]\n"
     ]
    }
   ],
   "source": [
    "# 아래 리스트 l1에 1을 더한 l2 리스트 만들기\n",
    "l1 = [1,2,3,4,5]\n",
    "\n",
    "l2 = list(map(lambda x: x+1, l1))\n",
    "print(l2)"
   ]
  },
  {
   "cell_type": "markdown",
   "id": "4b4f66b7",
   "metadata": {},
   "source": [
    "# 람다표현식에 조건부표현식 사용하기"
   ]
  },
  {
   "cell_type": "markdown",
   "id": "9accaa87",
   "metadata": {},
   "source": [
    "* lambda 매개변수들:식1 if 조건식 else 식2"
   ]
  },
  {
   "cell_type": "code",
   "execution_count": 59,
   "id": "4124c87b",
   "metadata": {},
   "outputs": [
    {
     "data": {
      "text/plain": [
       "['1', 2.0, '3', 4.0, '5', 6.0, '7', 8.0, '9', 10.0]"
      ]
     },
     "execution_count": 59,
     "metadata": {},
     "output_type": "execute_result"
    }
   ],
   "source": [
    "# 아래 리스트에서 짝수는 float로 바꾸고, 홀수는 str로 바꾸기\n",
    "l1 = [1,2,3,4,5,6,7,8,9,10]\n",
    "\n",
    "list(map(lambda x: float(x) if x % 2 == 0 else str(x), l1))"
   ]
  },
  {
   "cell_type": "code",
   "execution_count": null,
   "id": "0a2173cc",
   "metadata": {},
   "outputs": [],
   "source": []
  }
 ],
 "metadata": {
  "kernelspec": {
   "display_name": "Python 3 (ipykernel)",
   "language": "python",
   "name": "python3"
  },
  "language_info": {
   "codemirror_mode": {
    "name": "ipython",
    "version": 3
   },
   "file_extension": ".py",
   "mimetype": "text/x-python",
   "name": "python",
   "nbconvert_exporter": "python",
   "pygments_lexer": "ipython3",
   "version": "3.9.7"
  }
 },
 "nbformat": 4,
 "nbformat_minor": 5
}
