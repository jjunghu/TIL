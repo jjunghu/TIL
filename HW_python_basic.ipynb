{
 "cells": [
  {
   "cell_type": "markdown",
   "id": "ee75bde0",
   "metadata": {},
   "source": [
    "# 출력하기"
   ]
  },
  {
   "cell_type": "markdown",
   "id": "3e4184b2",
   "metadata": {},
   "source": [
    "## 기본출력"
   ]
  },
  {
   "cell_type": "markdown",
   "id": "b02ddb6f",
   "metadata": {},
   "source": [
    "* print(value1, value2, ...,)"
   ]
  },
  {
   "cell_type": "code",
   "execution_count": 1,
   "id": "036affe7",
   "metadata": {},
   "outputs": [
    {
     "name": "stdout",
     "output_type": "stream",
     "text": [
      "hello\n",
      "hello\n"
     ]
    }
   ],
   "source": [
    "# hello 출력하기\n",
    "print('hello')\n",
    "print(\"hello\")"
   ]
  },
  {
   "cell_type": "code",
   "execution_count": 2,
   "id": "12c77125",
   "metadata": {},
   "outputs": [
    {
     "name": "stdout",
     "output_type": "stream",
     "text": [
      "hello python\n"
     ]
    }
   ],
   "source": [
    "# hello, python 출력하기\n",
    "print('hello', 'python')"
   ]
  },
  {
   "cell_type": "code",
   "execution_count": 3,
   "id": "b1428165",
   "metadata": {},
   "outputs": [
    {
     "name": "stdout",
     "output_type": "stream",
     "text": [
      "1+1= 2\n"
     ]
    }
   ],
   "source": [
    "# 계산식 출력하기(1+1=2)\n",
    "print('1+1=', 1+1)"
   ]
  },
  {
   "cell_type": "markdown",
   "id": "5f6c184b",
   "metadata": {},
   "source": [
    "## 구분자 지정"
   ]
  },
  {
   "cell_type": "markdown",
   "id": "f4c757bf",
   "metadata": {},
   "source": [
    "* print(value1, value2, ..., sep='구분자')"
   ]
  },
  {
   "cell_type": "code",
   "execution_count": 4,
   "id": "2a8248d2",
   "metadata": {},
   "outputs": [
    {
     "name": "stdout",
     "output_type": "stream",
     "text": [
      "hello.python\n"
     ]
    }
   ],
   "source": [
    "# .로 구분(hello.python)\n",
    "\n",
    "print('hello', 'python', sep='.')"
   ]
  },
  {
   "cell_type": "code",
   "execution_count": 6,
   "id": "322d41c4",
   "metadata": {},
   "outputs": [
    {
     "name": "stdout",
     "output_type": "stream",
     "text": [
      "hellopython\n",
      "1+1=2\n"
     ]
    }
   ],
   "source": [
    "# 공백없이 붙여서 출력\n",
    "\n",
    "print('hello', 'python', sep='')\n",
    "print('1+1=', 1+1, sep='')"
   ]
  },
  {
   "cell_type": "markdown",
   "id": "d4c890a7",
   "metadata": {},
   "source": [
    "## 끝문자 지정"
   ]
  },
  {
   "cell_type": "markdown",
   "id": "96bd9984",
   "metadata": {},
   "source": [
    "* print(value1, value2, ..., end='끝문자')"
   ]
  },
  {
   "cell_type": "code",
   "execution_count": 8,
   "id": "8d26f3f5",
   "metadata": {},
   "outputs": [
    {
     "name": "stdout",
     "output_type": "stream",
     "text": [
      "안녕하세요 반갑습니다\n"
     ]
    }
   ],
   "source": [
    "# 공백으로 끝내기 (안녕하세요 반값습니다)\n",
    "\n",
    "print('안녕하세요', end = ' ')\n",
    "print('반갑습니다')"
   ]
  },
  {
   "cell_type": "code",
   "execution_count": 9,
   "id": "75bc529b",
   "metadata": {},
   "outputs": [
    {
     "name": "stdout",
     "output_type": "stream",
     "text": [
      "안녕하세요!!반갑습니다!!"
     ]
    }
   ],
   "source": [
    "# !!로 끝내기 (안녕하세요!! 반갑습니다!!)\n",
    "\n",
    "print('안녕하세요', end = '!!')\n",
    "print('반갑습니다', end = '!!')"
   ]
  },
  {
   "cell_type": "markdown",
   "id": "eda17161",
   "metadata": {},
   "source": [
    "## 여러 줄 한번에 출력하기"
   ]
  },
  {
   "cell_type": "markdown",
   "id": "5b6d223b",
   "metadata": {},
   "source": [
    "* 홑따옴표 세개(''') 혹은 쌍따옴표 세개(\"\"\")로 묶는다."
   ]
  },
  {
   "cell_type": "code",
   "execution_count": 10,
   "id": "b61dafe4",
   "metadata": {},
   "outputs": [
    {
     "name": "stdout",
     "output_type": "stream",
     "text": [
      "자세히 보아야 예쁘다.\n",
      "오래 보아야 사랑스럽다.\n",
      "너도 그렇다.\n"
     ]
    }
   ],
   "source": [
    "print('자세히 보아야 예쁘다.')\n",
    "print('오래 보아야 사랑스럽다.')\n",
    "print('너도 그렇다.')"
   ]
  },
  {
   "cell_type": "code",
   "execution_count": 11,
   "id": "e9c7fdfc",
   "metadata": {},
   "outputs": [
    {
     "name": "stdout",
     "output_type": "stream",
     "text": [
      "\n",
      "자세히 보아야 예쁘다.\n",
      "오래 보아야 사랑스럽다.\n",
      "너도 그렇다.\n",
      "\n"
     ]
    }
   ],
   "source": [
    "print('''\n",
    "자세히 보아야 예쁘다.\n",
    "오래 보아야 사랑스럽다.\n",
    "너도 그렇다.\n",
    "''')"
   ]
  },
  {
   "cell_type": "code",
   "execution_count": 12,
   "id": "c03e7868",
   "metadata": {},
   "outputs": [
    {
     "name": "stdout",
     "output_type": "stream",
     "text": [
      "\n",
      "자세히 보아야 예쁘다.\n",
      "오래 보아야 사랑스럽다.\n",
      "너도 그렇다.\n",
      "\n"
     ]
    }
   ],
   "source": [
    "print(\"\"\"\n",
    "자세히 보아야 예쁘다.\n",
    "오래 보아야 사랑스럽다.\n",
    "너도 그렇다.\n",
    "\"\"\")"
   ]
  },
  {
   "cell_type": "markdown",
   "id": "b1a0da2e",
   "metadata": {},
   "source": [
    "# 주석달기"
   ]
  },
  {
   "cell_type": "markdown",
   "id": "8c67721c",
   "metadata": {},
   "source": [
    "* 프로그램에 대한 설명을 적을 때, 코드의 실행을 잠시 막아둘 때 주석을 사용한다.\n",
    "* 파이썬에서는 샵('#')을 주석 기호로 사용한다."
   ]
  },
  {
   "cell_type": "code",
   "execution_count": 13,
   "id": "031ece38",
   "metadata": {},
   "outputs": [
    {
     "name": "stdout",
     "output_type": "stream",
     "text": [
      "1\n",
      "3\n"
     ]
    }
   ],
   "source": [
    "## 주석에 대한 코드입니다 ##\n",
    "print(1)  # 주석\n",
    "# print(2)\n",
    "print(3)"
   ]
  },
  {
   "cell_type": "markdown",
   "id": "ca1a232a",
   "metadata": {},
   "source": [
    "# 들여쓰기"
   ]
  },
  {
   "cell_type": "markdown",
   "id": "374267c0",
   "metadata": {},
   "source": [
    "* 파이썬에서는 들여쓰기 자체가 문법입니다.\n",
    "* 파이썬 들여쓰기 방법은 공백2칸, 공백4칸 등 여러가지 방법이 있지만 보통 공백4칸을 사용합니다."
   ]
  },
  {
   "cell_type": "code",
   "execution_count": 15,
   "id": "347489e1",
   "metadata": {},
   "outputs": [
    {
     "name": "stdout",
     "output_type": "stream",
     "text": [
      "hello1\n"
     ]
    }
   ],
   "source": [
    "print('hello1')\n",
    "#  print('hello2')"
   ]
  },
  {
   "cell_type": "markdown",
   "id": "454fad3c",
   "metadata": {},
   "source": [
    "# 오류 해석하기"
   ]
  },
  {
   "cell_type": "markdown",
   "id": "97c54465",
   "metadata": {},
   "source": [
    "## 파이썬에서는 대소문자를 구분한다."
   ]
  },
  {
   "cell_type": "code",
   "execution_count": 16,
   "id": "06c51c32",
   "metadata": {},
   "outputs": [
    {
     "ename": "NameError",
     "evalue": "name 'Print' is not defined",
     "output_type": "error",
     "traceback": [
      "\u001b[1;31m---------------------------------------------------------------------------\u001b[0m",
      "\u001b[1;31mNameError\u001b[0m                                 Traceback (most recent call last)",
      "\u001b[1;32m~\\AppData\\Local\\Temp/ipykernel_16512/2674531823.py\u001b[0m in \u001b[0;36m<module>\u001b[1;34m\u001b[0m\n\u001b[1;32m----> 1\u001b[1;33m \u001b[0mPrint\u001b[0m\u001b[1;33m(\u001b[0m\u001b[1;34m'hello'\u001b[0m\u001b[1;33m)\u001b[0m\u001b[1;33m\u001b[0m\u001b[1;33m\u001b[0m\u001b[0m\n\u001b[0m",
      "\u001b[1;31mNameError\u001b[0m: name 'Print' is not defined"
     ]
    }
   ],
   "source": [
    "Print('hello')"
   ]
  },
  {
   "cell_type": "markdown",
   "id": "6cc8a4c2",
   "metadata": {},
   "source": [
    "## 따옴표의 짝이 맞아야한다."
   ]
  },
  {
   "cell_type": "code",
   "execution_count": 17,
   "id": "eadd5838",
   "metadata": {},
   "outputs": [
    {
     "ename": "SyntaxError",
     "evalue": "EOL while scanning string literal (Temp/ipykernel_16512/353353896.py, line 1)",
     "output_type": "error",
     "traceback": [
      "\u001b[1;36m  File \u001b[1;32m\"C:\\Users\\jjunghu\\AppData\\Local\\Temp/ipykernel_16512/353353896.py\"\u001b[1;36m, line \u001b[1;32m1\u001b[0m\n\u001b[1;33m    print('hello'')\u001b[0m\n\u001b[1;37m                   ^\u001b[0m\n\u001b[1;31mSyntaxError\u001b[0m\u001b[1;31m:\u001b[0m EOL while scanning string literal\n"
     ]
    }
   ],
   "source": [
    "print('hello'')"
   ]
  },
  {
   "cell_type": "markdown",
   "id": "c510ecc1",
   "metadata": {},
   "source": [
    "## 괄호의 짝이 맞아야한다."
   ]
  },
  {
   "cell_type": "code",
   "execution_count": 18,
   "id": "48f2e778",
   "metadata": {},
   "outputs": [
    {
     "ename": "SyntaxError",
     "evalue": "closing parenthesis '}' does not match opening parenthesis '(' (Temp/ipykernel_16512/670788223.py, line 1)",
     "output_type": "error",
     "traceback": [
      "\u001b[1;36m  File \u001b[1;32m\"C:\\Users\\jjunghu\\AppData\\Local\\Temp/ipykernel_16512/670788223.py\"\u001b[1;36m, line \u001b[1;32m1\u001b[0m\n\u001b[1;33m    print('hello'}\u001b[0m\n\u001b[1;37m                 ^\u001b[0m\n\u001b[1;31mSyntaxError\u001b[0m\u001b[1;31m:\u001b[0m closing parenthesis '}' does not match opening parenthesis '('\n"
     ]
    }
   ],
   "source": [
    "print('hello'}"
   ]
  },
  {
   "cell_type": "markdown",
   "id": "be54ef9f",
   "metadata": {},
   "source": [
    "# 변수 만들기"
   ]
  },
  {
   "cell_type": "markdown",
   "id": "7d0fc78f",
   "metadata": {},
   "source": [
    "## 변수에 값 할당하기"
   ]
  },
  {
   "cell_type": "markdown",
   "id": "9ebb7a4f",
   "metadata": {},
   "source": [
    "* 변수명 = 변수값\n",
    "* 변수에 값이 할당될 때 변수값의 자료형에 따라 변수의 자료형이 결정된다."
   ]
  },
  {
   "cell_type": "code",
   "execution_count": 19,
   "id": "1af8f938",
   "metadata": {},
   "outputs": [],
   "source": [
    "name = 'james'\n",
    "age = 20\n",
    "height = 175.0\n",
    "ischild = age < 20"
   ]
  },
  {
   "cell_type": "markdown",
   "id": "579b7f7d",
   "metadata": {},
   "source": [
    "## 변수 값, 자료형 출력하기"
   ]
  },
  {
   "cell_type": "markdown",
   "id": "37d0758f",
   "metadata": {},
   "source": [
    "* 변수에 접근할 때는 변수명을 사용한다.\n",
    "* 변수값 출력: print(변수명)\n",
    "* 변수자료형 출력: print(type(변수명))"
   ]
  },
  {
   "cell_type": "code",
   "execution_count": 20,
   "id": "7f51d470",
   "metadata": {},
   "outputs": [
    {
     "name": "stdout",
     "output_type": "stream",
     "text": [
      "james\n",
      "<class 'str'>\n"
     ]
    }
   ],
   "source": [
    "print(name)\n",
    "print(type(name))"
   ]
  },
  {
   "cell_type": "code",
   "execution_count": 21,
   "id": "83adf169",
   "metadata": {},
   "outputs": [
    {
     "name": "stdout",
     "output_type": "stream",
     "text": [
      "20\n",
      "<class 'int'>\n"
     ]
    }
   ],
   "source": [
    "print(age)\n",
    "print(type(age))"
   ]
  },
  {
   "cell_type": "code",
   "execution_count": 22,
   "id": "fbe7b04b",
   "metadata": {},
   "outputs": [
    {
     "name": "stdout",
     "output_type": "stream",
     "text": [
      "175.0\n",
      "<class 'float'>\n"
     ]
    }
   ],
   "source": [
    "print(height)\n",
    "print(type(height))"
   ]
  },
  {
   "cell_type": "code",
   "execution_count": 23,
   "id": "99d1ac07",
   "metadata": {},
   "outputs": [
    {
     "name": "stdout",
     "output_type": "stream",
     "text": [
      "False\n",
      "<class 'bool'>\n"
     ]
    }
   ],
   "source": [
    "print(ischild)\n",
    "print(type(ischild))"
   ]
  },
  {
   "cell_type": "markdown",
   "id": "928bb93d",
   "metadata": {},
   "source": [
    "## 쌍따옴표나 홑따옴표가 포함되어 있는 문자열 사용하기"
   ]
  },
  {
   "cell_type": "markdown",
   "id": "52d7e0ab",
   "metadata": {},
   "source": [
    "* 홑따옴표가 포함되어 있는 문자열 사용하기\n",
    "    \n",
    "    '낮말'은 새가 듣고 '밤말'은 쥐가 듣는다."
   ]
  },
  {
   "cell_type": "code",
   "execution_count": 24,
   "id": "ecf0ec16",
   "metadata": {},
   "outputs": [
    {
     "name": "stdout",
     "output_type": "stream",
     "text": [
      "'낮말'은 새가 듣고 '밤말'은 쥐가 듣는다.\n"
     ]
    }
   ],
   "source": [
    "a = \"'낮말'은 새가 듣고 '밤말'은 쥐가 듣는다.\"\n",
    "print(a)"
   ]
  },
  {
   "cell_type": "markdown",
   "id": "670d954c",
   "metadata": {},
   "source": [
    "* 쌍따옴표가 포함되어 있는 문자열 사용하기\n",
    "\n",
    "    \"시간은 금\"이라는 말이 있다."
   ]
  },
  {
   "cell_type": "code",
   "execution_count": 25,
   "id": "d1554101",
   "metadata": {},
   "outputs": [
    {
     "name": "stdout",
     "output_type": "stream",
     "text": [
      "\"시간은 금\"이라는 말이 있다.\n"
     ]
    }
   ],
   "source": [
    "b = '\"시간은 금\"이라는 말이 있다.'\n",
    "print(b)"
   ]
  },
  {
   "cell_type": "markdown",
   "id": "cd8d7081",
   "metadata": {},
   "source": [
    "# 키보드로 변수에 값 입력받기"
   ]
  },
  {
   "cell_type": "markdown",
   "id": "371e90c0",
   "metadata": {},
   "source": [
    "* input()\n",
    "* input으로 입력받은 값은 무조건 str"
   ]
  },
  {
   "cell_type": "code",
   "execution_count": 26,
   "id": "0517dd1e",
   "metadata": {},
   "outputs": [
    {
     "name": "stdout",
     "output_type": "stream",
     "text": [
      "나이: 20\n"
     ]
    }
   ],
   "source": [
    "a = input('나이: ')"
   ]
  },
  {
   "cell_type": "code",
   "execution_count": 27,
   "id": "6fc112ab",
   "metadata": {},
   "outputs": [
    {
     "data": {
      "text/plain": [
       "str"
      ]
     },
     "execution_count": 27,
     "metadata": {},
     "output_type": "execute_result"
    }
   ],
   "source": [
    "type(a)"
   ]
  },
  {
   "cell_type": "markdown",
   "id": "78f9c188",
   "metadata": {},
   "source": [
    "## 자료형 변환하기"
   ]
  },
  {
   "cell_type": "markdown",
   "id": "ec505802",
   "metadata": {},
   "source": [
    "* int(value): int형으로 변환"
   ]
  },
  {
   "cell_type": "code",
   "execution_count": 28,
   "id": "07175a54",
   "metadata": {},
   "outputs": [
    {
     "data": {
      "text/plain": [
       "int"
      ]
     },
     "execution_count": 28,
     "metadata": {},
     "output_type": "execute_result"
    }
   ],
   "source": [
    "age = int('20')\n",
    "type(age)"
   ]
  },
  {
   "cell_type": "markdown",
   "id": "9c56d614",
   "metadata": {},
   "source": [
    "* str(value): str형으로 변환"
   ]
  },
  {
   "cell_type": "code",
   "execution_count": 29,
   "id": "9a54b75a",
   "metadata": {},
   "outputs": [
    {
     "data": {
      "text/plain": [
       "str"
      ]
     },
     "execution_count": 29,
     "metadata": {},
     "output_type": "execute_result"
    }
   ],
   "source": [
    "age = str(20)\n",
    "type(age)"
   ]
  },
  {
   "cell_type": "markdown",
   "id": "6d70f615",
   "metadata": {},
   "source": [
    "* float(value): float형으로 변환"
   ]
  },
  {
   "cell_type": "code",
   "execution_count": 30,
   "id": "0a806b0d",
   "metadata": {},
   "outputs": [
    {
     "name": "stdout",
     "output_type": "stream",
     "text": [
      "20.0 <class 'float'>\n"
     ]
    }
   ],
   "source": [
    "age = float(20)\n",
    "print(age, type(age))"
   ]
  },
  {
   "cell_type": "markdown",
   "id": "24d49424",
   "metadata": {},
   "source": [
    "* input으로 입력받은 값을 숫자형으로 변환하여 사용하기"
   ]
  },
  {
   "cell_type": "code",
   "execution_count": 32,
   "id": "8b4daaae",
   "metadata": {},
   "outputs": [
    {
     "name": "stdout",
     "output_type": "stream",
     "text": [
      "나이: 20\n"
     ]
    }
   ],
   "source": [
    "a = int(input('나이: '))"
   ]
  },
  {
   "cell_type": "code",
   "execution_count": 33,
   "id": "625e7270",
   "metadata": {},
   "outputs": [
    {
     "data": {
      "text/plain": [
       "int"
      ]
     },
     "execution_count": 33,
     "metadata": {},
     "output_type": "execute_result"
    }
   ],
   "source": [
    "type(a)"
   ]
  },
  {
   "cell_type": "markdown",
   "id": "016deda5",
   "metadata": {},
   "source": [
    "# 산술연산"
   ]
  },
  {
   "cell_type": "code",
   "execution_count": 34,
   "id": "0dbe45f8",
   "metadata": {},
   "outputs": [
    {
     "name": "stdout",
     "output_type": "stream",
     "text": [
      "a+b= 7\n",
      "a-b= -1\n",
      "a*b= 12\n",
      "a/b= 0.75\n",
      "a//b= 0\n",
      "a%b= 3\n",
      "a**b 81\n"
     ]
    }
   ],
   "source": [
    "a, b = 3, 4\n",
    "\n",
    "print('a+b=', a+b)\n",
    "print('a-b=', a-b)\n",
    "print('a*b=', a*b)\n",
    "print('a/b=', a/b)\n",
    "print('a//b=', a//b)\n",
    "print('a%b=', a%b)\n",
    "print('a**b', a**b)"
   ]
  },
  {
   "cell_type": "markdown",
   "id": "2dd2b872",
   "metadata": {},
   "source": [
    "# 문자열 연산"
   ]
  },
  {
   "cell_type": "code",
   "execution_count": 35,
   "id": "9fb2300f",
   "metadata": {},
   "outputs": [
    {
     "data": {
      "text/plain": [
       "'goodmorning'"
      ]
     },
     "execution_count": 35,
     "metadata": {},
     "output_type": "execute_result"
    }
   ],
   "source": [
    "# 문자열 더하기(문자열 연결하기)\n",
    "a = 'good'\n",
    "b = 'morning'\n",
    "a+b"
   ]
  },
  {
   "cell_type": "code",
   "execution_count": 37,
   "id": "b81be441",
   "metadata": {},
   "outputs": [
    {
     "data": {
      "text/plain": [
       "'hahaha'"
      ]
     },
     "execution_count": 37,
     "metadata": {},
     "output_type": "execute_result"
    }
   ],
   "source": [
    "# 문자열 곱하기(문자열 반복하기)\n",
    "s = 'ha'\n",
    "s * 3"
   ]
  },
  {
   "cell_type": "code",
   "execution_count": 38,
   "id": "d75481cc",
   "metadata": {},
   "outputs": [
    {
     "name": "stdout",
     "output_type": "stream",
     "text": [
      "영어점수80\n"
     ]
    }
   ],
   "source": [
    "# 문자열과 숫자형 더하기\n",
    "english = 80\n",
    "result = '영어점수'+str(english)\n",
    "print(result)"
   ]
  },
  {
   "cell_type": "markdown",
   "id": "c049cd59",
   "metadata": {},
   "source": [
    "# 할당 연산자"
   ]
  },
  {
   "cell_type": "code",
   "execution_count": 39,
   "id": "feaafa68",
   "metadata": {},
   "outputs": [],
   "source": [
    "a = 1"
   ]
  },
  {
   "cell_type": "code",
   "execution_count": 40,
   "id": "0090581d",
   "metadata": {},
   "outputs": [
    {
     "name": "stdout",
     "output_type": "stream",
     "text": [
      "1 1 1\n"
     ]
    }
   ],
   "source": [
    "a = b = c = 1\n",
    "print(a, b, c)"
   ]
  },
  {
   "cell_type": "code",
   "execution_count": 41,
   "id": "f24c35af",
   "metadata": {},
   "outputs": [
    {
     "name": "stdout",
     "output_type": "stream",
     "text": [
      "1 2 3\n"
     ]
    }
   ],
   "source": [
    "# a,b,c에 각각 1,2,3 할당\n",
    "a,b,c = 1,2,3\n",
    "print(a,b,c)"
   ]
  },
  {
   "cell_type": "markdown",
   "id": "40ffedb2",
   "metadata": {},
   "source": [
    "# 복합 할당 연산자"
   ]
  },
  {
   "cell_type": "code",
   "execution_count": 42,
   "id": "8e674dcd",
   "metadata": {},
   "outputs": [
    {
     "name": "stdout",
     "output_type": "stream",
     "text": [
      "30\n"
     ]
    }
   ],
   "source": [
    "x = 10\n",
    "x += 20   # x = x+20 = 10+20 = 30\n",
    "print(x)"
   ]
  },
  {
   "cell_type": "code",
   "execution_count": 44,
   "id": "a085c543",
   "metadata": {},
   "outputs": [
    {
     "name": "stdout",
     "output_type": "stream",
     "text": [
      "24\n"
     ]
    }
   ],
   "source": [
    "x = 3\n",
    "y = 5\n",
    "x *= x+y   # x = x * (x+y) = 3 * (3 + 5) = 24\n",
    "print(x)"
   ]
  },
  {
   "cell_type": "markdown",
   "id": "28042642",
   "metadata": {},
   "source": [
    "# f스트링으로 출력하기"
   ]
  },
  {
   "cell_type": "code",
   "execution_count": 46,
   "id": "013269c3",
   "metadata": {},
   "outputs": [
    {
     "name": "stdout",
     "output_type": "stream",
     "text": [
      "이름: 이성현\n",
      "이성현 님, 안녕하세요?\n"
     ]
    }
   ],
   "source": [
    "name = input('이름: ')\n",
    "print(name, '님, 안녕하세요?')"
   ]
  },
  {
   "cell_type": "code",
   "execution_count": 47,
   "id": "45b6e968",
   "metadata": {},
   "outputs": [
    {
     "name": "stdout",
     "output_type": "stream",
     "text": [
      "이성현님 안녕하세요\n"
     ]
    }
   ],
   "source": [
    "print(f'{name}님 안녕하세요')"
   ]
  },
  {
   "cell_type": "code",
   "execution_count": 50,
   "id": "549bdb34",
   "metadata": {},
   "outputs": [
    {
     "name": "stdout",
     "output_type": "stream",
     "text": [
      "나이: 30\n",
      "나이는 30 살이시군요. 내년이면 31 살이 되시겠네요\n"
     ]
    }
   ],
   "source": [
    "age = int(input('나이: '))\n",
    "print('나이는', age, '살이시군요. 내년이면', age+1, '살이 되시겠네요')"
   ]
  },
  {
   "cell_type": "code",
   "execution_count": 51,
   "id": "7499ec83",
   "metadata": {},
   "outputs": [
    {
     "name": "stdout",
     "output_type": "stream",
     "text": [
      "나이는 30살이시군요. 내년이면 31살이 되시겠네요\n"
     ]
    }
   ],
   "source": [
    "print(f'나이는 {age}살이시군요. 내년이면 {age+1}살이 되시겠네요')"
   ]
  },
  {
   "cell_type": "markdown",
   "id": "dc77cb0d",
   "metadata": {},
   "source": [
    "* 두 수를 입력받아 더하는 프로그램을 작성하기"
   ]
  },
  {
   "cell_type": "code",
   "execution_count": 52,
   "id": "89ded246",
   "metadata": {},
   "outputs": [
    {
     "name": "stdout",
     "output_type": "stream",
     "text": [
      "첫번째숫자: 22\n",
      "두번째숫자: 30\n",
      "22 + 30 = 52\n"
     ]
    }
   ],
   "source": [
    "a = int(input('첫번째숫자: '))\n",
    "b = int(input('두번째숫자: '))\n",
    "\n",
    "print(a, '+', b, '=', a+b)"
   ]
  },
  {
   "cell_type": "code",
   "execution_count": 53,
   "id": "967742b4",
   "metadata": {},
   "outputs": [
    {
     "name": "stdout",
     "output_type": "stream",
     "text": [
      "22+30=52\n"
     ]
    }
   ],
   "source": [
    "print(f'{a}+{b}={a+b}')"
   ]
  },
  {
   "cell_type": "markdown",
   "id": "c5564833",
   "metadata": {},
   "source": [
    "# 연습문제"
   ]
  },
  {
   "cell_type": "markdown",
   "id": "9dd673d7",
   "metadata": {},
   "source": [
    "* 화씨 온도를 입력받아 섭씨 온도로 변환하는 프로그램을 작성해보세요.\n",
    "    \n",
    "    C=(F−32)∗(5/9)\n"
   ]
  },
  {
   "cell_type": "code",
   "execution_count": 54,
   "id": "35fc0281",
   "metadata": {},
   "outputs": [
    {
     "name": "stdout",
     "output_type": "stream",
     "text": [
      "화씨온도: 100\n",
      "화씨온도:100.0 --> 섭씨온도:37.77777777777778\n"
     ]
    }
   ],
   "source": [
    "# 화씨온도 입력\n",
    "f = float(input('화씨온도: '))\n",
    "\n",
    "# 섭씨온도로 계산\n",
    "c = (f-32) * (5/9)\n",
    "\n",
    "# 결과 출력\n",
    "print(f'화씨온도:{f} --> 섭씨온도:{c}')"
   ]
  },
  {
   "cell_type": "markdown",
   "id": "cd13c8c2",
   "metadata": {},
   "source": [
    "# 문자열 인덱싱"
   ]
  },
  {
   "cell_type": "markdown",
   "id": "15317d74",
   "metadata": {},
   "source": [
    "* 양수 인덱스 사용하기"
   ]
  },
  {
   "cell_type": "code",
   "execution_count": 55,
   "id": "375eae28",
   "metadata": {},
   "outputs": [
    {
     "name": "stdout",
     "output_type": "stream",
     "text": [
      "H\n",
      "W\n",
      "d\n"
     ]
    }
   ],
   "source": [
    "a = 'Hello World'\n",
    "\n",
    "# 'H' 출력하기\n",
    "print(a[0])\n",
    "\n",
    "# 'W' 출력하기\n",
    "print(a[6])\n",
    "\n",
    "# 'd' 출력하기\n",
    "print(a[10])"
   ]
  },
  {
   "cell_type": "markdown",
   "id": "49229242",
   "metadata": {},
   "source": [
    "* 음수 인덱스 사용하기"
   ]
  },
  {
   "cell_type": "code",
   "execution_count": 56,
   "id": "235e722d",
   "metadata": {},
   "outputs": [
    {
     "name": "stdout",
     "output_type": "stream",
     "text": [
      "H\n",
      "W\n",
      "d\n"
     ]
    }
   ],
   "source": [
    "a = 'Hello World'\n",
    "\n",
    "# 'H' 출력하기\n",
    "print(a[-11])\n",
    "\n",
    "# 'W' 출력하기\n",
    "print(a[-5])\n",
    "\n",
    "# 'd' 출력하기\n",
    "print(a[-1])"
   ]
  },
  {
   "cell_type": "code",
   "execution_count": 57,
   "id": "7f08551a",
   "metadata": {},
   "outputs": [
    {
     "name": "stdout",
     "output_type": "stream",
     "text": [
      "Object `사용하면` not found.\n"
     ]
    }
   ],
   "source": [
    "* 범위 밖의 인덱스를 사용하면?"
   ]
  },
  {
   "cell_type": "code",
   "execution_count": null,
   "id": "0246927a",
   "metadata": {},
   "outputs": [],
   "source": [
    "* 범위 밖의 인덱스를 사용하면"
   ]
  },
  {
   "cell_type": "code",
   "execution_count": 58,
   "id": "4046157e",
   "metadata": {},
   "outputs": [
    {
     "ename": "IndexError",
     "evalue": "string index out of range",
     "output_type": "error",
     "traceback": [
      "\u001b[1;31m---------------------------------------------------------------------------\u001b[0m",
      "\u001b[1;31mIndexError\u001b[0m                                Traceback (most recent call last)",
      "\u001b[1;32m~\\AppData\\Local\\Temp/ipykernel_16512/1682186399.py\u001b[0m in \u001b[0;36m<module>\u001b[1;34m\u001b[0m\n\u001b[0;32m      1\u001b[0m \u001b[0ma\u001b[0m \u001b[1;33m=\u001b[0m \u001b[1;34m'Hello World'\u001b[0m\u001b[1;33m\u001b[0m\u001b[1;33m\u001b[0m\u001b[0m\n\u001b[1;32m----> 2\u001b[1;33m \u001b[0mprint\u001b[0m\u001b[1;33m(\u001b[0m\u001b[0ma\u001b[0m\u001b[1;33m[\u001b[0m\u001b[1;36m11\u001b[0m\u001b[1;33m]\u001b[0m\u001b[1;33m)\u001b[0m\u001b[1;33m\u001b[0m\u001b[1;33m\u001b[0m\u001b[0m\n\u001b[0m",
      "\u001b[1;31mIndexError\u001b[0m: string index out of range"
     ]
    }
   ],
   "source": [
    "a = 'Hello World'\n",
    "print(a[11])"
   ]
  },
  {
   "cell_type": "code",
   "execution_count": 59,
   "id": "4b8a390b",
   "metadata": {},
   "outputs": [
    {
     "ename": "IndexError",
     "evalue": "string index out of range",
     "output_type": "error",
     "traceback": [
      "\u001b[1;31m---------------------------------------------------------------------------\u001b[0m",
      "\u001b[1;31mIndexError\u001b[0m                                Traceback (most recent call last)",
      "\u001b[1;32m~\\AppData\\Local\\Temp/ipykernel_16512/2201501043.py\u001b[0m in \u001b[0;36m<module>\u001b[1;34m\u001b[0m\n\u001b[0;32m      1\u001b[0m \u001b[0ma\u001b[0m \u001b[1;33m=\u001b[0m \u001b[1;34m'Hello World'\u001b[0m\u001b[1;33m\u001b[0m\u001b[1;33m\u001b[0m\u001b[0m\n\u001b[1;32m----> 2\u001b[1;33m \u001b[0mprint\u001b[0m\u001b[1;33m(\u001b[0m\u001b[0ma\u001b[0m\u001b[1;33m[\u001b[0m\u001b[1;33m-\u001b[0m\u001b[1;36m12\u001b[0m\u001b[1;33m]\u001b[0m\u001b[1;33m)\u001b[0m\u001b[1;33m\u001b[0m\u001b[1;33m\u001b[0m\u001b[0m\n\u001b[0m",
      "\u001b[1;31mIndexError\u001b[0m: string index out of range"
     ]
    }
   ],
   "source": [
    "a = 'Hello World'\n",
    "print(a[-12])"
   ]
  },
  {
   "cell_type": "markdown",
   "id": "3223b9a5",
   "metadata": {},
   "source": [
    "# 문자열 슬라이싱"
   ]
  },
  {
   "cell_type": "markdown",
   "id": "d9685701",
   "metadata": {},
   "source": [
    "* 양수 인덱싱으로 슬라이싱"
   ]
  },
  {
   "cell_type": "code",
   "execution_count": 62,
   "id": "c23cd10d",
   "metadata": {},
   "outputs": [
    {
     "name": "stdout",
     "output_type": "stream",
     "text": [
      "Hello\n",
      "World\n"
     ]
    }
   ],
   "source": [
    "a = 'Hello World'\n",
    "# 'Hello' 출력하기\n",
    "print(a[0:5])\n",
    "\n",
    "# 'World' 출력하기\n",
    "print(a[6:11])"
   ]
  },
  {
   "cell_type": "markdown",
   "id": "288ebfb7",
   "metadata": {},
   "source": [
    "* 음수 인덱싱으로 슬라이싱"
   ]
  },
  {
   "cell_type": "code",
   "execution_count": 64,
   "id": "4a7816e5",
   "metadata": {},
   "outputs": [
    {
     "name": "stdout",
     "output_type": "stream",
     "text": [
      "Hello\n",
      "World\n"
     ]
    }
   ],
   "source": [
    "a = 'Hello World'\n",
    "\n",
    "# 'Hello' 출력하기\n",
    "print(a[-11:-6])\n",
    "\n",
    "# 'World' 출력하기\n",
    "print(a[-5:])\n"
   ]
  },
  {
   "cell_type": "markdown",
   "id": "0475ab1d",
   "metadata": {},
   "source": [
    "* 첫번째와 마지막 인덱싱은 생략가능"
   ]
  },
  {
   "cell_type": "code",
   "execution_count": 65,
   "id": "e806a334",
   "metadata": {},
   "outputs": [
    {
     "name": "stdout",
     "output_type": "stream",
     "text": [
      "Hello\n",
      "World\n",
      "Hello World\n"
     ]
    }
   ],
   "source": [
    "a = 'Hello World'\n",
    "\n",
    "# 'Hello'\n",
    "print(a[:5])\n",
    "\n",
    "# 'World'\n",
    "print(a[6:])\n",
    "\n",
    "# 'Hello World'\n",
    "print(a[:])"
   ]
  },
  {
   "cell_type": "markdown",
   "id": "9444853a",
   "metadata": {},
   "source": [
    "* 한 문자씩 건너뛰어 출력하기"
   ]
  },
  {
   "cell_type": "code",
   "execution_count": 66,
   "id": "cf6a5cf7",
   "metadata": {},
   "outputs": [
    {
     "name": "stdout",
     "output_type": "stream",
     "text": [
      "HloWrd\n"
     ]
    }
   ],
   "source": [
    "a = 'Hello World'\n",
    "print(a[::2])  # a[:] 전체 문자열 a[::2] 간격을 2씩 (한 문자씩 건너 뛰어)"
   ]
  },
  {
   "cell_type": "markdown",
   "id": "8d2afef7",
   "metadata": {},
   "source": [
    "* 역순으로 출력하기\n",
    "    : 간격을 마이너스(-)로 하면 역순으로 출력된다."
   ]
  },
  {
   "cell_type": "code",
   "execution_count": 68,
   "id": "3cd3d503",
   "metadata": {},
   "outputs": [
    {
     "name": "stdout",
     "output_type": "stream",
     "text": [
      "dlroW olleH\n"
     ]
    }
   ],
   "source": [
    "a = 'Hello World'\n",
    "print(a[::-1])"
   ]
  },
  {
   "cell_type": "markdown",
   "id": "07db250e",
   "metadata": {},
   "source": [
    "# 문자열 함수"
   ]
  },
  {
   "cell_type": "markdown",
   "id": "1c66df6e",
   "metadata": {},
   "source": [
    "## 문자열 교체하기"
   ]
  },
  {
   "cell_type": "markdown",
   "id": "45f3fe03",
   "metadata": {},
   "source": [
    "* 문자열.replace(찾을문자열,교체할문자열)"
   ]
  },
  {
   "cell_type": "code",
   "execution_count": 73,
   "id": "ad971458",
   "metadata": {},
   "outputs": [
    {
     "name": "stdout",
     "output_type": "stream",
     "text": [
      "나는 딸기우유 좋아. 딸기우유 최고\n"
     ]
    }
   ],
   "source": [
    "a = '나는 초코우유 좋아. 초코우유 최고'\n",
    "\n",
    "# 초코 --> '딸기'로 교체\n",
    "print(a.replace('초코','딸기'))\n"
   ]
  },
  {
   "cell_type": "markdown",
   "id": "177f5fa7",
   "metadata": {},
   "source": [
    "## 문자의 위치 찾기"
   ]
  },
  {
   "cell_type": "markdown",
   "id": "a4cb40c4",
   "metadata": {},
   "source": [
    "* 문자열.find(문자"
   ]
  },
  {
   "cell_type": "code",
   "execution_count": 74,
   "id": "dfa6382d",
   "metadata": {},
   "outputs": [
    {
     "name": "stdout",
     "output_type": "stream",
     "text": [
      "1\n",
      "2\n"
     ]
    }
   ],
   "source": [
    " a = 'Hello, Python!!!'\n",
    "\n",
    "# 'e'의 위치 찾기\n",
    "print(a.find('e'))\n",
    "\n",
    "# 'l'의 위치 찾기\n",
    "print(a.find('l'))"
   ]
  },
  {
   "cell_type": "markdown",
   "id": "09c25450",
   "metadata": {},
   "source": [
    "# 소문자로 변환하기"
   ]
  },
  {
   "cell_type": "markdown",
   "id": "56c6350d",
   "metadata": {},
   "source": [
    "* 문자열.lower()"
   ]
  },
  {
   "cell_type": "code",
   "execution_count": 76,
   "id": "2a01c882",
   "metadata": {},
   "outputs": [
    {
     "data": {
      "text/plain": [
       "'hello, python!!!'"
      ]
     },
     "execution_count": 76,
     "metadata": {},
     "output_type": "execute_result"
    }
   ],
   "source": [
    "a = 'Hello, Python!!!'\n",
    "a.lower()"
   ]
  },
  {
   "cell_type": "markdown",
   "id": "7f6d420c",
   "metadata": {},
   "source": [
    "# 대문자로 변환하기"
   ]
  },
  {
   "cell_type": "markdown",
   "id": "3832e2a8",
   "metadata": {},
   "source": [
    "* 문자열.upper()"
   ]
  },
  {
   "cell_type": "markdown",
   "id": "98bdc559",
   "metadata": {},
   "source": [
    "a = 'Hello, Python!!!'\n",
    "a.upper()"
   ]
  },
  {
   "cell_type": "markdown",
   "id": "2a7cdecc",
   "metadata": {},
   "source": [
    "# 문자열 나누기"
   ]
  },
  {
   "cell_type": "markdown",
   "id": "36df3fe0",
   "metadata": {},
   "source": [
    "* 문자열.split(구분자)"
   ]
  },
  {
   "cell_type": "code",
   "execution_count": 81,
   "id": "54ff1c99",
   "metadata": {},
   "outputs": [
    {
     "data": {
      "text/plain": [
       "['010', '123', '4567']"
      ]
     },
     "execution_count": 81,
     "metadata": {},
     "output_type": "execute_result"
    }
   ],
   "source": [
    "phone = '010-123-4567'\n",
    "phone.split('-') "
   ]
  },
  {
   "cell_type": "markdown",
   "id": "3c1488cc",
   "metadata": {},
   "source": [
    "email = 'drwill@naver.com'\n",
    "email.split('@')"
   ]
  },
  {
   "cell_type": "markdown",
   "id": "daf2b945",
   "metadata": {},
   "source": [
    "# 연습문제"
   ]
  },
  {
   "cell_type": "markdown",
   "id": "695555ba",
   "metadata": {},
   "source": [
    "* 사용자의 영문 이름을 입력받아 성과 이름 순서를 바꾸어서 출력하는 프로그램을 작성하세요.\n",
    "성과 이름은 공백으로 구분합니다"
   ]
  },
  {
   "cell_type": "code",
   "execution_count": 83,
   "id": "5886a6f2",
   "metadata": {},
   "outputs": [
    {
     "name": "stdout",
     "output_type": "stream",
     "text": [
      "영문이름(성과 이름은 공백으로 구분하세요):lee sunghyun\n",
      "3\n",
      "lee\n",
      "sunghyun\n",
      "sunghyun lee\n"
     ]
    }
   ],
   "source": [
    "# 사용자의 영문이름 입력받기 (성과 이름은 공백으로 구분)\n",
    "full_name = input('영문이름(성과 이름은 공백으로 구분하세요):')\n",
    "\n",
    "# 공백의 위치 찾기\n",
    "space = full_name.find(' ')\n",
    "print(space)\n",
    "# 성, 이름을 슬라이싱하여 각각 변수에 담기\n",
    "first_name = full_name[:space]\n",
    "last_name = full_name[space+1:]\n",
    "\n",
    "print(first_name)\n",
    "print(last_name)\n",
    "\n",
    "# 성, 이름의 순서를 바꾸어 출력하기\n",
    "print(last_name, first_name)"
   ]
  },
  {
   "cell_type": "code",
   "execution_count": null,
   "id": "7ec0d039",
   "metadata": {},
   "outputs": [],
   "source": []
  }
 ],
 "metadata": {
  "kernelspec": {
   "display_name": "Python 3 (ipykernel)",
   "language": "python",
   "name": "python3"
  },
  "language_info": {
   "codemirror_mode": {
    "name": "ipython",
    "version": 3
   },
   "file_extension": ".py",
   "mimetype": "text/x-python",
   "name": "python",
   "nbconvert_exporter": "python",
   "pygments_lexer": "ipython3",
   "version": "3.9.7"
  }
 },
 "nbformat": 4,
 "nbformat_minor": 5
}
